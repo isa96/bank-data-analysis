{
 "cells": [
  {
   "cell_type": "markdown",
   "id": "afa4141f-730a-465f-b319-66920d628af8",
   "metadata": {
    "id": "afa4141f-730a-465f-b319-66920d628af8"
   },
   "source": [
    "# CLASSIFICATION: BANK FULL"
   ]
  },
  {
   "cell_type": "markdown",
   "id": "323aeb5c-0dc4-409e-8c0c-f09391fcf18c",
   "metadata": {
    "id": "323aeb5c-0dc4-409e-8c0c-f09391fcf18c",
    "tags": []
   },
   "source": [
    "## Relevant Information\n",
    "\n",
    "   The data is related with direct marketing campaigns of a Portuguese banking institution. \n",
    "   The marketing campaigns were based on phone calls. Often, more than one contact to the same client was required, \n",
    "   in order to access if the product (bank term deposit) would be (or not) subscribed. \n",
    "\n",
    "Number of Instances: 45211 for bank-full.csv\n",
    "\n",
    "Number of Attributes: 16 + output attribute.\n",
    "\n",
    "### Attribute information\n",
    "\n",
    "   Input variables:\n",
    "   \n",
    "   1. age (numeric)\n",
    "   \n",
    "   2. job : type of job (categorical: \"admin.\",\"unknown\",\"unemployed\",\"management\",\"housemaid\",\"entrepreneur\",\"student\", \"blue-collar\",\"self-employed\",\"retired\",\"technician\",\"services\") \n",
    "                                       \n",
    "   3. marital : marital status (categorical: \"married\",\"divorced\",\"single\"; note: \"divorced\" means divorced or widowed)\n",
    "   \n",
    "   4. education (categorical: \"unknown\",\"secondary\",\"primary\",\"tertiary\")\n",
    "   \n",
    "   5. default: has credit in default? (binary: \"yes\",\"no\")\n",
    "   \n",
    "   6. balance: average yearly balance, in euros (numeric) \n",
    "   \n",
    "   7. housing: has housing loan? (binary: \"yes\",\"no\")\n",
    "   \n",
    "   8. loan: has personal loan? (binary: \"yes\",\"no\")\n",
    "   \n",
    "   9. contact: contact communication type (categorical: \"unknown\",\"telephone\",\"cellular\") \n",
    "\n",
    "   \n",
    "  10. day: last contact day of the month (numeric)\n",
    "  \n",
    "  11. month: last contact month of year (categorical: \"jan\", \"feb\", \"mar\", ..., \"nov\", \"dec\")\n",
    "  \n",
    "  12. duration: last contact duration, in seconds (numeric)\n",
    "  \n",
    "  13. campaign: number of contacts performed during this campaign and for this client (numeric, includes last contact)\n",
    "  \n",
    "  14. pdays: number of days that passed by after the client was last contacted from a previous campaign (numeric, -1 means client was not previously contacted)\n",
    "  \n",
    "  15. previous: number of contacts performed before this campaign and for this client (numeric)\n",
    "  \n",
    "  16. poutcome: outcome of the previous marketing campaign (categorical: \"unknown\",\"other\",\"failure\",\"success\")\n",
    "\n",
    "  Output variable (desired target):\n",
    "  \n",
    "  17. y: has the client subscribed a term deposit? (binary: \"yes\",\"no\")"
   ]
  },
  {
   "cell_type": "markdown",
   "id": "c2d6cd79-f592-4b96-bf8a-0381c3427663",
   "metadata": {
    "id": "c2d6cd79-f592-4b96-bf8a-0381c3427663"
   },
   "source": [
    "## IMPORT LIBRARY"
   ]
  },
  {
   "cell_type": "code",
   "execution_count": 31,
   "id": "kPFguSY5reOg",
   "metadata": {
    "id": "kPFguSY5reOg"
   },
   "outputs": [],
   "source": [
    "import pandas as pd\n",
    "import numpy as np\n",
    "import seaborn as sns\n",
    "import matplotlib.pyplot as plt\n",
    "\n",
    "import warnings\n",
    "warnings.filterwarnings(\"ignore\")\n",
    "\n",
    "from scipy import stats as ss\n",
    "import statsmodels.api as sm\n",
    "\n",
    "# Encode\n",
    "from sklearn.preprocessing import LabelEncoder, OrdinalEncoder, OneHotEncoder\n",
    "\n",
    "# Scaling\n",
    "from sklearn.preprocessing import StandardScaler, MinMaxScaler, RobustScaler\n",
    "\n",
    "# Selection\n",
    "from sklearn.feature_selection import SelectKBest, chi2, f_classif, f_regression\n",
    "from sklearn.ensemble import ExtraTreesClassifier, ExtraTreesRegressor\n",
    "\n",
    "# Modeling\n",
    "from sklearn.model_selection import train_test_split, KFold, cross_val_score, cross_validate\n",
    "from sklearn.linear_model import LinearRegression\n",
    "from sklearn import metrics\n",
    "from sklearn.tree import DecisionTreeClassifier, plot_tree, export_graphviz\n",
    "from sklearn.linear_model import LogisticRegression\n",
    "from sklearn.metrics import confusion_matrix, classification_report, accuracy_score, recall_score, roc_auc_score, roc_curve, precision_score, f1_score\n",
    "\n",
    "from statsmodels.stats.outliers_influence import variance_inflation_factor\n",
    "\n",
    "# Handling imbalanced data\n",
    "from imblearn.over_sampling import SMOTE\n",
    "\n",
    "# Hyperparameter tuning\n",
    "from sklearn.model_selection import RandomizedSearchCV, GridSearchCV\n",
    "\n",
    "# Ensembel\n",
    "from sklearn.ensemble import RandomForestClassifier, AdaBoostClassifier, ExtraTreesClassifier, StackingClassifier, GradientBoostingClassifier\n",
    "\n",
    "# Pipeline\n",
    "from sklearn.base import BaseEstimator, TransformerMixin\n",
    "from imblearn.pipeline import Pipeline\n",
    "from sklearn.pipeline import make_pipeline\n",
    "from sklearn.compose import ColumnTransformer, make_column_transformer\n",
    "from imblearn import FunctionSampler"
   ]
  },
  {
   "cell_type": "markdown",
   "id": "6fda070e-3ecd-4e3b-91c2-93940446980b",
   "metadata": {
    "id": "6fda070e-3ecd-4e3b-91c2-93940446980b"
   },
   "source": [
    "## OVERVIEW"
   ]
  },
  {
   "cell_type": "markdown",
   "id": "5Axz8Pjyeaia",
   "metadata": {
    "id": "5Axz8Pjyeaia"
   },
   "source": [
    "Import dataset"
   ]
  },
  {
   "cell_type": "code",
   "execution_count": 2,
   "id": "97779b8a-a8f7-4be9-99e2-e342a2bce16c",
   "metadata": {
    "id": "97779b8a-a8f7-4be9-99e2-e342a2bce16c"
   },
   "outputs": [],
   "source": [
    "df = pd.read_csv(\"bank-full.csv\", delimiter=\";\")"
   ]
  },
  {
   "cell_type": "code",
   "execution_count": 3,
   "id": "9d4c05c3-105b-4876-b261-f2d91afd91a8",
   "metadata": {
    "colab": {
     "base_uri": "https://localhost:8080/",
     "height": 206
    },
    "id": "9d4c05c3-105b-4876-b261-f2d91afd91a8",
    "outputId": "113c5f02-accd-4ff3-993f-ed942cfac9db"
   },
   "outputs": [
    {
     "data": {
      "text/html": [
       "\n",
       "  <div id=\"df-0891f558-1f29-4692-8a93-53e6726dce4e\">\n",
       "    <div class=\"colab-df-container\">\n",
       "      <div>\n",
       "<style scoped>\n",
       "    .dataframe tbody tr th:only-of-type {\n",
       "        vertical-align: middle;\n",
       "    }\n",
       "\n",
       "    .dataframe tbody tr th {\n",
       "        vertical-align: top;\n",
       "    }\n",
       "\n",
       "    .dataframe thead th {\n",
       "        text-align: right;\n",
       "    }\n",
       "</style>\n",
       "<table border=\"1\" class=\"dataframe\">\n",
       "  <thead>\n",
       "    <tr style=\"text-align: right;\">\n",
       "      <th></th>\n",
       "      <th>age</th>\n",
       "      <th>job</th>\n",
       "      <th>marital</th>\n",
       "      <th>education</th>\n",
       "      <th>default</th>\n",
       "      <th>balance</th>\n",
       "      <th>housing</th>\n",
       "      <th>loan</th>\n",
       "      <th>contact</th>\n",
       "      <th>day</th>\n",
       "      <th>month</th>\n",
       "      <th>duration</th>\n",
       "      <th>campaign</th>\n",
       "      <th>pdays</th>\n",
       "      <th>previous</th>\n",
       "      <th>poutcome</th>\n",
       "      <th>y</th>\n",
       "    </tr>\n",
       "  </thead>\n",
       "  <tbody>\n",
       "    <tr>\n",
       "      <th>0</th>\n",
       "      <td>58</td>\n",
       "      <td>management</td>\n",
       "      <td>married</td>\n",
       "      <td>tertiary</td>\n",
       "      <td>no</td>\n",
       "      <td>2143</td>\n",
       "      <td>yes</td>\n",
       "      <td>no</td>\n",
       "      <td>unknown</td>\n",
       "      <td>5</td>\n",
       "      <td>may</td>\n",
       "      <td>261</td>\n",
       "      <td>1</td>\n",
       "      <td>-1</td>\n",
       "      <td>0</td>\n",
       "      <td>unknown</td>\n",
       "      <td>no</td>\n",
       "    </tr>\n",
       "    <tr>\n",
       "      <th>1</th>\n",
       "      <td>44</td>\n",
       "      <td>technician</td>\n",
       "      <td>single</td>\n",
       "      <td>secondary</td>\n",
       "      <td>no</td>\n",
       "      <td>29</td>\n",
       "      <td>yes</td>\n",
       "      <td>no</td>\n",
       "      <td>unknown</td>\n",
       "      <td>5</td>\n",
       "      <td>may</td>\n",
       "      <td>151</td>\n",
       "      <td>1</td>\n",
       "      <td>-1</td>\n",
       "      <td>0</td>\n",
       "      <td>unknown</td>\n",
       "      <td>no</td>\n",
       "    </tr>\n",
       "    <tr>\n",
       "      <th>2</th>\n",
       "      <td>33</td>\n",
       "      <td>entrepreneur</td>\n",
       "      <td>married</td>\n",
       "      <td>secondary</td>\n",
       "      <td>no</td>\n",
       "      <td>2</td>\n",
       "      <td>yes</td>\n",
       "      <td>yes</td>\n",
       "      <td>unknown</td>\n",
       "      <td>5</td>\n",
       "      <td>may</td>\n",
       "      <td>76</td>\n",
       "      <td>1</td>\n",
       "      <td>-1</td>\n",
       "      <td>0</td>\n",
       "      <td>unknown</td>\n",
       "      <td>no</td>\n",
       "    </tr>\n",
       "    <tr>\n",
       "      <th>3</th>\n",
       "      <td>47</td>\n",
       "      <td>blue-collar</td>\n",
       "      <td>married</td>\n",
       "      <td>unknown</td>\n",
       "      <td>no</td>\n",
       "      <td>1506</td>\n",
       "      <td>yes</td>\n",
       "      <td>no</td>\n",
       "      <td>unknown</td>\n",
       "      <td>5</td>\n",
       "      <td>may</td>\n",
       "      <td>92</td>\n",
       "      <td>1</td>\n",
       "      <td>-1</td>\n",
       "      <td>0</td>\n",
       "      <td>unknown</td>\n",
       "      <td>no</td>\n",
       "    </tr>\n",
       "    <tr>\n",
       "      <th>4</th>\n",
       "      <td>33</td>\n",
       "      <td>unknown</td>\n",
       "      <td>single</td>\n",
       "      <td>unknown</td>\n",
       "      <td>no</td>\n",
       "      <td>1</td>\n",
       "      <td>no</td>\n",
       "      <td>no</td>\n",
       "      <td>unknown</td>\n",
       "      <td>5</td>\n",
       "      <td>may</td>\n",
       "      <td>198</td>\n",
       "      <td>1</td>\n",
       "      <td>-1</td>\n",
       "      <td>0</td>\n",
       "      <td>unknown</td>\n",
       "      <td>no</td>\n",
       "    </tr>\n",
       "  </tbody>\n",
       "</table>\n",
       "</div>\n",
       "      <button class=\"colab-df-convert\" onclick=\"convertToInteractive('df-0891f558-1f29-4692-8a93-53e6726dce4e')\"\n",
       "              title=\"Convert this dataframe to an interactive table.\"\n",
       "              style=\"display:none;\">\n",
       "        \n",
       "  <svg xmlns=\"http://www.w3.org/2000/svg\" height=\"24px\"viewBox=\"0 0 24 24\"\n",
       "       width=\"24px\">\n",
       "    <path d=\"M0 0h24v24H0V0z\" fill=\"none\"/>\n",
       "    <path d=\"M18.56 5.44l.94 2.06.94-2.06 2.06-.94-2.06-.94-.94-2.06-.94 2.06-2.06.94zm-11 1L8.5 8.5l.94-2.06 2.06-.94-2.06-.94L8.5 2.5l-.94 2.06-2.06.94zm10 10l.94 2.06.94-2.06 2.06-.94-2.06-.94-.94-2.06-.94 2.06-2.06.94z\"/><path d=\"M17.41 7.96l-1.37-1.37c-.4-.4-.92-.59-1.43-.59-.52 0-1.04.2-1.43.59L10.3 9.45l-7.72 7.72c-.78.78-.78 2.05 0 2.83L4 21.41c.39.39.9.59 1.41.59.51 0 1.02-.2 1.41-.59l7.78-7.78 2.81-2.81c.8-.78.8-2.07 0-2.86zM5.41 20L4 18.59l7.72-7.72 1.47 1.35L5.41 20z\"/>\n",
       "  </svg>\n",
       "      </button>\n",
       "      \n",
       "  <style>\n",
       "    .colab-df-container {\n",
       "      display:flex;\n",
       "      flex-wrap:wrap;\n",
       "      gap: 12px;\n",
       "    }\n",
       "\n",
       "    .colab-df-convert {\n",
       "      background-color: #E8F0FE;\n",
       "      border: none;\n",
       "      border-radius: 50%;\n",
       "      cursor: pointer;\n",
       "      display: none;\n",
       "      fill: #1967D2;\n",
       "      height: 32px;\n",
       "      padding: 0 0 0 0;\n",
       "      width: 32px;\n",
       "    }\n",
       "\n",
       "    .colab-df-convert:hover {\n",
       "      background-color: #E2EBFA;\n",
       "      box-shadow: 0px 1px 2px rgba(60, 64, 67, 0.3), 0px 1px 3px 1px rgba(60, 64, 67, 0.15);\n",
       "      fill: #174EA6;\n",
       "    }\n",
       "\n",
       "    [theme=dark] .colab-df-convert {\n",
       "      background-color: #3B4455;\n",
       "      fill: #D2E3FC;\n",
       "    }\n",
       "\n",
       "    [theme=dark] .colab-df-convert:hover {\n",
       "      background-color: #434B5C;\n",
       "      box-shadow: 0px 1px 3px 1px rgba(0, 0, 0, 0.15);\n",
       "      filter: drop-shadow(0px 1px 2px rgba(0, 0, 0, 0.3));\n",
       "      fill: #FFFFFF;\n",
       "    }\n",
       "  </style>\n",
       "\n",
       "      <script>\n",
       "        const buttonEl =\n",
       "          document.querySelector('#df-0891f558-1f29-4692-8a93-53e6726dce4e button.colab-df-convert');\n",
       "        buttonEl.style.display =\n",
       "          google.colab.kernel.accessAllowed ? 'block' : 'none';\n",
       "\n",
       "        async function convertToInteractive(key) {\n",
       "          const element = document.querySelector('#df-0891f558-1f29-4692-8a93-53e6726dce4e');\n",
       "          const dataTable =\n",
       "            await google.colab.kernel.invokeFunction('convertToInteractive',\n",
       "                                                     [key], {});\n",
       "          if (!dataTable) return;\n",
       "\n",
       "          const docLinkHtml = 'Like what you see? Visit the ' +\n",
       "            '<a target=\"_blank\" href=https://colab.research.google.com/notebooks/data_table.ipynb>data table notebook</a>'\n",
       "            + ' to learn more about interactive tables.';\n",
       "          element.innerHTML = '';\n",
       "          dataTable['output_type'] = 'display_data';\n",
       "          await google.colab.output.renderOutput(dataTable, element);\n",
       "          const docLink = document.createElement('div');\n",
       "          docLink.innerHTML = docLinkHtml;\n",
       "          element.appendChild(docLink);\n",
       "        }\n",
       "      </script>\n",
       "    </div>\n",
       "  </div>\n",
       "  "
      ],
      "text/plain": [
       "   age           job  marital  education default  balance housing loan  \\\n",
       "0   58    management  married   tertiary      no     2143     yes   no   \n",
       "1   44    technician   single  secondary      no       29     yes   no   \n",
       "2   33  entrepreneur  married  secondary      no        2     yes  yes   \n",
       "3   47   blue-collar  married    unknown      no     1506     yes   no   \n",
       "4   33       unknown   single    unknown      no        1      no   no   \n",
       "\n",
       "   contact  day month  duration  campaign  pdays  previous poutcome   y  \n",
       "0  unknown    5   may       261         1     -1         0  unknown  no  \n",
       "1  unknown    5   may       151         1     -1         0  unknown  no  \n",
       "2  unknown    5   may        76         1     -1         0  unknown  no  \n",
       "3  unknown    5   may        92         1     -1         0  unknown  no  \n",
       "4  unknown    5   may       198         1     -1         0  unknown  no  "
      ]
     },
     "execution_count": 3,
     "metadata": {},
     "output_type": "execute_result"
    }
   ],
   "source": [
    "df.head()"
   ]
  },
  {
   "cell_type": "markdown",
   "id": "g61POGeRefnH",
   "metadata": {
    "id": "g61POGeRefnH"
   },
   "source": [
    "Dataset Information"
   ]
  },
  {
   "cell_type": "code",
   "execution_count": 4,
   "id": "oWJpHMZ1rrzD",
   "metadata": {
    "colab": {
     "base_uri": "https://localhost:8080/"
    },
    "id": "oWJpHMZ1rrzD",
    "outputId": "3e879b1c-aa43-4fb6-f5c8-135940b69595"
   },
   "outputs": [
    {
     "name": "stdout",
     "output_type": "stream",
     "text": [
      "<class 'pandas.core.frame.DataFrame'>\n",
      "RangeIndex: 45211 entries, 0 to 45210\n",
      "Data columns (total 17 columns):\n",
      " #   Column     Non-Null Count  Dtype \n",
      "---  ------     --------------  ----- \n",
      " 0   age        45211 non-null  int64 \n",
      " 1   job        45211 non-null  object\n",
      " 2   marital    45211 non-null  object\n",
      " 3   education  45211 non-null  object\n",
      " 4   default    45211 non-null  object\n",
      " 5   balance    45211 non-null  int64 \n",
      " 6   housing    45211 non-null  object\n",
      " 7   loan       45211 non-null  object\n",
      " 8   contact    45211 non-null  object\n",
      " 9   day        45211 non-null  int64 \n",
      " 10  month      45211 non-null  object\n",
      " 11  duration   45211 non-null  int64 \n",
      " 12  campaign   45211 non-null  int64 \n",
      " 13  pdays      45211 non-null  int64 \n",
      " 14  previous   45211 non-null  int64 \n",
      " 15  poutcome   45211 non-null  object\n",
      " 16  y          45211 non-null  object\n",
      "dtypes: int64(7), object(10)\n",
      "memory usage: 5.9+ MB\n"
     ]
    }
   ],
   "source": [
    "df.info()"
   ]
  },
  {
   "cell_type": "code",
   "execution_count": 5,
   "id": "19172898-59d7-4ea3-8eba-f5edc075bca7",
   "metadata": {
    "colab": {
     "base_uri": "https://localhost:8080/",
     "height": 582
    },
    "id": "19172898-59d7-4ea3-8eba-f5edc075bca7",
    "outputId": "87327c64-2a32-4f4c-f588-88fbe3dd85aa"
   },
   "outputs": [
    {
     "data": {
      "text/html": [
       "\n",
       "  <div id=\"df-d7afc6e9-375a-4ca0-9362-41de04025a26\">\n",
       "    <div class=\"colab-df-container\">\n",
       "      <div>\n",
       "<style scoped>\n",
       "    .dataframe tbody tr th:only-of-type {\n",
       "        vertical-align: middle;\n",
       "    }\n",
       "\n",
       "    .dataframe tbody tr th {\n",
       "        vertical-align: top;\n",
       "    }\n",
       "\n",
       "    .dataframe thead th {\n",
       "        text-align: right;\n",
       "    }\n",
       "</style>\n",
       "<table border=\"1\" class=\"dataframe\">\n",
       "  <thead>\n",
       "    <tr style=\"text-align: right;\">\n",
       "      <th></th>\n",
       "      <th>Features</th>\n",
       "      <th>dataType</th>\n",
       "      <th>nullvalues</th>\n",
       "      <th>unique</th>\n",
       "      <th>uniqueSample</th>\n",
       "    </tr>\n",
       "  </thead>\n",
       "  <tbody>\n",
       "    <tr>\n",
       "      <th>0</th>\n",
       "      <td>age</td>\n",
       "      <td>int64</td>\n",
       "      <td>0</td>\n",
       "      <td>77</td>\n",
       "      <td>[58, 44, 33, 47, 35, 28, 42, 43, 41, 29, 53, 5...</td>\n",
       "    </tr>\n",
       "    <tr>\n",
       "      <th>1</th>\n",
       "      <td>job</td>\n",
       "      <td>object</td>\n",
       "      <td>0</td>\n",
       "      <td>12</td>\n",
       "      <td>[management, technician, entrepreneur, blue-co...</td>\n",
       "    </tr>\n",
       "    <tr>\n",
       "      <th>2</th>\n",
       "      <td>marital</td>\n",
       "      <td>object</td>\n",
       "      <td>0</td>\n",
       "      <td>3</td>\n",
       "      <td>[married, single, divorced]</td>\n",
       "    </tr>\n",
       "    <tr>\n",
       "      <th>3</th>\n",
       "      <td>education</td>\n",
       "      <td>object</td>\n",
       "      <td>0</td>\n",
       "      <td>4</td>\n",
       "      <td>[tertiary, secondary, unknown, primary]</td>\n",
       "    </tr>\n",
       "    <tr>\n",
       "      <th>4</th>\n",
       "      <td>default</td>\n",
       "      <td>object</td>\n",
       "      <td>0</td>\n",
       "      <td>2</td>\n",
       "      <td>[no, yes]</td>\n",
       "    </tr>\n",
       "    <tr>\n",
       "      <th>5</th>\n",
       "      <td>balance</td>\n",
       "      <td>int64</td>\n",
       "      <td>0</td>\n",
       "      <td>7168</td>\n",
       "      <td>[2143, 29, 2, 1506, 1, 231, 447, 121, 593, 270...</td>\n",
       "    </tr>\n",
       "    <tr>\n",
       "      <th>6</th>\n",
       "      <td>housing</td>\n",
       "      <td>object</td>\n",
       "      <td>0</td>\n",
       "      <td>2</td>\n",
       "      <td>[yes, no]</td>\n",
       "    </tr>\n",
       "    <tr>\n",
       "      <th>7</th>\n",
       "      <td>loan</td>\n",
       "      <td>object</td>\n",
       "      <td>0</td>\n",
       "      <td>2</td>\n",
       "      <td>[no, yes]</td>\n",
       "    </tr>\n",
       "    <tr>\n",
       "      <th>8</th>\n",
       "      <td>contact</td>\n",
       "      <td>object</td>\n",
       "      <td>0</td>\n",
       "      <td>3</td>\n",
       "      <td>[unknown, cellular, telephone]</td>\n",
       "    </tr>\n",
       "    <tr>\n",
       "      <th>9</th>\n",
       "      <td>day</td>\n",
       "      <td>int64</td>\n",
       "      <td>0</td>\n",
       "      <td>31</td>\n",
       "      <td>[5, 6, 7, 8, 9, 12, 13, 14, 15, 16, 19, 20, 21...</td>\n",
       "    </tr>\n",
       "    <tr>\n",
       "      <th>10</th>\n",
       "      <td>month</td>\n",
       "      <td>object</td>\n",
       "      <td>0</td>\n",
       "      <td>12</td>\n",
       "      <td>[may, jun, jul, aug, oct, nov, dec, jan, feb, ...</td>\n",
       "    </tr>\n",
       "    <tr>\n",
       "      <th>11</th>\n",
       "      <td>duration</td>\n",
       "      <td>int64</td>\n",
       "      <td>0</td>\n",
       "      <td>1573</td>\n",
       "      <td>[261, 151, 76, 92, 198, 139, 217, 380, 50, 55,...</td>\n",
       "    </tr>\n",
       "    <tr>\n",
       "      <th>12</th>\n",
       "      <td>campaign</td>\n",
       "      <td>int64</td>\n",
       "      <td>0</td>\n",
       "      <td>48</td>\n",
       "      <td>[1, 2, 3, 5, 4, 6, 7, 8, 9, 10, 11, 12, 13, 19...</td>\n",
       "    </tr>\n",
       "    <tr>\n",
       "      <th>13</th>\n",
       "      <td>pdays</td>\n",
       "      <td>int64</td>\n",
       "      <td>0</td>\n",
       "      <td>559</td>\n",
       "      <td>[-1, 151, 166, 91, 86, 143, 147, 89, 140, 176,...</td>\n",
       "    </tr>\n",
       "    <tr>\n",
       "      <th>14</th>\n",
       "      <td>previous</td>\n",
       "      <td>int64</td>\n",
       "      <td>0</td>\n",
       "      <td>41</td>\n",
       "      <td>[0, 3, 1, 4, 2, 11, 16, 6, 5, 10, 12, 7, 18, 9...</td>\n",
       "    </tr>\n",
       "    <tr>\n",
       "      <th>15</th>\n",
       "      <td>poutcome</td>\n",
       "      <td>object</td>\n",
       "      <td>0</td>\n",
       "      <td>4</td>\n",
       "      <td>[unknown, failure, other, success]</td>\n",
       "    </tr>\n",
       "    <tr>\n",
       "      <th>16</th>\n",
       "      <td>y</td>\n",
       "      <td>object</td>\n",
       "      <td>0</td>\n",
       "      <td>2</td>\n",
       "      <td>[no, yes]</td>\n",
       "    </tr>\n",
       "  </tbody>\n",
       "</table>\n",
       "</div>\n",
       "      <button class=\"colab-df-convert\" onclick=\"convertToInteractive('df-d7afc6e9-375a-4ca0-9362-41de04025a26')\"\n",
       "              title=\"Convert this dataframe to an interactive table.\"\n",
       "              style=\"display:none;\">\n",
       "        \n",
       "  <svg xmlns=\"http://www.w3.org/2000/svg\" height=\"24px\"viewBox=\"0 0 24 24\"\n",
       "       width=\"24px\">\n",
       "    <path d=\"M0 0h24v24H0V0z\" fill=\"none\"/>\n",
       "    <path d=\"M18.56 5.44l.94 2.06.94-2.06 2.06-.94-2.06-.94-.94-2.06-.94 2.06-2.06.94zm-11 1L8.5 8.5l.94-2.06 2.06-.94-2.06-.94L8.5 2.5l-.94 2.06-2.06.94zm10 10l.94 2.06.94-2.06 2.06-.94-2.06-.94-.94-2.06-.94 2.06-2.06.94z\"/><path d=\"M17.41 7.96l-1.37-1.37c-.4-.4-.92-.59-1.43-.59-.52 0-1.04.2-1.43.59L10.3 9.45l-7.72 7.72c-.78.78-.78 2.05 0 2.83L4 21.41c.39.39.9.59 1.41.59.51 0 1.02-.2 1.41-.59l7.78-7.78 2.81-2.81c.8-.78.8-2.07 0-2.86zM5.41 20L4 18.59l7.72-7.72 1.47 1.35L5.41 20z\"/>\n",
       "  </svg>\n",
       "      </button>\n",
       "      \n",
       "  <style>\n",
       "    .colab-df-container {\n",
       "      display:flex;\n",
       "      flex-wrap:wrap;\n",
       "      gap: 12px;\n",
       "    }\n",
       "\n",
       "    .colab-df-convert {\n",
       "      background-color: #E8F0FE;\n",
       "      border: none;\n",
       "      border-radius: 50%;\n",
       "      cursor: pointer;\n",
       "      display: none;\n",
       "      fill: #1967D2;\n",
       "      height: 32px;\n",
       "      padding: 0 0 0 0;\n",
       "      width: 32px;\n",
       "    }\n",
       "\n",
       "    .colab-df-convert:hover {\n",
       "      background-color: #E2EBFA;\n",
       "      box-shadow: 0px 1px 2px rgba(60, 64, 67, 0.3), 0px 1px 3px 1px rgba(60, 64, 67, 0.15);\n",
       "      fill: #174EA6;\n",
       "    }\n",
       "\n",
       "    [theme=dark] .colab-df-convert {\n",
       "      background-color: #3B4455;\n",
       "      fill: #D2E3FC;\n",
       "    }\n",
       "\n",
       "    [theme=dark] .colab-df-convert:hover {\n",
       "      background-color: #434B5C;\n",
       "      box-shadow: 0px 1px 3px 1px rgba(0, 0, 0, 0.15);\n",
       "      filter: drop-shadow(0px 1px 2px rgba(0, 0, 0, 0.3));\n",
       "      fill: #FFFFFF;\n",
       "    }\n",
       "  </style>\n",
       "\n",
       "      <script>\n",
       "        const buttonEl =\n",
       "          document.querySelector('#df-d7afc6e9-375a-4ca0-9362-41de04025a26 button.colab-df-convert');\n",
       "        buttonEl.style.display =\n",
       "          google.colab.kernel.accessAllowed ? 'block' : 'none';\n",
       "\n",
       "        async function convertToInteractive(key) {\n",
       "          const element = document.querySelector('#df-d7afc6e9-375a-4ca0-9362-41de04025a26');\n",
       "          const dataTable =\n",
       "            await google.colab.kernel.invokeFunction('convertToInteractive',\n",
       "                                                     [key], {});\n",
       "          if (!dataTable) return;\n",
       "\n",
       "          const docLinkHtml = 'Like what you see? Visit the ' +\n",
       "            '<a target=\"_blank\" href=https://colab.research.google.com/notebooks/data_table.ipynb>data table notebook</a>'\n",
       "            + ' to learn more about interactive tables.';\n",
       "          element.innerHTML = '';\n",
       "          dataTable['output_type'] = 'display_data';\n",
       "          await google.colab.output.renderOutput(dataTable, element);\n",
       "          const docLink = document.createElement('div');\n",
       "          docLink.innerHTML = docLinkHtml;\n",
       "          element.appendChild(docLink);\n",
       "        }\n",
       "      </script>\n",
       "    </div>\n",
       "  </div>\n",
       "  "
      ],
      "text/plain": [
       "     Features dataType  nullvalues  unique  \\\n",
       "0         age    int64           0      77   \n",
       "1         job   object           0      12   \n",
       "2     marital   object           0       3   \n",
       "3   education   object           0       4   \n",
       "4     default   object           0       2   \n",
       "5     balance    int64           0    7168   \n",
       "6     housing   object           0       2   \n",
       "7        loan   object           0       2   \n",
       "8     contact   object           0       3   \n",
       "9         day    int64           0      31   \n",
       "10      month   object           0      12   \n",
       "11   duration    int64           0    1573   \n",
       "12   campaign    int64           0      48   \n",
       "13      pdays    int64           0     559   \n",
       "14   previous    int64           0      41   \n",
       "15   poutcome   object           0       4   \n",
       "16          y   object           0       2   \n",
       "\n",
       "                                         uniqueSample  \n",
       "0   [58, 44, 33, 47, 35, 28, 42, 43, 41, 29, 53, 5...  \n",
       "1   [management, technician, entrepreneur, blue-co...  \n",
       "2                         [married, single, divorced]  \n",
       "3             [tertiary, secondary, unknown, primary]  \n",
       "4                                           [no, yes]  \n",
       "5   [2143, 29, 2, 1506, 1, 231, 447, 121, 593, 270...  \n",
       "6                                           [yes, no]  \n",
       "7                                           [no, yes]  \n",
       "8                      [unknown, cellular, telephone]  \n",
       "9   [5, 6, 7, 8, 9, 12, 13, 14, 15, 16, 19, 20, 21...  \n",
       "10  [may, jun, jul, aug, oct, nov, dec, jan, feb, ...  \n",
       "11  [261, 151, 76, 92, 198, 139, 217, 380, 50, 55,...  \n",
       "12  [1, 2, 3, 5, 4, 6, 7, 8, 9, 10, 11, 12, 13, 19...  \n",
       "13  [-1, 151, 166, 91, 86, 143, 147, 89, 140, 176,...  \n",
       "14  [0, 3, 1, 4, 2, 11, 16, 6, 5, 10, 12, 7, 18, 9...  \n",
       "15                 [unknown, failure, other, success]  \n",
       "16                                          [no, yes]  "
      ]
     },
     "execution_count": 5,
     "metadata": {},
     "output_type": "execute_result"
    }
   ],
   "source": [
    "pd.DataFrame({'Features': df.columns,\n",
    "              'dataType': df.dtypes.values,\n",
    "              'nullvalues': [df[i].isna().sum() for i in df.columns],\n",
    "              'unique': [df[i].nunique() for i in df.columns],\n",
    "              'uniqueSample': [list(pd.Series(df[i].unique()))\n",
    "                               for i in df.columns]}).reset_index(drop=True)"
   ]
  },
  {
   "cell_type": "markdown",
   "id": "Rl-H5ONirls8",
   "metadata": {
    "id": "Rl-H5ONirls8"
   },
   "source": [
    "> There is 17 columns with 45211 row without missing values"
   ]
  },
  {
   "cell_type": "markdown",
   "id": "wcGRhQGxeiXB",
   "metadata": {
    "id": "wcGRhQGxeiXB"
   },
   "source": [
    "Show tendency"
   ]
  },
  {
   "cell_type": "code",
   "execution_count": 6,
   "id": "6e307336-e4b8-448b-8f8c-4590ec65ca2f",
   "metadata": {
    "colab": {
     "base_uri": "https://localhost:8080/",
     "height": 300
    },
    "id": "6e307336-e4b8-448b-8f8c-4590ec65ca2f",
    "outputId": "895daa57-837a-49c6-804e-1c8247fe1bb3"
   },
   "outputs": [
    {
     "data": {
      "text/html": [
       "\n",
       "  <div id=\"df-afa989e0-546d-488d-9fdf-1a02c079639a\">\n",
       "    <div class=\"colab-df-container\">\n",
       "      <div>\n",
       "<style scoped>\n",
       "    .dataframe tbody tr th:only-of-type {\n",
       "        vertical-align: middle;\n",
       "    }\n",
       "\n",
       "    .dataframe tbody tr th {\n",
       "        vertical-align: top;\n",
       "    }\n",
       "\n",
       "    .dataframe thead th {\n",
       "        text-align: right;\n",
       "    }\n",
       "</style>\n",
       "<table border=\"1\" class=\"dataframe\">\n",
       "  <thead>\n",
       "    <tr style=\"text-align: right;\">\n",
       "      <th></th>\n",
       "      <th>age</th>\n",
       "      <th>balance</th>\n",
       "      <th>day</th>\n",
       "      <th>duration</th>\n",
       "      <th>campaign</th>\n",
       "      <th>pdays</th>\n",
       "      <th>previous</th>\n",
       "    </tr>\n",
       "  </thead>\n",
       "  <tbody>\n",
       "    <tr>\n",
       "      <th>count</th>\n",
       "      <td>45211.000000</td>\n",
       "      <td>45211.000000</td>\n",
       "      <td>45211.000000</td>\n",
       "      <td>45211.000000</td>\n",
       "      <td>45211.000000</td>\n",
       "      <td>45211.000000</td>\n",
       "      <td>45211.000000</td>\n",
       "    </tr>\n",
       "    <tr>\n",
       "      <th>mean</th>\n",
       "      <td>40.936210</td>\n",
       "      <td>1362.272058</td>\n",
       "      <td>15.806419</td>\n",
       "      <td>258.163080</td>\n",
       "      <td>2.763841</td>\n",
       "      <td>40.197828</td>\n",
       "      <td>0.580323</td>\n",
       "    </tr>\n",
       "    <tr>\n",
       "      <th>std</th>\n",
       "      <td>10.618762</td>\n",
       "      <td>3044.765829</td>\n",
       "      <td>8.322476</td>\n",
       "      <td>257.527812</td>\n",
       "      <td>3.098021</td>\n",
       "      <td>100.128746</td>\n",
       "      <td>2.303441</td>\n",
       "    </tr>\n",
       "    <tr>\n",
       "      <th>min</th>\n",
       "      <td>18.000000</td>\n",
       "      <td>-8019.000000</td>\n",
       "      <td>1.000000</td>\n",
       "      <td>0.000000</td>\n",
       "      <td>1.000000</td>\n",
       "      <td>-1.000000</td>\n",
       "      <td>0.000000</td>\n",
       "    </tr>\n",
       "    <tr>\n",
       "      <th>25%</th>\n",
       "      <td>33.000000</td>\n",
       "      <td>72.000000</td>\n",
       "      <td>8.000000</td>\n",
       "      <td>103.000000</td>\n",
       "      <td>1.000000</td>\n",
       "      <td>-1.000000</td>\n",
       "      <td>0.000000</td>\n",
       "    </tr>\n",
       "    <tr>\n",
       "      <th>50%</th>\n",
       "      <td>39.000000</td>\n",
       "      <td>448.000000</td>\n",
       "      <td>16.000000</td>\n",
       "      <td>180.000000</td>\n",
       "      <td>2.000000</td>\n",
       "      <td>-1.000000</td>\n",
       "      <td>0.000000</td>\n",
       "    </tr>\n",
       "    <tr>\n",
       "      <th>75%</th>\n",
       "      <td>48.000000</td>\n",
       "      <td>1428.000000</td>\n",
       "      <td>21.000000</td>\n",
       "      <td>319.000000</td>\n",
       "      <td>3.000000</td>\n",
       "      <td>-1.000000</td>\n",
       "      <td>0.000000</td>\n",
       "    </tr>\n",
       "    <tr>\n",
       "      <th>max</th>\n",
       "      <td>95.000000</td>\n",
       "      <td>102127.000000</td>\n",
       "      <td>31.000000</td>\n",
       "      <td>4918.000000</td>\n",
       "      <td>63.000000</td>\n",
       "      <td>871.000000</td>\n",
       "      <td>275.000000</td>\n",
       "    </tr>\n",
       "  </tbody>\n",
       "</table>\n",
       "</div>\n",
       "      <button class=\"colab-df-convert\" onclick=\"convertToInteractive('df-afa989e0-546d-488d-9fdf-1a02c079639a')\"\n",
       "              title=\"Convert this dataframe to an interactive table.\"\n",
       "              style=\"display:none;\">\n",
       "        \n",
       "  <svg xmlns=\"http://www.w3.org/2000/svg\" height=\"24px\"viewBox=\"0 0 24 24\"\n",
       "       width=\"24px\">\n",
       "    <path d=\"M0 0h24v24H0V0z\" fill=\"none\"/>\n",
       "    <path d=\"M18.56 5.44l.94 2.06.94-2.06 2.06-.94-2.06-.94-.94-2.06-.94 2.06-2.06.94zm-11 1L8.5 8.5l.94-2.06 2.06-.94-2.06-.94L8.5 2.5l-.94 2.06-2.06.94zm10 10l.94 2.06.94-2.06 2.06-.94-2.06-.94-.94-2.06-.94 2.06-2.06.94z\"/><path d=\"M17.41 7.96l-1.37-1.37c-.4-.4-.92-.59-1.43-.59-.52 0-1.04.2-1.43.59L10.3 9.45l-7.72 7.72c-.78.78-.78 2.05 0 2.83L4 21.41c.39.39.9.59 1.41.59.51 0 1.02-.2 1.41-.59l7.78-7.78 2.81-2.81c.8-.78.8-2.07 0-2.86zM5.41 20L4 18.59l7.72-7.72 1.47 1.35L5.41 20z\"/>\n",
       "  </svg>\n",
       "      </button>\n",
       "      \n",
       "  <style>\n",
       "    .colab-df-container {\n",
       "      display:flex;\n",
       "      flex-wrap:wrap;\n",
       "      gap: 12px;\n",
       "    }\n",
       "\n",
       "    .colab-df-convert {\n",
       "      background-color: #E8F0FE;\n",
       "      border: none;\n",
       "      border-radius: 50%;\n",
       "      cursor: pointer;\n",
       "      display: none;\n",
       "      fill: #1967D2;\n",
       "      height: 32px;\n",
       "      padding: 0 0 0 0;\n",
       "      width: 32px;\n",
       "    }\n",
       "\n",
       "    .colab-df-convert:hover {\n",
       "      background-color: #E2EBFA;\n",
       "      box-shadow: 0px 1px 2px rgba(60, 64, 67, 0.3), 0px 1px 3px 1px rgba(60, 64, 67, 0.15);\n",
       "      fill: #174EA6;\n",
       "    }\n",
       "\n",
       "    [theme=dark] .colab-df-convert {\n",
       "      background-color: #3B4455;\n",
       "      fill: #D2E3FC;\n",
       "    }\n",
       "\n",
       "    [theme=dark] .colab-df-convert:hover {\n",
       "      background-color: #434B5C;\n",
       "      box-shadow: 0px 1px 3px 1px rgba(0, 0, 0, 0.15);\n",
       "      filter: drop-shadow(0px 1px 2px rgba(0, 0, 0, 0.3));\n",
       "      fill: #FFFFFF;\n",
       "    }\n",
       "  </style>\n",
       "\n",
       "      <script>\n",
       "        const buttonEl =\n",
       "          document.querySelector('#df-afa989e0-546d-488d-9fdf-1a02c079639a button.colab-df-convert');\n",
       "        buttonEl.style.display =\n",
       "          google.colab.kernel.accessAllowed ? 'block' : 'none';\n",
       "\n",
       "        async function convertToInteractive(key) {\n",
       "          const element = document.querySelector('#df-afa989e0-546d-488d-9fdf-1a02c079639a');\n",
       "          const dataTable =\n",
       "            await google.colab.kernel.invokeFunction('convertToInteractive',\n",
       "                                                     [key], {});\n",
       "          if (!dataTable) return;\n",
       "\n",
       "          const docLinkHtml = 'Like what you see? Visit the ' +\n",
       "            '<a target=\"_blank\" href=https://colab.research.google.com/notebooks/data_table.ipynb>data table notebook</a>'\n",
       "            + ' to learn more about interactive tables.';\n",
       "          element.innerHTML = '';\n",
       "          dataTable['output_type'] = 'display_data';\n",
       "          await google.colab.output.renderOutput(dataTable, element);\n",
       "          const docLink = document.createElement('div');\n",
       "          docLink.innerHTML = docLinkHtml;\n",
       "          element.appendChild(docLink);\n",
       "        }\n",
       "      </script>\n",
       "    </div>\n",
       "  </div>\n",
       "  "
      ],
      "text/plain": [
       "                age        balance           day      duration      campaign  \\\n",
       "count  45211.000000   45211.000000  45211.000000  45211.000000  45211.000000   \n",
       "mean      40.936210    1362.272058     15.806419    258.163080      2.763841   \n",
       "std       10.618762    3044.765829      8.322476    257.527812      3.098021   \n",
       "min       18.000000   -8019.000000      1.000000      0.000000      1.000000   \n",
       "25%       33.000000      72.000000      8.000000    103.000000      1.000000   \n",
       "50%       39.000000     448.000000     16.000000    180.000000      2.000000   \n",
       "75%       48.000000    1428.000000     21.000000    319.000000      3.000000   \n",
       "max       95.000000  102127.000000     31.000000   4918.000000     63.000000   \n",
       "\n",
       "              pdays      previous  \n",
       "count  45211.000000  45211.000000  \n",
       "mean      40.197828      0.580323  \n",
       "std      100.128746      2.303441  \n",
       "min       -1.000000      0.000000  \n",
       "25%       -1.000000      0.000000  \n",
       "50%       -1.000000      0.000000  \n",
       "75%       -1.000000      0.000000  \n",
       "max      871.000000    275.000000  "
      ]
     },
     "execution_count": 6,
     "metadata": {},
     "output_type": "execute_result"
    }
   ],
   "source": [
    "df.describe()"
   ]
  },
  {
   "cell_type": "code",
   "execution_count": 7,
   "id": "a36eea6c-8d99-49ca-95c3-dcc6568cd7f4",
   "metadata": {
    "colab": {
     "base_uri": "https://localhost:8080/",
     "height": 363
    },
    "id": "a36eea6c-8d99-49ca-95c3-dcc6568cd7f4",
    "outputId": "7e468247-71b1-488d-e2c1-cba23ab6e034"
   },
   "outputs": [
    {
     "data": {
      "text/html": [
       "\n",
       "  <div id=\"df-371dfc7e-313c-4121-8e00-9ffab9e0d316\">\n",
       "    <div class=\"colab-df-container\">\n",
       "      <div>\n",
       "<style scoped>\n",
       "    .dataframe tbody tr th:only-of-type {\n",
       "        vertical-align: middle;\n",
       "    }\n",
       "\n",
       "    .dataframe tbody tr th {\n",
       "        vertical-align: top;\n",
       "    }\n",
       "\n",
       "    .dataframe thead th {\n",
       "        text-align: right;\n",
       "    }\n",
       "</style>\n",
       "<table border=\"1\" class=\"dataframe\">\n",
       "  <thead>\n",
       "    <tr style=\"text-align: right;\">\n",
       "      <th></th>\n",
       "      <th>count</th>\n",
       "      <th>unique</th>\n",
       "      <th>top</th>\n",
       "      <th>freq</th>\n",
       "    </tr>\n",
       "  </thead>\n",
       "  <tbody>\n",
       "    <tr>\n",
       "      <th>job</th>\n",
       "      <td>45211</td>\n",
       "      <td>12</td>\n",
       "      <td>blue-collar</td>\n",
       "      <td>9732</td>\n",
       "    </tr>\n",
       "    <tr>\n",
       "      <th>marital</th>\n",
       "      <td>45211</td>\n",
       "      <td>3</td>\n",
       "      <td>married</td>\n",
       "      <td>27214</td>\n",
       "    </tr>\n",
       "    <tr>\n",
       "      <th>education</th>\n",
       "      <td>45211</td>\n",
       "      <td>4</td>\n",
       "      <td>secondary</td>\n",
       "      <td>23202</td>\n",
       "    </tr>\n",
       "    <tr>\n",
       "      <th>default</th>\n",
       "      <td>45211</td>\n",
       "      <td>2</td>\n",
       "      <td>no</td>\n",
       "      <td>44396</td>\n",
       "    </tr>\n",
       "    <tr>\n",
       "      <th>housing</th>\n",
       "      <td>45211</td>\n",
       "      <td>2</td>\n",
       "      <td>yes</td>\n",
       "      <td>25130</td>\n",
       "    </tr>\n",
       "    <tr>\n",
       "      <th>loan</th>\n",
       "      <td>45211</td>\n",
       "      <td>2</td>\n",
       "      <td>no</td>\n",
       "      <td>37967</td>\n",
       "    </tr>\n",
       "    <tr>\n",
       "      <th>contact</th>\n",
       "      <td>45211</td>\n",
       "      <td>3</td>\n",
       "      <td>cellular</td>\n",
       "      <td>29285</td>\n",
       "    </tr>\n",
       "    <tr>\n",
       "      <th>month</th>\n",
       "      <td>45211</td>\n",
       "      <td>12</td>\n",
       "      <td>may</td>\n",
       "      <td>13766</td>\n",
       "    </tr>\n",
       "    <tr>\n",
       "      <th>poutcome</th>\n",
       "      <td>45211</td>\n",
       "      <td>4</td>\n",
       "      <td>unknown</td>\n",
       "      <td>36959</td>\n",
       "    </tr>\n",
       "    <tr>\n",
       "      <th>y</th>\n",
       "      <td>45211</td>\n",
       "      <td>2</td>\n",
       "      <td>no</td>\n",
       "      <td>39922</td>\n",
       "    </tr>\n",
       "  </tbody>\n",
       "</table>\n",
       "</div>\n",
       "      <button class=\"colab-df-convert\" onclick=\"convertToInteractive('df-371dfc7e-313c-4121-8e00-9ffab9e0d316')\"\n",
       "              title=\"Convert this dataframe to an interactive table.\"\n",
       "              style=\"display:none;\">\n",
       "        \n",
       "  <svg xmlns=\"http://www.w3.org/2000/svg\" height=\"24px\"viewBox=\"0 0 24 24\"\n",
       "       width=\"24px\">\n",
       "    <path d=\"M0 0h24v24H0V0z\" fill=\"none\"/>\n",
       "    <path d=\"M18.56 5.44l.94 2.06.94-2.06 2.06-.94-2.06-.94-.94-2.06-.94 2.06-2.06.94zm-11 1L8.5 8.5l.94-2.06 2.06-.94-2.06-.94L8.5 2.5l-.94 2.06-2.06.94zm10 10l.94 2.06.94-2.06 2.06-.94-2.06-.94-.94-2.06-.94 2.06-2.06.94z\"/><path d=\"M17.41 7.96l-1.37-1.37c-.4-.4-.92-.59-1.43-.59-.52 0-1.04.2-1.43.59L10.3 9.45l-7.72 7.72c-.78.78-.78 2.05 0 2.83L4 21.41c.39.39.9.59 1.41.59.51 0 1.02-.2 1.41-.59l7.78-7.78 2.81-2.81c.8-.78.8-2.07 0-2.86zM5.41 20L4 18.59l7.72-7.72 1.47 1.35L5.41 20z\"/>\n",
       "  </svg>\n",
       "      </button>\n",
       "      \n",
       "  <style>\n",
       "    .colab-df-container {\n",
       "      display:flex;\n",
       "      flex-wrap:wrap;\n",
       "      gap: 12px;\n",
       "    }\n",
       "\n",
       "    .colab-df-convert {\n",
       "      background-color: #E8F0FE;\n",
       "      border: none;\n",
       "      border-radius: 50%;\n",
       "      cursor: pointer;\n",
       "      display: none;\n",
       "      fill: #1967D2;\n",
       "      height: 32px;\n",
       "      padding: 0 0 0 0;\n",
       "      width: 32px;\n",
       "    }\n",
       "\n",
       "    .colab-df-convert:hover {\n",
       "      background-color: #E2EBFA;\n",
       "      box-shadow: 0px 1px 2px rgba(60, 64, 67, 0.3), 0px 1px 3px 1px rgba(60, 64, 67, 0.15);\n",
       "      fill: #174EA6;\n",
       "    }\n",
       "\n",
       "    [theme=dark] .colab-df-convert {\n",
       "      background-color: #3B4455;\n",
       "      fill: #D2E3FC;\n",
       "    }\n",
       "\n",
       "    [theme=dark] .colab-df-convert:hover {\n",
       "      background-color: #434B5C;\n",
       "      box-shadow: 0px 1px 3px 1px rgba(0, 0, 0, 0.15);\n",
       "      filter: drop-shadow(0px 1px 2px rgba(0, 0, 0, 0.3));\n",
       "      fill: #FFFFFF;\n",
       "    }\n",
       "  </style>\n",
       "\n",
       "      <script>\n",
       "        const buttonEl =\n",
       "          document.querySelector('#df-371dfc7e-313c-4121-8e00-9ffab9e0d316 button.colab-df-convert');\n",
       "        buttonEl.style.display =\n",
       "          google.colab.kernel.accessAllowed ? 'block' : 'none';\n",
       "\n",
       "        async function convertToInteractive(key) {\n",
       "          const element = document.querySelector('#df-371dfc7e-313c-4121-8e00-9ffab9e0d316');\n",
       "          const dataTable =\n",
       "            await google.colab.kernel.invokeFunction('convertToInteractive',\n",
       "                                                     [key], {});\n",
       "          if (!dataTable) return;\n",
       "\n",
       "          const docLinkHtml = 'Like what you see? Visit the ' +\n",
       "            '<a target=\"_blank\" href=https://colab.research.google.com/notebooks/data_table.ipynb>data table notebook</a>'\n",
       "            + ' to learn more about interactive tables.';\n",
       "          element.innerHTML = '';\n",
       "          dataTable['output_type'] = 'display_data';\n",
       "          await google.colab.output.renderOutput(dataTable, element);\n",
       "          const docLink = document.createElement('div');\n",
       "          docLink.innerHTML = docLinkHtml;\n",
       "          element.appendChild(docLink);\n",
       "        }\n",
       "      </script>\n",
       "    </div>\n",
       "  </div>\n",
       "  "
      ],
      "text/plain": [
       "           count unique          top   freq\n",
       "job        45211     12  blue-collar   9732\n",
       "marital    45211      3      married  27214\n",
       "education  45211      4    secondary  23202\n",
       "default    45211      2           no  44396\n",
       "housing    45211      2          yes  25130\n",
       "loan       45211      2           no  37967\n",
       "contact    45211      3     cellular  29285\n",
       "month      45211     12          may  13766\n",
       "poutcome   45211      4      unknown  36959\n",
       "y          45211      2           no  39922"
      ]
     },
     "execution_count": 7,
     "metadata": {},
     "output_type": "execute_result"
    }
   ],
   "source": [
    "df.describe(exclude=['int', 'float']).T"
   ]
  },
  {
   "cell_type": "markdown",
   "id": "_24qISpLe5GR",
   "metadata": {
    "id": "_24qISpLe5GR"
   },
   "source": [
    "Show heatmap correlation untuk melihat korelasi antar kolom"
   ]
  },
  {
   "cell_type": "code",
   "execution_count": 8,
   "id": "556081ed-6352-49b0-9ece-cd56cd91e8ae",
   "metadata": {
    "colab": {
     "base_uri": "https://localhost:8080/",
     "height": 324
    },
    "id": "556081ed-6352-49b0-9ece-cd56cd91e8ae",
    "outputId": "79edd81b-fc95-4540-e3c5-f24b54572989"
   },
   "outputs": [
    {
     "data": {
      "image/png": "[encoded data removed]",
      "text/plain": [
       "<Figure size 576x360 with 2 Axes>"
      ]
     },
     "metadata": {
      "needs_background": "light"
     },
     "output_type": "display_data"
    }
   ],
   "source": [
    "plt.figure(figsize=(8, 5))\n",
    "sns.heatmap(df.corr(\"pearson\"), linewidths=0.5, annot=True)\n",
    "plt.show()"
   ]
  },
  {
   "cell_type": "markdown",
   "id": "x1Z5R2yQe8aU",
   "metadata": {
    "id": "x1Z5R2yQe8aU"
   },
   "source": [
    "Displays a numerical data distribution plot"
   ]
  },
  {
   "cell_type": "code",
   "execution_count": 9,
   "id": "4af90a8e-3102-4729-a647-589782e14b2b",
   "metadata": {
    "colab": {
     "base_uri": "https://localhost:8080/",
     "height": 502
    },
    "id": "4af90a8e-3102-4729-a647-589782e14b2b",
    "outputId": "b2193ac7-8085-4bce-d998-d20f3cb7b9fa"
   },
   "outputs": [
    {
     "data": {
      "image/png": "[encoded data removed]",
      "text/plain": [
       "<Figure size 2160x1440 with 7 Axes>"
      ]
     },
     "metadata": {
      "needs_background": "light"
     },
     "output_type": "display_data"
    }
   ],
   "source": [
    "df_num = df.select_dtypes(exclude=object).columns\n",
    "plt.figure(figsize=(30, 20))\n",
    "for i in range(0, len(df_num)):\n",
    "    plt.subplot(4, 4, i+1)\n",
    "    sns.kdeplot(x=df[df_num[i]])\n",
    "    plt.xlabel(df_num[i])"
   ]
  },
  {
   "cell_type": "markdown",
   "id": "47d5aee5-bcbd-4393-b8d3-ccd80f784d63",
   "metadata": {
    "id": "47d5aee5-bcbd-4393-b8d3-ccd80f784d63",
    "tags": []
   },
   "source": [
    "## PREPROCESSING"
   ]
  },
  {
   "cell_type": "markdown",
   "id": "55405410-fa6b-470a-8fe2-e8452225bf24",
   "metadata": {
    "id": "55405410-fa6b-470a-8fe2-e8452225bf24"
   },
   "source": [
    "Drop columns that we feel have nothing to do with analysis"
   ]
  },
  {
   "cell_type": "code",
   "execution_count": 10,
   "id": "371ce6c2-0570-437d-a2bc-df3b306396b2",
   "metadata": {
    "id": "371ce6c2-0570-437d-a2bc-df3b306396b2"
   },
   "outputs": [],
   "source": [
    "df = df.drop(columns=[\"day\", \"month\", \"contact\", \"duration\", \"pdays\", \"previous\"])"
   ]
  },
  {
   "cell_type": "markdown",
   "id": "c4fa27f3-7ba9-4aaf-8cd9-251fd1276c48",
   "metadata": {
    "id": "c4fa27f3-7ba9-4aaf-8cd9-251fd1276c48"
   },
   "source": [
    "### Outlier Handling"
   ]
  },
  {
   "cell_type": "markdown",
   "id": "5jipLUO_jeJw",
   "metadata": {
    "id": "5jipLUO_jeJw"
   },
   "source": [
    "Displays the numeric data boxplot to see the outliers"
   ]
  },
  {
   "cell_type": "code",
   "execution_count": 11,
   "id": "e04a44b2-b76e-4623-8c03-3bcfdc4f3b0b",
   "metadata": {
    "colab": {
     "base_uri": "https://localhost:8080/",
     "height": 298
    },
    "id": "e04a44b2-b76e-4623-8c03-3bcfdc4f3b0b",
    "outputId": "f034d9c0-bb8d-4cf2-c93b-a6689776c728"
   },
   "outputs": [
    {
     "data": {
      "image/png": "[encoded data removed]",
      "text/plain": [
       "<Figure size 2160x1440 with 3 Axes>"
      ]
     },
     "metadata": {
      "needs_background": "light"
     },
     "output_type": "display_data"
    }
   ],
   "source": [
    "df_num = df.select_dtypes(exclude=object).columns\n",
    "plt.figure(figsize=(30, 20))\n",
    "for i in range(0, len(df_num)):\n",
    "    plt.subplot(4, 4, i+1)\n",
    "    sns.boxplot(df[df_num[i]])\n",
    "    plt.xlabel(df_num[i])"
   ]
  },
  {
   "cell_type": "code",
   "execution_count": 12,
   "id": "dae3bf56-edce-4d50-879a-80afad30d347",
   "metadata": {
    "id": "dae3bf56-edce-4d50-879a-80afad30d347"
   },
   "outputs": [],
   "source": [
    "df_new = df.copy()"
   ]
  },
  {
   "cell_type": "markdown",
   "id": "p6I09I-Qjm3-",
   "metadata": {
    "id": "p6I09I-Qjm3-"
   },
   "source": [
    "Handling outliers with winsorizing"
   ]
  },
  {
   "cell_type": "code",
   "execution_count": 13,
   "id": "d9f7063a-16ed-41e3-b210-a922dc0b0739",
   "metadata": {
    "id": "d9f7063a-16ed-41e3-b210-a922dc0b0739"
   },
   "outputs": [],
   "source": [
    "def handling_outliers(data):\n",
    "    print(data.upper())\n",
    "    print(\"Data awal\")\n",
    "    plt.figure(figsize=(10, 6))\n",
    "    sns.boxplot(df[data])\n",
    "    plt.title(f\"Boxplot data {data}\")\n",
    "    plt.show()\n",
    "\n",
    "    iqr = df[data].quantile(.75) - df[data].quantile(.25)\n",
    "    lower_limit = df[data].quantile(.25) - 1.5 * iqr\n",
    "    upper_limit = df[data].quantile(.75) + 1.5 * iqr\n",
    "\n",
    "    low_out = []\n",
    "    upper_out = []\n",
    "\n",
    "    for i in df[data]:\n",
    "        if (i < lower_limit):\n",
    "            low_out.append(i)\n",
    "        if (i > upper_limit):\n",
    "            upper_out.append(i)\n",
    "\n",
    "    print(\"Lower Limit:\", lower_limit)\n",
    "    print(\"Upper Limit:\", upper_limit)\n",
    "    print(\"Jumlah Data :\", len(df))\n",
    "    print(\"Jumlah Outliers:\", len(low_out)+len(upper_out))\n",
    "    print(\"Perc Outliers :\", round((len(low_out)+len(upper_out)/len(df))*100, 2), \"%\")\n",
    "\n",
    "    index = 1\n",
    "    while index > 0.75:\n",
    "        quantile_temp = df[data].quantile(index)\n",
    "        if quantile_temp >= upper_limit:\n",
    "            index = index - 0.01\n",
    "        else:\n",
    "            break\n",
    "\n",
    "    low_index = 0\n",
    "    while low_index < 0.25:\n",
    "        quantile_temp = df[data].quantile(low_index)\n",
    "        if quantile_temp < lower_limit:\n",
    "            low_index = low_index + 0.0001\n",
    "        else:\n",
    "            break\n",
    "\n",
    "    index_dif = 1 - index\n",
    "    df_new[data] = ss.mstats.winsorize(df[data], limits=(low_index, index_dif))\n",
    "\n",
    "    print(\"\\nSetelah dilakukan winsorizing\")\n",
    "    plt.figure(figsize=(10, 6))\n",
    "    sns.boxplot(data=df_new[data], palette=\"Accent\", orient=\"h\")\n",
    "    plt.show()\n",
    "\n",
    "    iqr = df_new[data].quantile(.75) - df_new[data].quantile(.25)\n",
    "    lower_limit = df_new[data].quantile(.25) - 1.5 * iqr\n",
    "    upper_limit = df_new[data].quantile(.75) + 1.5 * iqr\n",
    "\n",
    "    low_out = []\n",
    "    upper_out = []\n",
    "\n",
    "    for i in df_new[data]:\n",
    "        if (i < lower_limit):\n",
    "            low_out.append(i)\n",
    "        if (i > upper_limit):\n",
    "            upper_out.append(i)\n",
    "\n",
    "    print(\"Lower Limit:\", lower_limit)\n",
    "    print(\"Upper Limit:\", upper_limit)\n",
    "    print(\"Jumlah Data :\", len(df))\n",
    "    print(\"Jumlah Outliers:\", len(low_out)+len(upper_out))\n",
    "    print(\"Perc Outliers :\", round((len(low_out)+len(upper_out)/len(df))*100, 2), \"%\")\n",
    "    print(\"\\n\")"
   ]
  },
  {
   "cell_type": "code",
   "execution_count": 14,
   "id": "d83970e5-b311-4882-80af-f9fb8f7cba23",
   "metadata": {
    "colab": {
     "base_uri": "https://localhost:8080/",
     "height": 1000
    },
    "id": "d83970e5-b311-4882-80af-f9fb8f7cba23",
    "outputId": "7ac2241b-cb52-46fc-d092-9ed17c61fdfb"
   },
   "outputs": [
    {
     "name": "stdout",
     "output_type": "stream",
     "text": [
      "AGE\n",
      "Data awal\n"
     ]
    },
    {
     "data": {
      "image/png": "[encoded data removed]",
      "text/plain": [
       "<Figure size 720x432 with 1 Axes>"
      ]
     },
     "metadata": {
      "needs_background": "light"
     },
     "output_type": "display_data"
    },
    {
     "name": "stdout",
     "output_type": "stream",
     "text": [
      "Lower Limit: 10.5\n",
      "Upper Limit: 70.5\n",
      "Jumlah Data : 45211\n",
      "Jumlah Outliers: 487\n",
      "Perc Outliers : 1.08 %\n",
      "\n",
      "Setelah dilakukan winsorizing\n"
     ]
    },
    {
     "data": {
      "image/png": "[encoded data removed]",
      "text/plain": [
       "<Figure size 720x432 with 1 Axes>"
      ]
     },
     "metadata": {
      "needs_background": "light"
     },
     "output_type": "display_data"
    },
    {
     "name": "stdout",
     "output_type": "stream",
     "text": [
      "Lower Limit: 10.5\n",
      "Upper Limit: 70.5\n",
      "Jumlah Data : 45211\n",
      "Jumlah Outliers: 0\n",
      "Perc Outliers : 0.0 %\n",
      "\n",
      "\n"
     ]
    }
   ],
   "source": [
    "handling_outliers(\"age\")"
   ]
  },
  {
   "cell_type": "code",
   "execution_count": 15,
   "id": "67ce237c-0956-4712-854f-b3b4196e8b0e",
   "metadata": {
    "colab": {
     "base_uri": "https://localhost:8080/",
     "height": 1000
    },
    "id": "67ce237c-0956-4712-854f-b3b4196e8b0e",
    "outputId": "191eaa2a-79cd-422a-8b76-743a046e8ee6"
   },
   "outputs": [
    {
     "name": "stdout",
     "output_type": "stream",
     "text": [
      "BALANCE\n",
      "Data awal\n"
     ]
    },
    {
     "data": {
      "image/png": "[encoded data removed]",
      "text/plain": [
       "<Figure size 720x432 with 1 Axes>"
      ]
     },
     "metadata": {
      "needs_background": "light"
     },
     "output_type": "display_data"
    },
    {
     "name": "stdout",
     "output_type": "stream",
     "text": [
      "Lower Limit: -1962.0\n",
      "Upper Limit: 3462.0\n",
      "Jumlah Data : 45211\n",
      "Jumlah Outliers: 4729\n",
      "Perc Outliers : 1710.42 %\n",
      "\n",
      "Setelah dilakukan winsorizing\n"
     ]
    },
    {
     "data": {
      "image/png": "[encoded data removed]",
      "text/plain": [
       "<Figure size 720x432 with 1 Axes>"
      ]
     },
     "metadata": {
      "needs_background": "light"
     },
     "output_type": "display_data"
    },
    {
     "name": "stdout",
     "output_type": "stream",
     "text": [
      "Lower Limit: -1962.0\n",
      "Upper Limit: 3462.0\n",
      "Jumlah Data : 45211\n",
      "Jumlah Outliers: 0\n",
      "Perc Outliers : 0.0 %\n",
      "\n",
      "\n"
     ]
    }
   ],
   "source": [
    "handling_outliers(\"balance\")"
   ]
  },
  {
   "cell_type": "code",
   "execution_count": 16,
   "id": "jk44SBRRsJ_w",
   "metadata": {
    "colab": {
     "base_uri": "https://localhost:8080/",
     "height": 1000
    },
    "id": "jk44SBRRsJ_w",
    "outputId": "ccb5d990-b4d1-4612-d10d-9de81f537c08"
   },
   "outputs": [
    {
     "name": "stdout",
     "output_type": "stream",
     "text": [
      "CAMPAIGN\n",
      "Data awal\n"
     ]
    },
    {
     "data": {
      "image/png": "[encoded data removed]",
      "text/plain": [
       "<Figure size 720x432 with 1 Axes>"
      ]
     },
     "metadata": {
      "needs_background": "light"
     },
     "output_type": "display_data"
    },
    {
     "name": "stdout",
     "output_type": "stream",
     "text": [
      "Lower Limit: -2.0\n",
      "Upper Limit: 6.0\n",
      "Jumlah Data : 45211\n",
      "Jumlah Outliers: 3064\n",
      "Perc Outliers : 6.78 %\n",
      "\n",
      "Setelah dilakukan winsorizing\n"
     ]
    },
    {
     "data": {
      "image/png": "[encoded data removed]",
      "text/plain": [
       "<Figure size 720x432 with 1 Axes>"
      ]
     },
     "metadata": {
      "needs_background": "light"
     },
     "output_type": "display_data"
    },
    {
     "name": "stdout",
     "output_type": "stream",
     "text": [
      "Lower Limit: -2.0\n",
      "Upper Limit: 6.0\n",
      "Jumlah Data : 45211\n",
      "Jumlah Outliers: 0\n",
      "Perc Outliers : 0.0 %\n",
      "\n",
      "\n"
     ]
    }
   ],
   "source": [
    "handling_outliers(\"campaign\")"
   ]
  },
  {
   "cell_type": "code",
   "execution_count": 18,
   "id": "30730f91-34a9-49a6-a41e-120c750741d1",
   "metadata": {
    "colab": {
     "base_uri": "https://localhost:8080/",
     "height": 206
    },
    "id": "30730f91-34a9-49a6-a41e-120c750741d1",
    "outputId": "2701dc84-0229-47f5-ce98-aee2bc05d865"
   },
   "outputs": [
    {
     "data": {
      "text/html": [
       "\n",
       "  <div id=\"df-b9e1494b-aa47-4840-99a9-25c57b7beeef\">\n",
       "    <div class=\"colab-df-container\">\n",
       "      <div>\n",
       "<style scoped>\n",
       "    .dataframe tbody tr th:only-of-type {\n",
       "        vertical-align: middle;\n",
       "    }\n",
       "\n",
       "    .dataframe tbody tr th {\n",
       "        vertical-align: top;\n",
       "    }\n",
       "\n",
       "    .dataframe thead th {\n",
       "        text-align: right;\n",
       "    }\n",
       "</style>\n",
       "<table border=\"1\" class=\"dataframe\">\n",
       "  <thead>\n",
       "    <tr style=\"text-align: right;\">\n",
       "      <th></th>\n",
       "      <th>age</th>\n",
       "      <th>job</th>\n",
       "      <th>marital</th>\n",
       "      <th>education</th>\n",
       "      <th>default</th>\n",
       "      <th>balance</th>\n",
       "      <th>housing</th>\n",
       "      <th>loan</th>\n",
       "      <th>campaign</th>\n",
       "      <th>poutcome</th>\n",
       "      <th>y</th>\n",
       "    </tr>\n",
       "  </thead>\n",
       "  <tbody>\n",
       "    <tr>\n",
       "      <th>0</th>\n",
       "      <td>58</td>\n",
       "      <td>management</td>\n",
       "      <td>married</td>\n",
       "      <td>tertiary</td>\n",
       "      <td>no</td>\n",
       "      <td>2143</td>\n",
       "      <td>yes</td>\n",
       "      <td>no</td>\n",
       "      <td>1</td>\n",
       "      <td>unknown</td>\n",
       "      <td>no</td>\n",
       "    </tr>\n",
       "    <tr>\n",
       "      <th>1</th>\n",
       "      <td>44</td>\n",
       "      <td>technician</td>\n",
       "      <td>single</td>\n",
       "      <td>secondary</td>\n",
       "      <td>no</td>\n",
       "      <td>29</td>\n",
       "      <td>yes</td>\n",
       "      <td>no</td>\n",
       "      <td>1</td>\n",
       "      <td>unknown</td>\n",
       "      <td>no</td>\n",
       "    </tr>\n",
       "    <tr>\n",
       "      <th>2</th>\n",
       "      <td>33</td>\n",
       "      <td>entrepreneur</td>\n",
       "      <td>married</td>\n",
       "      <td>secondary</td>\n",
       "      <td>no</td>\n",
       "      <td>2</td>\n",
       "      <td>yes</td>\n",
       "      <td>yes</td>\n",
       "      <td>1</td>\n",
       "      <td>unknown</td>\n",
       "      <td>no</td>\n",
       "    </tr>\n",
       "    <tr>\n",
       "      <th>3</th>\n",
       "      <td>47</td>\n",
       "      <td>blue-collar</td>\n",
       "      <td>married</td>\n",
       "      <td>unknown</td>\n",
       "      <td>no</td>\n",
       "      <td>1506</td>\n",
       "      <td>yes</td>\n",
       "      <td>no</td>\n",
       "      <td>1</td>\n",
       "      <td>unknown</td>\n",
       "      <td>no</td>\n",
       "    </tr>\n",
       "    <tr>\n",
       "      <th>4</th>\n",
       "      <td>33</td>\n",
       "      <td>unknown</td>\n",
       "      <td>single</td>\n",
       "      <td>unknown</td>\n",
       "      <td>no</td>\n",
       "      <td>1</td>\n",
       "      <td>no</td>\n",
       "      <td>no</td>\n",
       "      <td>1</td>\n",
       "      <td>unknown</td>\n",
       "      <td>no</td>\n",
       "    </tr>\n",
       "  </tbody>\n",
       "</table>\n",
       "</div>\n",
       "      <button class=\"colab-df-convert\" onclick=\"convertToInteractive('df-b9e1494b-aa47-4840-99a9-25c57b7beeef')\"\n",
       "              title=\"Convert this dataframe to an interactive table.\"\n",
       "              style=\"display:none;\">\n",
       "        \n",
       "  <svg xmlns=\"http://www.w3.org/2000/svg\" height=\"24px\"viewBox=\"0 0 24 24\"\n",
       "       width=\"24px\">\n",
       "    <path d=\"M0 0h24v24H0V0z\" fill=\"none\"/>\n",
       "    <path d=\"M18.56 5.44l.94 2.06.94-2.06 2.06-.94-2.06-.94-.94-2.06-.94 2.06-2.06.94zm-11 1L8.5 8.5l.94-2.06 2.06-.94-2.06-.94L8.5 2.5l-.94 2.06-2.06.94zm10 10l.94 2.06.94-2.06 2.06-.94-2.06-.94-.94-2.06-.94 2.06-2.06.94z\"/><path d=\"M17.41 7.96l-1.37-1.37c-.4-.4-.92-.59-1.43-.59-.52 0-1.04.2-1.43.59L10.3 9.45l-7.72 7.72c-.78.78-.78 2.05 0 2.83L4 21.41c.39.39.9.59 1.41.59.51 0 1.02-.2 1.41-.59l7.78-7.78 2.81-2.81c.8-.78.8-2.07 0-2.86zM5.41 20L4 18.59l7.72-7.72 1.47 1.35L5.41 20z\"/>\n",
       "  </svg>\n",
       "      </button>\n",
       "      \n",
       "  <style>\n",
       "    .colab-df-container {\n",
       "      display:flex;\n",
       "      flex-wrap:wrap;\n",
       "      gap: 12px;\n",
       "    }\n",
       "\n",
       "    .colab-df-convert {\n",
       "      background-color: #E8F0FE;\n",
       "      border: none;\n",
       "      border-radius: 50%;\n",
       "      cursor: pointer;\n",
       "      display: none;\n",
       "      fill: #1967D2;\n",
       "      height: 32px;\n",
       "      padding: 0 0 0 0;\n",
       "      width: 32px;\n",
       "    }\n",
       "\n",
       "    .colab-df-convert:hover {\n",
       "      background-color: #E2EBFA;\n",
       "      box-shadow: 0px 1px 2px rgba(60, 64, 67, 0.3), 0px 1px 3px 1px rgba(60, 64, 67, 0.15);\n",
       "      fill: #174EA6;\n",
       "    }\n",
       "\n",
       "    [theme=dark] .colab-df-convert {\n",
       "      background-color: #3B4455;\n",
       "      fill: #D2E3FC;\n",
       "    }\n",
       "\n",
       "    [theme=dark] .colab-df-convert:hover {\n",
       "      background-color: #434B5C;\n",
       "      box-shadow: 0px 1px 3px 1px rgba(0, 0, 0, 0.15);\n",
       "      filter: drop-shadow(0px 1px 2px rgba(0, 0, 0, 0.3));\n",
       "      fill: #FFFFFF;\n",
       "    }\n",
       "  </style>\n",
       "\n",
       "      <script>\n",
       "        const buttonEl =\n",
       "          document.querySelector('#df-b9e1494b-aa47-4840-99a9-25c57b7beeef button.colab-df-convert');\n",
       "        buttonEl.style.display =\n",
       "          google.colab.kernel.accessAllowed ? 'block' : 'none';\n",
       "\n",
       "        async function convertToInteractive(key) {\n",
       "          const element = document.querySelector('#df-b9e1494b-aa47-4840-99a9-25c57b7beeef');\n",
       "          const dataTable =\n",
       "            await google.colab.kernel.invokeFunction('convertToInteractive',\n",
       "                                                     [key], {});\n",
       "          if (!dataTable) return;\n",
       "\n",
       "          const docLinkHtml = 'Like what you see? Visit the ' +\n",
       "            '<a target=\"_blank\" href=https://colab.research.google.com/notebooks/data_table.ipynb>data table notebook</a>'\n",
       "            + ' to learn more about interactive tables.';\n",
       "          element.innerHTML = '';\n",
       "          dataTable['output_type'] = 'display_data';\n",
       "          await google.colab.output.renderOutput(dataTable, element);\n",
       "          const docLink = document.createElement('div');\n",
       "          docLink.innerHTML = docLinkHtml;\n",
       "          element.appendChild(docLink);\n",
       "        }\n",
       "      </script>\n",
       "    </div>\n",
       "  </div>\n",
       "  "
      ],
      "text/plain": [
       "   age           job  marital  education default  balance housing loan  \\\n",
       "0   58    management  married   tertiary      no     2143     yes   no   \n",
       "1   44    technician   single  secondary      no       29     yes   no   \n",
       "2   33  entrepreneur  married  secondary      no        2     yes  yes   \n",
       "3   47   blue-collar  married    unknown      no     1506     yes   no   \n",
       "4   33       unknown   single    unknown      no        1      no   no   \n",
       "\n",
       "   campaign poutcome   y  \n",
       "0         1  unknown  no  \n",
       "1         1  unknown  no  \n",
       "2         1  unknown  no  \n",
       "3         1  unknown  no  \n",
       "4         1  unknown  no  "
      ]
     },
     "execution_count": 18,
     "metadata": {},
     "output_type": "execute_result"
    }
   ],
   "source": [
    "df_new.head()"
   ]
  },
  {
   "cell_type": "markdown",
   "id": "lMs0RX71yWih",
   "metadata": {
    "id": "lMs0RX71yWih"
   },
   "source": [
    "## FEATURE ENGINEERING"
   ]
  },
  {
   "cell_type": "markdown",
   "id": "adfc3820-f849-410b-a0a4-e2e7de3899a0",
   "metadata": {
    "id": "adfc3820-f849-410b-a0a4-e2e7de3899a0",
    "tags": []
   },
   "source": [
    "### Encoding"
   ]
  },
  {
   "cell_type": "code",
   "execution_count": 43,
   "id": "18ca4c7b-a062-4e56-896e-1ca0dc7128e7",
   "metadata": {
    "id": "18ca4c7b-a062-4e56-896e-1ca0dc7128e7"
   },
   "outputs": [],
   "source": [
    "df_enc = df_new.copy()"
   ]
  },
  {
   "cell_type": "markdown",
   "id": "kK9wNJiCjsjn",
   "metadata": {
    "id": "kK9wNJiCjsjn"
   },
   "source": [
    "Changing categorical data by encoding"
   ]
  },
  {
   "cell_type": "code",
   "execution_count": 44,
   "id": "b99f17fa-d3a5-4007-9489-ec1e96a65988",
   "metadata": {
    "id": "b99f17fa-d3a5-4007-9489-ec1e96a65988"
   },
   "outputs": [],
   "source": [
    "df_enc[\"y\"] = LabelEncoder().fit_transform(df_enc[\"y\"])"
   ]
  },
  {
   "cell_type": "code",
   "execution_count": 45,
   "id": "ca6774ed-d174-4ef0-8138-b88995413c86",
   "metadata": {
    "colab": {
     "base_uri": "https://localhost:8080/",
     "height": 206
    },
    "id": "ca6774ed-d174-4ef0-8138-b88995413c86",
    "outputId": "10f7a333-6db7-4a81-f7f5-0c36a16e0f83"
   },
   "outputs": [
    {
     "data": {
      "text/html": [
       "\n",
       "  <div id=\"df-e80e970f-3439-4e8a-82fc-48d54f9c5b54\">\n",
       "    <div class=\"colab-df-container\">\n",
       "      <div>\n",
       "<style scoped>\n",
       "    .dataframe tbody tr th:only-of-type {\n",
       "        vertical-align: middle;\n",
       "    }\n",
       "\n",
       "    .dataframe tbody tr th {\n",
       "        vertical-align: top;\n",
       "    }\n",
       "\n",
       "    .dataframe thead th {\n",
       "        text-align: right;\n",
       "    }\n",
       "</style>\n",
       "<table border=\"1\" class=\"dataframe\">\n",
       "  <thead>\n",
       "    <tr style=\"text-align: right;\">\n",
       "      <th></th>\n",
       "      <th>age</th>\n",
       "      <th>job</th>\n",
       "      <th>marital</th>\n",
       "      <th>education</th>\n",
       "      <th>default</th>\n",
       "      <th>balance</th>\n",
       "      <th>housing</th>\n",
       "      <th>loan</th>\n",
       "      <th>campaign</th>\n",
       "      <th>poutcome</th>\n",
       "      <th>y</th>\n",
       "    </tr>\n",
       "  </thead>\n",
       "  <tbody>\n",
       "    <tr>\n",
       "      <th>0</th>\n",
       "      <td>58</td>\n",
       "      <td>management</td>\n",
       "      <td>married</td>\n",
       "      <td>tertiary</td>\n",
       "      <td>no</td>\n",
       "      <td>2143</td>\n",
       "      <td>yes</td>\n",
       "      <td>no</td>\n",
       "      <td>1</td>\n",
       "      <td>0.0</td>\n",
       "      <td>0</td>\n",
       "    </tr>\n",
       "    <tr>\n",
       "      <th>1</th>\n",
       "      <td>44</td>\n",
       "      <td>technician</td>\n",
       "      <td>single</td>\n",
       "      <td>secondary</td>\n",
       "      <td>no</td>\n",
       "      <td>29</td>\n",
       "      <td>yes</td>\n",
       "      <td>no</td>\n",
       "      <td>1</td>\n",
       "      <td>0.0</td>\n",
       "      <td>0</td>\n",
       "    </tr>\n",
       "    <tr>\n",
       "      <th>2</th>\n",
       "      <td>33</td>\n",
       "      <td>entrepreneur</td>\n",
       "      <td>married</td>\n",
       "      <td>secondary</td>\n",
       "      <td>no</td>\n",
       "      <td>2</td>\n",
       "      <td>yes</td>\n",
       "      <td>yes</td>\n",
       "      <td>1</td>\n",
       "      <td>0.0</td>\n",
       "      <td>0</td>\n",
       "    </tr>\n",
       "    <tr>\n",
       "      <th>3</th>\n",
       "      <td>47</td>\n",
       "      <td>blue-collar</td>\n",
       "      <td>married</td>\n",
       "      <td>unknown</td>\n",
       "      <td>no</td>\n",
       "      <td>1506</td>\n",
       "      <td>yes</td>\n",
       "      <td>no</td>\n",
       "      <td>1</td>\n",
       "      <td>0.0</td>\n",
       "      <td>0</td>\n",
       "    </tr>\n",
       "    <tr>\n",
       "      <th>4</th>\n",
       "      <td>33</td>\n",
       "      <td>unknown</td>\n",
       "      <td>single</td>\n",
       "      <td>unknown</td>\n",
       "      <td>no</td>\n",
       "      <td>1</td>\n",
       "      <td>no</td>\n",
       "      <td>no</td>\n",
       "      <td>1</td>\n",
       "      <td>0.0</td>\n",
       "      <td>0</td>\n",
       "    </tr>\n",
       "  </tbody>\n",
       "</table>\n",
       "</div>\n",
       "      <button class=\"colab-df-convert\" onclick=\"convertToInteractive('df-e80e970f-3439-4e8a-82fc-48d54f9c5b54')\"\n",
       "              title=\"Convert this dataframe to an interactive table.\"\n",
       "              style=\"display:none;\">\n",
       "        \n",
       "  <svg xmlns=\"http://www.w3.org/2000/svg\" height=\"24px\"viewBox=\"0 0 24 24\"\n",
       "       width=\"24px\">\n",
       "    <path d=\"M0 0h24v24H0V0z\" fill=\"none\"/>\n",
       "    <path d=\"M18.56 5.44l.94 2.06.94-2.06 2.06-.94-2.06-.94-.94-2.06-.94 2.06-2.06.94zm-11 1L8.5 8.5l.94-2.06 2.06-.94-2.06-.94L8.5 2.5l-.94 2.06-2.06.94zm10 10l.94 2.06.94-2.06 2.06-.94-2.06-.94-.94-2.06-.94 2.06-2.06.94z\"/><path d=\"M17.41 7.96l-1.37-1.37c-.4-.4-.92-.59-1.43-.59-.52 0-1.04.2-1.43.59L10.3 9.45l-7.72 7.72c-.78.78-.78 2.05 0 2.83L4 21.41c.39.39.9.59 1.41.59.51 0 1.02-.2 1.41-.59l7.78-7.78 2.81-2.81c.8-.78.8-2.07 0-2.86zM5.41 20L4 18.59l7.72-7.72 1.47 1.35L5.41 20z\"/>\n",
       "  </svg>\n",
       "      </button>\n",
       "      \n",
       "  <style>\n",
       "    .colab-df-container {\n",
       "      display:flex;\n",
       "      flex-wrap:wrap;\n",
       "      gap: 12px;\n",
       "    }\n",
       "\n",
       "    .colab-df-convert {\n",
       "      background-color: #E8F0FE;\n",
       "      border: none;\n",
       "      border-radius: 50%;\n",
       "      cursor: pointer;\n",
       "      display: none;\n",
       "      fill: #1967D2;\n",
       "      height: 32px;\n",
       "      padding: 0 0 0 0;\n",
       "      width: 32px;\n",
       "    }\n",
       "\n",
       "    .colab-df-convert:hover {\n",
       "      background-color: #E2EBFA;\n",
       "      box-shadow: 0px 1px 2px rgba(60, 64, 67, 0.3), 0px 1px 3px 1px rgba(60, 64, 67, 0.15);\n",
       "      fill: #174EA6;\n",
       "    }\n",
       "\n",
       "    [theme=dark] .colab-df-convert {\n",
       "      background-color: #3B4455;\n",
       "      fill: #D2E3FC;\n",
       "    }\n",
       "\n",
       "    [theme=dark] .colab-df-convert:hover {\n",
       "      background-color: #434B5C;\n",
       "      box-shadow: 0px 1px 3px 1px rgba(0, 0, 0, 0.15);\n",
       "      filter: drop-shadow(0px 1px 2px rgba(0, 0, 0, 0.3));\n",
       "      fill: #FFFFFF;\n",
       "    }\n",
       "  </style>\n",
       "\n",
       "      <script>\n",
       "        const buttonEl =\n",
       "          document.querySelector('#df-e80e970f-3439-4e8a-82fc-48d54f9c5b54 button.colab-df-convert');\n",
       "        buttonEl.style.display =\n",
       "          google.colab.kernel.accessAllowed ? 'block' : 'none';\n",
       "\n",
       "        async function convertToInteractive(key) {\n",
       "          const element = document.querySelector('#df-e80e970f-3439-4e8a-82fc-48d54f9c5b54');\n",
       "          const dataTable =\n",
       "            await google.colab.kernel.invokeFunction('convertToInteractive',\n",
       "                                                     [key], {});\n",
       "          if (!dataTable) return;\n",
       "\n",
       "          const docLinkHtml = 'Like what you see? Visit the ' +\n",
       "            '<a target=\"_blank\" href=https://colab.research.google.com/notebooks/data_table.ipynb>data table notebook</a>'\n",
       "            + ' to learn more about interactive tables.';\n",
       "          element.innerHTML = '';\n",
       "          dataTable['output_type'] = 'display_data';\n",
       "          await google.colab.output.renderOutput(dataTable, element);\n",
       "          const docLink = document.createElement('div');\n",
       "          docLink.innerHTML = docLinkHtml;\n",
       "          element.appendChild(docLink);\n",
       "        }\n",
       "      </script>\n",
       "    </div>\n",
       "  </div>\n",
       "  "
      ],
      "text/plain": [
       "   age           job  marital  education default  balance housing loan  \\\n",
       "0   58    management  married   tertiary      no     2143     yes   no   \n",
       "1   44    technician   single  secondary      no       29     yes   no   \n",
       "2   33  entrepreneur  married  secondary      no        2     yes  yes   \n",
       "3   47   blue-collar  married    unknown      no     1506     yes   no   \n",
       "4   33       unknown   single    unknown      no        1      no   no   \n",
       "\n",
       "   campaign  poutcome  y  \n",
       "0         1       0.0  0  \n",
       "1         1       0.0  0  \n",
       "2         1       0.0  0  \n",
       "3         1       0.0  0  \n",
       "4         1       0.0  0  "
      ]
     },
     "execution_count": 45,
     "metadata": {},
     "output_type": "execute_result"
    }
   ],
   "source": [
    "class_order = [\"unknown\", \"other\", \"failure\", \"success\"]\n",
    "df_enc[\"poutcome\"] = OrdinalEncoder(categories=[class_order]).fit_transform(df_enc[[\"poutcome\"]])\n",
    "df_enc.head()"
   ]
  },
  {
   "cell_type": "code",
   "execution_count": 46,
   "id": "861b33ed-d93b-41f7-be08-3e0453666b2d",
   "metadata": {
    "colab": {
     "base_uri": "https://localhost:8080/",
     "height": 206
    },
    "id": "861b33ed-d93b-41f7-be08-3e0453666b2d",
    "outputId": "e9c92df2-e274-48bf-88a8-12b195b98de8"
   },
   "outputs": [
    {
     "data": {
      "text/html": [
       "\n",
       "  <div id=\"df-efca9790-0966-4020-bfcc-b4ec4c0c6d05\">\n",
       "    <div class=\"colab-df-container\">\n",
       "      <div>\n",
       "<style scoped>\n",
       "    .dataframe tbody tr th:only-of-type {\n",
       "        vertical-align: middle;\n",
       "    }\n",
       "\n",
       "    .dataframe tbody tr th {\n",
       "        vertical-align: top;\n",
       "    }\n",
       "\n",
       "    .dataframe thead th {\n",
       "        text-align: right;\n",
       "    }\n",
       "</style>\n",
       "<table border=\"1\" class=\"dataframe\">\n",
       "  <thead>\n",
       "    <tr style=\"text-align: right;\">\n",
       "      <th></th>\n",
       "      <th>age</th>\n",
       "      <th>job</th>\n",
       "      <th>marital</th>\n",
       "      <th>education</th>\n",
       "      <th>default</th>\n",
       "      <th>balance</th>\n",
       "      <th>housing</th>\n",
       "      <th>loan</th>\n",
       "      <th>campaign</th>\n",
       "      <th>poutcome</th>\n",
       "      <th>y</th>\n",
       "    </tr>\n",
       "  </thead>\n",
       "  <tbody>\n",
       "    <tr>\n",
       "      <th>0</th>\n",
       "      <td>58</td>\n",
       "      <td>management</td>\n",
       "      <td>married</td>\n",
       "      <td>3.0</td>\n",
       "      <td>no</td>\n",
       "      <td>2143</td>\n",
       "      <td>yes</td>\n",
       "      <td>no</td>\n",
       "      <td>1</td>\n",
       "      <td>0.0</td>\n",
       "      <td>0</td>\n",
       "    </tr>\n",
       "    <tr>\n",
       "      <th>1</th>\n",
       "      <td>44</td>\n",
       "      <td>technician</td>\n",
       "      <td>single</td>\n",
       "      <td>1.0</td>\n",
       "      <td>no</td>\n",
       "      <td>29</td>\n",
       "      <td>yes</td>\n",
       "      <td>no</td>\n",
       "      <td>1</td>\n",
       "      <td>0.0</td>\n",
       "      <td>0</td>\n",
       "    </tr>\n",
       "    <tr>\n",
       "      <th>2</th>\n",
       "      <td>33</td>\n",
       "      <td>entrepreneur</td>\n",
       "      <td>married</td>\n",
       "      <td>1.0</td>\n",
       "      <td>no</td>\n",
       "      <td>2</td>\n",
       "      <td>yes</td>\n",
       "      <td>yes</td>\n",
       "      <td>1</td>\n",
       "      <td>0.0</td>\n",
       "      <td>0</td>\n",
       "    </tr>\n",
       "    <tr>\n",
       "      <th>3</th>\n",
       "      <td>47</td>\n",
       "      <td>blue-collar</td>\n",
       "      <td>married</td>\n",
       "      <td>0.0</td>\n",
       "      <td>no</td>\n",
       "      <td>1506</td>\n",
       "      <td>yes</td>\n",
       "      <td>no</td>\n",
       "      <td>1</td>\n",
       "      <td>0.0</td>\n",
       "      <td>0</td>\n",
       "    </tr>\n",
       "    <tr>\n",
       "      <th>4</th>\n",
       "      <td>33</td>\n",
       "      <td>unknown</td>\n",
       "      <td>single</td>\n",
       "      <td>0.0</td>\n",
       "      <td>no</td>\n",
       "      <td>1</td>\n",
       "      <td>no</td>\n",
       "      <td>no</td>\n",
       "      <td>1</td>\n",
       "      <td>0.0</td>\n",
       "      <td>0</td>\n",
       "    </tr>\n",
       "  </tbody>\n",
       "</table>\n",
       "</div>\n",
       "      <button class=\"colab-df-convert\" onclick=\"convertToInteractive('df-efca9790-0966-4020-bfcc-b4ec4c0c6d05')\"\n",
       "              title=\"Convert this dataframe to an interactive table.\"\n",
       "              style=\"display:none;\">\n",
       "        \n",
       "  <svg xmlns=\"http://www.w3.org/2000/svg\" height=\"24px\"viewBox=\"0 0 24 24\"\n",
       "       width=\"24px\">\n",
       "    <path d=\"M0 0h24v24H0V0z\" fill=\"none\"/>\n",
       "    <path d=\"M18.56 5.44l.94 2.06.94-2.06 2.06-.94-2.06-.94-.94-2.06-.94 2.06-2.06.94zm-11 1L8.5 8.5l.94-2.06 2.06-.94-2.06-.94L8.5 2.5l-.94 2.06-2.06.94zm10 10l.94 2.06.94-2.06 2.06-.94-2.06-.94-.94-2.06-.94 2.06-2.06.94z\"/><path d=\"M17.41 7.96l-1.37-1.37c-.4-.4-.92-.59-1.43-.59-.52 0-1.04.2-1.43.59L10.3 9.45l-7.72 7.72c-.78.78-.78 2.05 0 2.83L4 21.41c.39.39.9.59 1.41.59.51 0 1.02-.2 1.41-.59l7.78-7.78 2.81-2.81c.8-.78.8-2.07 0-2.86zM5.41 20L4 18.59l7.72-7.72 1.47 1.35L5.41 20z\"/>\n",
       "  </svg>\n",
       "      </button>\n",
       "      \n",
       "  <style>\n",
       "    .colab-df-container {\n",
       "      display:flex;\n",
       "      flex-wrap:wrap;\n",
       "      gap: 12px;\n",
       "    }\n",
       "\n",
       "    .colab-df-convert {\n",
       "      background-color: #E8F0FE;\n",
       "      border: none;\n",
       "      border-radius: 50%;\n",
       "      cursor: pointer;\n",
       "      display: none;\n",
       "      fill: #1967D2;\n",
       "      height: 32px;\n",
       "      padding: 0 0 0 0;\n",
       "      width: 32px;\n",
       "    }\n",
       "\n",
       "    .colab-df-convert:hover {\n",
       "      background-color: #E2EBFA;\n",
       "      box-shadow: 0px 1px 2px rgba(60, 64, 67, 0.3), 0px 1px 3px 1px rgba(60, 64, 67, 0.15);\n",
       "      fill: #174EA6;\n",
       "    }\n",
       "\n",
       "    [theme=dark] .colab-df-convert {\n",
       "      background-color: #3B4455;\n",
       "      fill: #D2E3FC;\n",
       "    }\n",
       "\n",
       "    [theme=dark] .colab-df-convert:hover {\n",
       "      background-color: #434B5C;\n",
       "      box-shadow: 0px 1px 3px 1px rgba(0, 0, 0, 0.15);\n",
       "      filter: drop-shadow(0px 1px 2px rgba(0, 0, 0, 0.3));\n",
       "      fill: #FFFFFF;\n",
       "    }\n",
       "  </style>\n",
       "\n",
       "      <script>\n",
       "        const buttonEl =\n",
       "          document.querySelector('#df-efca9790-0966-4020-bfcc-b4ec4c0c6d05 button.colab-df-convert');\n",
       "        buttonEl.style.display =\n",
       "          google.colab.kernel.accessAllowed ? 'block' : 'none';\n",
       "\n",
       "        async function convertToInteractive(key) {\n",
       "          const element = document.querySelector('#df-efca9790-0966-4020-bfcc-b4ec4c0c6d05');\n",
       "          const dataTable =\n",
       "            await google.colab.kernel.invokeFunction('convertToInteractive',\n",
       "                                                     [key], {});\n",
       "          if (!dataTable) return;\n",
       "\n",
       "          const docLinkHtml = 'Like what you see? Visit the ' +\n",
       "            '<a target=\"_blank\" href=https://colab.research.google.com/notebooks/data_table.ipynb>data table notebook</a>'\n",
       "            + ' to learn more about interactive tables.';\n",
       "          element.innerHTML = '';\n",
       "          dataTable['output_type'] = 'display_data';\n",
       "          await google.colab.output.renderOutput(dataTable, element);\n",
       "          const docLink = document.createElement('div');\n",
       "          docLink.innerHTML = docLinkHtml;\n",
       "          element.appendChild(docLink);\n",
       "        }\n",
       "      </script>\n",
       "    </div>\n",
       "  </div>\n",
       "  "
      ],
      "text/plain": [
       "   age           job  marital  education default  balance housing loan  \\\n",
       "0   58    management  married        3.0      no     2143     yes   no   \n",
       "1   44    technician   single        1.0      no       29     yes   no   \n",
       "2   33  entrepreneur  married        1.0      no        2     yes  yes   \n",
       "3   47   blue-collar  married        0.0      no     1506     yes   no   \n",
       "4   33       unknown   single        0.0      no        1      no   no   \n",
       "\n",
       "   campaign  poutcome  y  \n",
       "0         1       0.0  0  \n",
       "1         1       0.0  0  \n",
       "2         1       0.0  0  \n",
       "3         1       0.0  0  \n",
       "4         1       0.0  0  "
      ]
     },
     "execution_count": 46,
     "metadata": {},
     "output_type": "execute_result"
    }
   ],
   "source": [
    "class_order = [\"unknown\", \"secondary\", \"primary\", \"tertiary\"]\n",
    "df_enc[\"education\"] = OrdinalEncoder(categories=[class_order]).fit_transform(df_enc[[\"education\"]])\n",
    "df_enc.head()"
   ]
  },
  {
   "cell_type": "code",
   "execution_count": 47,
   "id": "b76dfa40-87b9-4f48-99ab-3aad2cd9cd74",
   "metadata": {
    "colab": {
     "base_uri": "https://localhost:8080/",
     "height": 317
    },
    "id": "b76dfa40-87b9-4f48-99ab-3aad2cd9cd74",
    "outputId": "e0c8b23f-eaf1-4679-b29a-1da899302a6c"
   },
   "outputs": [
    {
     "data": {
      "text/html": [
       "\n",
       "  <div id=\"df-ee430509-a3db-4db6-8194-85d5fe47df93\">\n",
       "    <div class=\"colab-df-container\">\n",
       "      <div>\n",
       "<style scoped>\n",
       "    .dataframe tbody tr th:only-of-type {\n",
       "        vertical-align: middle;\n",
       "    }\n",
       "\n",
       "    .dataframe tbody tr th {\n",
       "        vertical-align: top;\n",
       "    }\n",
       "\n",
       "    .dataframe thead th {\n",
       "        text-align: right;\n",
       "    }\n",
       "</style>\n",
       "<table border=\"1\" class=\"dataframe\">\n",
       "  <thead>\n",
       "    <tr style=\"text-align: right;\">\n",
       "      <th></th>\n",
       "      <th>age</th>\n",
       "      <th>education</th>\n",
       "      <th>balance</th>\n",
       "      <th>campaign</th>\n",
       "      <th>poutcome</th>\n",
       "      <th>y</th>\n",
       "      <th>marital_married</th>\n",
       "      <th>marital_single</th>\n",
       "      <th>job_blue-collar</th>\n",
       "      <th>job_entrepreneur</th>\n",
       "      <th>...</th>\n",
       "      <th>job_retired</th>\n",
       "      <th>job_self-employed</th>\n",
       "      <th>job_services</th>\n",
       "      <th>job_student</th>\n",
       "      <th>job_technician</th>\n",
       "      <th>job_unemployed</th>\n",
       "      <th>job_unknown</th>\n",
       "      <th>default_yes</th>\n",
       "      <th>housing_yes</th>\n",
       "      <th>loan_yes</th>\n",
       "    </tr>\n",
       "  </thead>\n",
       "  <tbody>\n",
       "    <tr>\n",
       "      <th>0</th>\n",
       "      <td>58</td>\n",
       "      <td>3.0</td>\n",
       "      <td>2143</td>\n",
       "      <td>1</td>\n",
       "      <td>0.0</td>\n",
       "      <td>0</td>\n",
       "      <td>1</td>\n",
       "      <td>0</td>\n",
       "      <td>0</td>\n",
       "      <td>0</td>\n",
       "      <td>...</td>\n",
       "      <td>0</td>\n",
       "      <td>0</td>\n",
       "      <td>0</td>\n",
       "      <td>0</td>\n",
       "      <td>0</td>\n",
       "      <td>0</td>\n",
       "      <td>0</td>\n",
       "      <td>0</td>\n",
       "      <td>1</td>\n",
       "      <td>0</td>\n",
       "    </tr>\n",
       "    <tr>\n",
       "      <th>1</th>\n",
       "      <td>44</td>\n",
       "      <td>1.0</td>\n",
       "      <td>29</td>\n",
       "      <td>1</td>\n",
       "      <td>0.0</td>\n",
       "      <td>0</td>\n",
       "      <td>0</td>\n",
       "      <td>1</td>\n",
       "      <td>0</td>\n",
       "      <td>0</td>\n",
       "      <td>...</td>\n",
       "      <td>0</td>\n",
       "      <td>0</td>\n",
       "      <td>0</td>\n",
       "      <td>0</td>\n",
       "      <td>1</td>\n",
       "      <td>0</td>\n",
       "      <td>0</td>\n",
       "      <td>0</td>\n",
       "      <td>1</td>\n",
       "      <td>0</td>\n",
       "    </tr>\n",
       "    <tr>\n",
       "      <th>2</th>\n",
       "      <td>33</td>\n",
       "      <td>1.0</td>\n",
       "      <td>2</td>\n",
       "      <td>1</td>\n",
       "      <td>0.0</td>\n",
       "      <td>0</td>\n",
       "      <td>1</td>\n",
       "      <td>0</td>\n",
       "      <td>0</td>\n",
       "      <td>1</td>\n",
       "      <td>...</td>\n",
       "      <td>0</td>\n",
       "      <td>0</td>\n",
       "      <td>0</td>\n",
       "      <td>0</td>\n",
       "      <td>0</td>\n",
       "      <td>0</td>\n",
       "      <td>0</td>\n",
       "      <td>0</td>\n",
       "      <td>1</td>\n",
       "      <td>1</td>\n",
       "    </tr>\n",
       "    <tr>\n",
       "      <th>3</th>\n",
       "      <td>47</td>\n",
       "      <td>0.0</td>\n",
       "      <td>1506</td>\n",
       "      <td>1</td>\n",
       "      <td>0.0</td>\n",
       "      <td>0</td>\n",
       "      <td>1</td>\n",
       "      <td>0</td>\n",
       "      <td>1</td>\n",
       "      <td>0</td>\n",
       "      <td>...</td>\n",
       "      <td>0</td>\n",
       "      <td>0</td>\n",
       "      <td>0</td>\n",
       "      <td>0</td>\n",
       "      <td>0</td>\n",
       "      <td>0</td>\n",
       "      <td>0</td>\n",
       "      <td>0</td>\n",
       "      <td>1</td>\n",
       "      <td>0</td>\n",
       "    </tr>\n",
       "    <tr>\n",
       "      <th>4</th>\n",
       "      <td>33</td>\n",
       "      <td>0.0</td>\n",
       "      <td>1</td>\n",
       "      <td>1</td>\n",
       "      <td>0.0</td>\n",
       "      <td>0</td>\n",
       "      <td>0</td>\n",
       "      <td>1</td>\n",
       "      <td>0</td>\n",
       "      <td>0</td>\n",
       "      <td>...</td>\n",
       "      <td>0</td>\n",
       "      <td>0</td>\n",
       "      <td>0</td>\n",
       "      <td>0</td>\n",
       "      <td>0</td>\n",
       "      <td>0</td>\n",
       "      <td>1</td>\n",
       "      <td>0</td>\n",
       "      <td>0</td>\n",
       "      <td>0</td>\n",
       "    </tr>\n",
       "  </tbody>\n",
       "</table>\n",
       "<p>5 rows × 22 columns</p>\n",
       "</div>\n",
       "      <button class=\"colab-df-convert\" onclick=\"convertToInteractive('df-ee430509-a3db-4db6-8194-85d5fe47df93')\"\n",
       "              title=\"Convert this dataframe to an interactive table.\"\n",
       "              style=\"display:none;\">\n",
       "        \n",
       "  <svg xmlns=\"http://www.w3.org/2000/svg\" height=\"24px\"viewBox=\"0 0 24 24\"\n",
       "       width=\"24px\">\n",
       "    <path d=\"M0 0h24v24H0V0z\" fill=\"none\"/>\n",
       "    <path d=\"M18.56 5.44l.94 2.06.94-2.06 2.06-.94-2.06-.94-.94-2.06-.94 2.06-2.06.94zm-11 1L8.5 8.5l.94-2.06 2.06-.94-2.06-.94L8.5 2.5l-.94 2.06-2.06.94zm10 10l.94 2.06.94-2.06 2.06-.94-2.06-.94-.94-2.06-.94 2.06-2.06.94z\"/><path d=\"M17.41 7.96l-1.37-1.37c-.4-.4-.92-.59-1.43-.59-.52 0-1.04.2-1.43.59L10.3 9.45l-7.72 7.72c-.78.78-.78 2.05 0 2.83L4 21.41c.39.39.9.59 1.41.59.51 0 1.02-.2 1.41-.59l7.78-7.78 2.81-2.81c.8-.78.8-2.07 0-2.86zM5.41 20L4 18.59l7.72-7.72 1.47 1.35L5.41 20z\"/>\n",
       "  </svg>\n",
       "      </button>\n",
       "      \n",
       "  <style>\n",
       "    .colab-df-container {\n",
       "      display:flex;\n",
       "      flex-wrap:wrap;\n",
       "      gap: 12px;\n",
       "    }\n",
       "\n",
       "    .colab-df-convert {\n",
       "      background-color: #E8F0FE;\n",
       "      border: none;\n",
       "      border-radius: 50%;\n",
       "      cursor: pointer;\n",
       "      display: none;\n",
       "      fill: #1967D2;\n",
       "      height: 32px;\n",
       "      padding: 0 0 0 0;\n",
       "      width: 32px;\n",
       "    }\n",
       "\n",
       "    .colab-df-convert:hover {\n",
       "      background-color: #E2EBFA;\n",
       "      box-shadow: 0px 1px 2px rgba(60, 64, 67, 0.3), 0px 1px 3px 1px rgba(60, 64, 67, 0.15);\n",
       "      fill: #174EA6;\n",
       "    }\n",
       "\n",
       "    [theme=dark] .colab-df-convert {\n",
       "      background-color: #3B4455;\n",
       "      fill: #D2E3FC;\n",
       "    }\n",
       "\n",
       "    [theme=dark] .colab-df-convert:hover {\n",
       "      background-color: #434B5C;\n",
       "      box-shadow: 0px 1px 3px 1px rgba(0, 0, 0, 0.15);\n",
       "      filter: drop-shadow(0px 1px 2px rgba(0, 0, 0, 0.3));\n",
       "      fill: #FFFFFF;\n",
       "    }\n",
       "  </style>\n",
       "\n",
       "      <script>\n",
       "        const buttonEl =\n",
       "          document.querySelector('#df-ee430509-a3db-4db6-8194-85d5fe47df93 button.colab-df-convert');\n",
       "        buttonEl.style.display =\n",
       "          google.colab.kernel.accessAllowed ? 'block' : 'none';\n",
       "\n",
       "        async function convertToInteractive(key) {\n",
       "          const element = document.querySelector('#df-ee430509-a3db-4db6-8194-85d5fe47df93');\n",
       "          const dataTable =\n",
       "            await google.colab.kernel.invokeFunction('convertToInteractive',\n",
       "                                                     [key], {});\n",
       "          if (!dataTable) return;\n",
       "\n",
       "          const docLinkHtml = 'Like what you see? Visit the ' +\n",
       "            '<a target=\"_blank\" href=https://colab.research.google.com/notebooks/data_table.ipynb>data table notebook</a>'\n",
       "            + ' to learn more about interactive tables.';\n",
       "          element.innerHTML = '';\n",
       "          dataTable['output_type'] = 'display_data';\n",
       "          await google.colab.output.renderOutput(dataTable, element);\n",
       "          const docLink = document.createElement('div');\n",
       "          docLink.innerHTML = docLinkHtml;\n",
       "          element.appendChild(docLink);\n",
       "        }\n",
       "      </script>\n",
       "    </div>\n",
       "  </div>\n",
       "  "
      ],
      "text/plain": [
       "   age  education  balance  campaign  poutcome  y  marital_married  \\\n",
       "0   58        3.0     2143         1       0.0  0                1   \n",
       "1   44        1.0       29         1       0.0  0                0   \n",
       "2   33        1.0        2         1       0.0  0                1   \n",
       "3   47        0.0     1506         1       0.0  0                1   \n",
       "4   33        0.0        1         1       0.0  0                0   \n",
       "\n",
       "   marital_single  job_blue-collar  job_entrepreneur  ...  job_retired  \\\n",
       "0               0                0                 0  ...            0   \n",
       "1               1                0                 0  ...            0   \n",
       "2               0                0                 1  ...            0   \n",
       "3               0                1                 0  ...            0   \n",
       "4               1                0                 0  ...            0   \n",
       "\n",
       "   job_self-employed  job_services  job_student  job_technician  \\\n",
       "0                  0             0            0               0   \n",
       "1                  0             0            0               1   \n",
       "2                  0             0            0               0   \n",
       "3                  0             0            0               0   \n",
       "4                  0             0            0               0   \n",
       "\n",
       "   job_unemployed  job_unknown  default_yes  housing_yes  loan_yes  \n",
       "0               0            0            0            1         0  \n",
       "1               0            0            0            1         0  \n",
       "2               0            0            0            1         1  \n",
       "3               0            0            0            1         0  \n",
       "4               0            1            0            0         0  \n",
       "\n",
       "[5 rows x 22 columns]"
      ]
     },
     "execution_count": 47,
     "metadata": {},
     "output_type": "execute_result"
    }
   ],
   "source": [
    "df_enc = pd.get_dummies(df_enc,\n",
    "                        columns=['marital', 'job',\n",
    "                                 'default', 'housing',\n",
    "                                 'loan'], drop_first=True)\n",
    "df_enc.head()"
   ]
  },
  {
   "cell_type": "markdown",
   "id": "9efa382a-809d-4c39-aa29-5a5ddeece794",
   "metadata": {
    "id": "9efa382a-809d-4c39-aa29-5a5ddeece794"
   },
   "source": [
    "### Scaling"
   ]
  },
  {
   "cell_type": "code",
   "execution_count": 48,
   "id": "77e50a57-4ec0-4eca-8634-cecc2db2d8c0",
   "metadata": {
    "id": "77e50a57-4ec0-4eca-8634-cecc2db2d8c0"
   },
   "outputs": [],
   "source": [
    "df_scl = df_enc.copy()"
   ]
  },
  {
   "cell_type": "markdown",
   "id": "Dd3AAhPSjz-y",
   "metadata": {
    "id": "Dd3AAhPSjz-y"
   },
   "source": [
    "Scale the data so that the scale units of the entire column are similar to MinMaxScaler"
   ]
  },
  {
   "cell_type": "code",
   "execution_count": 49,
   "id": "a073f00d-575a-4b9d-87c5-b7fa852f2504",
   "metadata": {
    "id": "a073f00d-575a-4b9d-87c5-b7fa852f2504"
   },
   "outputs": [],
   "source": [
    "scaler = MinMaxScaler()\n",
    "df_scl['age'] = scaler.fit_transform(df_scl[['age']])\n",
    "df_scl['balance'] = scaler.fit_transform(df_scl[['balance']])\n",
    "df_scl['campaign'] = scaler.fit_transform(df_scl[['campaign']])"
   ]
  },
  {
   "cell_type": "code",
   "execution_count": 50,
   "id": "81b24916-a4ec-472e-9179-fd9852468518",
   "metadata": {
    "colab": {
     "base_uri": "https://localhost:8080/",
     "height": 317
    },
    "id": "81b24916-a4ec-472e-9179-fd9852468518",
    "outputId": "27258c29-f2de-4140-ff73-f3bd49296974"
   },
   "outputs": [
    {
     "data": {
      "text/html": [
       "\n",
       "  <div id=\"df-6e551724-e867-4386-8c8f-0fac46e9cf36\">\n",
       "    <div class=\"colab-df-container\">\n",
       "      <div>\n",
       "<style scoped>\n",
       "    .dataframe tbody tr th:only-of-type {\n",
       "        vertical-align: middle;\n",
       "    }\n",
       "\n",
       "    .dataframe tbody tr th {\n",
       "        vertical-align: top;\n",
       "    }\n",
       "\n",
       "    .dataframe thead th {\n",
       "        text-align: right;\n",
       "    }\n",
       "</style>\n",
       "<table border=\"1\" class=\"dataframe\">\n",
       "  <thead>\n",
       "    <tr style=\"text-align: right;\">\n",
       "      <th></th>\n",
       "      <th>age</th>\n",
       "      <th>education</th>\n",
       "      <th>balance</th>\n",
       "      <th>campaign</th>\n",
       "      <th>poutcome</th>\n",
       "      <th>y</th>\n",
       "      <th>marital_married</th>\n",
       "      <th>marital_single</th>\n",
       "      <th>job_blue-collar</th>\n",
       "      <th>job_entrepreneur</th>\n",
       "      <th>...</th>\n",
       "      <th>job_retired</th>\n",
       "      <th>job_self-employed</th>\n",
       "      <th>job_services</th>\n",
       "      <th>job_student</th>\n",
       "      <th>job_technician</th>\n",
       "      <th>job_unemployed</th>\n",
       "      <th>job_unknown</th>\n",
       "      <th>default_yes</th>\n",
       "      <th>housing_yes</th>\n",
       "      <th>loan_yes</th>\n",
       "    </tr>\n",
       "  </thead>\n",
       "  <tbody>\n",
       "    <tr>\n",
       "      <th>0</th>\n",
       "      <td>0.888889</td>\n",
       "      <td>3.0</td>\n",
       "      <td>0.776131</td>\n",
       "      <td>0.0</td>\n",
       "      <td>0.0</td>\n",
       "      <td>0</td>\n",
       "      <td>1</td>\n",
       "      <td>0</td>\n",
       "      <td>0</td>\n",
       "      <td>0</td>\n",
       "      <td>...</td>\n",
       "      <td>0</td>\n",
       "      <td>0</td>\n",
       "      <td>0</td>\n",
       "      <td>0</td>\n",
       "      <td>0</td>\n",
       "      <td>0</td>\n",
       "      <td>0</td>\n",
       "      <td>0</td>\n",
       "      <td>1</td>\n",
       "      <td>0</td>\n",
       "    </tr>\n",
       "    <tr>\n",
       "      <th>1</th>\n",
       "      <td>0.577778</td>\n",
       "      <td>1.0</td>\n",
       "      <td>0.374382</td>\n",
       "      <td>0.0</td>\n",
       "      <td>0.0</td>\n",
       "      <td>0</td>\n",
       "      <td>0</td>\n",
       "      <td>1</td>\n",
       "      <td>0</td>\n",
       "      <td>0</td>\n",
       "      <td>...</td>\n",
       "      <td>0</td>\n",
       "      <td>0</td>\n",
       "      <td>0</td>\n",
       "      <td>0</td>\n",
       "      <td>1</td>\n",
       "      <td>0</td>\n",
       "      <td>0</td>\n",
       "      <td>0</td>\n",
       "      <td>1</td>\n",
       "      <td>0</td>\n",
       "    </tr>\n",
       "    <tr>\n",
       "      <th>2</th>\n",
       "      <td>0.333333</td>\n",
       "      <td>1.0</td>\n",
       "      <td>0.369251</td>\n",
       "      <td>0.0</td>\n",
       "      <td>0.0</td>\n",
       "      <td>0</td>\n",
       "      <td>1</td>\n",
       "      <td>0</td>\n",
       "      <td>0</td>\n",
       "      <td>1</td>\n",
       "      <td>...</td>\n",
       "      <td>0</td>\n",
       "      <td>0</td>\n",
       "      <td>0</td>\n",
       "      <td>0</td>\n",
       "      <td>0</td>\n",
       "      <td>0</td>\n",
       "      <td>0</td>\n",
       "      <td>0</td>\n",
       "      <td>1</td>\n",
       "      <td>1</td>\n",
       "    </tr>\n",
       "    <tr>\n",
       "      <th>3</th>\n",
       "      <td>0.644444</td>\n",
       "      <td>0.0</td>\n",
       "      <td>0.655074</td>\n",
       "      <td>0.0</td>\n",
       "      <td>0.0</td>\n",
       "      <td>0</td>\n",
       "      <td>1</td>\n",
       "      <td>0</td>\n",
       "      <td>1</td>\n",
       "      <td>0</td>\n",
       "      <td>...</td>\n",
       "      <td>0</td>\n",
       "      <td>0</td>\n",
       "      <td>0</td>\n",
       "      <td>0</td>\n",
       "      <td>0</td>\n",
       "      <td>0</td>\n",
       "      <td>0</td>\n",
       "      <td>0</td>\n",
       "      <td>1</td>\n",
       "      <td>0</td>\n",
       "    </tr>\n",
       "    <tr>\n",
       "      <th>4</th>\n",
       "      <td>0.333333</td>\n",
       "      <td>0.0</td>\n",
       "      <td>0.369061</td>\n",
       "      <td>0.0</td>\n",
       "      <td>0.0</td>\n",
       "      <td>0</td>\n",
       "      <td>0</td>\n",
       "      <td>1</td>\n",
       "      <td>0</td>\n",
       "      <td>0</td>\n",
       "      <td>...</td>\n",
       "      <td>0</td>\n",
       "      <td>0</td>\n",
       "      <td>0</td>\n",
       "      <td>0</td>\n",
       "      <td>0</td>\n",
       "      <td>0</td>\n",
       "      <td>1</td>\n",
       "      <td>0</td>\n",
       "      <td>0</td>\n",
       "      <td>0</td>\n",
       "    </tr>\n",
       "  </tbody>\n",
       "</table>\n",
       "<p>5 rows × 22 columns</p>\n",
       "</div>\n",
       "      <button class=\"colab-df-convert\" onclick=\"convertToInteractive('df-6e551724-e867-4386-8c8f-0fac46e9cf36')\"\n",
       "              title=\"Convert this dataframe to an interactive table.\"\n",
       "              style=\"display:none;\">\n",
       "        \n",
       "  <svg xmlns=\"http://www.w3.org/2000/svg\" height=\"24px\"viewBox=\"0 0 24 24\"\n",
       "       width=\"24px\">\n",
       "    <path d=\"M0 0h24v24H0V0z\" fill=\"none\"/>\n",
       "    <path d=\"M18.56 5.44l.94 2.06.94-2.06 2.06-.94-2.06-.94-.94-2.06-.94 2.06-2.06.94zm-11 1L8.5 8.5l.94-2.06 2.06-.94-2.06-.94L8.5 2.5l-.94 2.06-2.06.94zm10 10l.94 2.06.94-2.06 2.06-.94-2.06-.94-.94-2.06-.94 2.06-2.06.94z\"/><path d=\"M17.41 7.96l-1.37-1.37c-.4-.4-.92-.59-1.43-.59-.52 0-1.04.2-1.43.59L10.3 9.45l-7.72 7.72c-.78.78-.78 2.05 0 2.83L4 21.41c.39.39.9.59 1.41.59.51 0 1.02-.2 1.41-.59l7.78-7.78 2.81-2.81c.8-.78.8-2.07 0-2.86zM5.41 20L4 18.59l7.72-7.72 1.47 1.35L5.41 20z\"/>\n",
       "  </svg>\n",
       "      </button>\n",
       "      \n",
       "  <style>\n",
       "    .colab-df-container {\n",
       "      display:flex;\n",
       "      flex-wrap:wrap;\n",
       "      gap: 12px;\n",
       "    }\n",
       "\n",
       "    .colab-df-convert {\n",
       "      background-color: #E8F0FE;\n",
       "      border: none;\n",
       "      border-radius: 50%;\n",
       "      cursor: pointer;\n",
       "      display: none;\n",
       "      fill: #1967D2;\n",
       "      height: 32px;\n",
       "      padding: 0 0 0 0;\n",
       "      width: 32px;\n",
       "    }\n",
       "\n",
       "    .colab-df-convert:hover {\n",
       "      background-color: #E2EBFA;\n",
       "      box-shadow: 0px 1px 2px rgba(60, 64, 67, 0.3), 0px 1px 3px 1px rgba(60, 64, 67, 0.15);\n",
       "      fill: #174EA6;\n",
       "    }\n",
       "\n",
       "    [theme=dark] .colab-df-convert {\n",
       "      background-color: #3B4455;\n",
       "      fill: #D2E3FC;\n",
       "    }\n",
       "\n",
       "    [theme=dark] .colab-df-convert:hover {\n",
       "      background-color: #434B5C;\n",
       "      box-shadow: 0px 1px 3px 1px rgba(0, 0, 0, 0.15);\n",
       "      filter: drop-shadow(0px 1px 2px rgba(0, 0, 0, 0.3));\n",
       "      fill: #FFFFFF;\n",
       "    }\n",
       "  </style>\n",
       "\n",
       "      <script>\n",
       "        const buttonEl =\n",
       "          document.querySelector('#df-6e551724-e867-4386-8c8f-0fac46e9cf36 button.colab-df-convert');\n",
       "        buttonEl.style.display =\n",
       "          google.colab.kernel.accessAllowed ? 'block' : 'none';\n",
       "\n",
       "        async function convertToInteractive(key) {\n",
       "          const element = document.querySelector('#df-6e551724-e867-4386-8c8f-0fac46e9cf36');\n",
       "          const dataTable =\n",
       "            await google.colab.kernel.invokeFunction('convertToInteractive',\n",
       "                                                     [key], {});\n",
       "          if (!dataTable) return;\n",
       "\n",
       "          const docLinkHtml = 'Like what you see? Visit the ' +\n",
       "            '<a target=\"_blank\" href=https://colab.research.google.com/notebooks/data_table.ipynb>data table notebook</a>'\n",
       "            + ' to learn more about interactive tables.';\n",
       "          element.innerHTML = '';\n",
       "          dataTable['output_type'] = 'display_data';\n",
       "          await google.colab.output.renderOutput(dataTable, element);\n",
       "          const docLink = document.createElement('div');\n",
       "          docLink.innerHTML = docLinkHtml;\n",
       "          element.appendChild(docLink);\n",
       "        }\n",
       "      </script>\n",
       "    </div>\n",
       "  </div>\n",
       "  "
      ],
      "text/plain": [
       "        age  education   balance  campaign  poutcome  y  marital_married  \\\n",
       "0  0.888889        3.0  0.776131       0.0       0.0  0                1   \n",
       "1  0.577778        1.0  0.374382       0.0       0.0  0                0   \n",
       "2  0.333333        1.0  0.369251       0.0       0.0  0                1   \n",
       "3  0.644444        0.0  0.655074       0.0       0.0  0                1   \n",
       "4  0.333333        0.0  0.369061       0.0       0.0  0                0   \n",
       "\n",
       "   marital_single  job_blue-collar  job_entrepreneur  ...  job_retired  \\\n",
       "0               0                0                 0  ...            0   \n",
       "1               1                0                 0  ...            0   \n",
       "2               0                0                 1  ...            0   \n",
       "3               0                1                 0  ...            0   \n",
       "4               1                0                 0  ...            0   \n",
       "\n",
       "   job_self-employed  job_services  job_student  job_technician  \\\n",
       "0                  0             0            0               0   \n",
       "1                  0             0            0               1   \n",
       "2                  0             0            0               0   \n",
       "3                  0             0            0               0   \n",
       "4                  0             0            0               0   \n",
       "\n",
       "   job_unemployed  job_unknown  default_yes  housing_yes  loan_yes  \n",
       "0               0            0            0            1         0  \n",
       "1               0            0            0            1         0  \n",
       "2               0            0            0            1         1  \n",
       "3               0            0            0            1         0  \n",
       "4               0            1            0            0         0  \n",
       "\n",
       "[5 rows x 22 columns]"
      ]
     },
     "execution_count": 50,
     "metadata": {},
     "output_type": "execute_result"
    }
   ],
   "source": [
    "df_scl.head()"
   ]
  },
  {
   "cell_type": "markdown",
   "id": "avHQ0bgi1qUp",
   "metadata": {
    "id": "avHQ0bgi1qUp"
   },
   "source": [
    "### Feature Importance"
   ]
  },
  {
   "cell_type": "markdown",
   "id": "Extv7PYd8yrW",
   "metadata": {
    "id": "Extv7PYd8yrW"
   },
   "source": [
    "Looking for features to be used in modeling"
   ]
  },
  {
   "cell_type": "code",
   "execution_count": 51,
   "id": "d1b42451-6605-40ac-a818-75c1089a99fc",
   "metadata": {
    "id": "d1b42451-6605-40ac-a818-75c1089a99fc"
   },
   "outputs": [],
   "source": [
    "X = df_scl.drop(['y'], axis=1)\n",
    "y = df_scl[\"y\"].values.reshape(-1, 1)"
   ]
  },
  {
   "cell_type": "code",
   "execution_count": 52,
   "id": "P0OkPWCq16ph",
   "metadata": {
    "colab": {
     "base_uri": "https://localhost:8080/"
    },
    "id": "P0OkPWCq16ph",
    "outputId": "1d0bcc80-a3fd-4602-8ad3-a51d80a88c3c"
   },
   "outputs": [
    {
     "name": "stdout",
     "output_type": "stream",
     "text": [
      "[0.29130896 0.04298262 0.38638052 0.06095595 0.10396525 0.01011749\n",
      " 0.00865197 0.00624807 0.00404004 0.0033387  0.00694303 0.00571546\n",
      " 0.00467935 0.00565149 0.00514773 0.00867118 0.00437207 0.00173553\n",
      " 0.00325867 0.02483231 0.01100362]\n"
     ]
    }
   ],
   "source": [
    "model = ExtraTreesClassifier()\n",
    "model.fit(X, y)\n",
    "print(model.feature_importances_)"
   ]
  },
  {
   "cell_type": "code",
   "execution_count": 53,
   "id": "NAy7HVoo2DS5",
   "metadata": {
    "colab": {
     "base_uri": "https://localhost:8080/",
     "height": 320
    },
    "id": "NAy7HVoo2DS5",
    "outputId": "b040bba0-d7ee-4b0e-a66c-ba5f3f4fd1a5"
   },
   "outputs": [
    {
     "data": {
      "image/png": "[encoded data removed]",
      "text/plain": [
       "<Figure size 576x360 with 1 Axes>"
      ]
     },
     "metadata": {
      "needs_background": "light"
     },
     "output_type": "display_data"
    }
   ],
   "source": [
    "plt.figure(figsize=(8, 5))\n",
    "feat_importances = pd.Series(model.feature_importances_, index=X.columns)\n",
    "feat_importances.nlargest(10).plot(kind=\"barh\")\n",
    "plt.show()"
   ]
  },
  {
   "cell_type": "code",
   "execution_count": 59,
   "id": "msfaQN6U2GnJ",
   "metadata": {
    "id": "msfaQN6U2GnJ"
   },
   "outputs": [],
   "source": [
    "col = feat_importances.nlargest(9).index.tolist()"
   ]
  },
  {
   "cell_type": "code",
   "execution_count": 63,
   "id": "bd8Sn15W2S-w",
   "metadata": {
    "colab": {
     "base_uri": "https://localhost:8080/",
     "height": 206
    },
    "id": "bd8Sn15W2S-w",
    "outputId": "9730b100-81b4-4e72-d919-3a09543426c0"
   },
   "outputs": [
    {
     "data": {
      "text/html": [
       "\n",
       "  <div id=\"df-5aed48e4-f7f0-49e1-ab12-b3e19e42f129\">\n",
       "    <div class=\"colab-df-container\">\n",
       "      <div>\n",
       "<style scoped>\n",
       "    .dataframe tbody tr th:only-of-type {\n",
       "        vertical-align: middle;\n",
       "    }\n",
       "\n",
       "    .dataframe tbody tr th {\n",
       "        vertical-align: top;\n",
       "    }\n",
       "\n",
       "    .dataframe thead th {\n",
       "        text-align: right;\n",
       "    }\n",
       "</style>\n",
       "<table border=\"1\" class=\"dataframe\">\n",
       "  <thead>\n",
       "    <tr style=\"text-align: right;\">\n",
       "      <th></th>\n",
       "      <th>balance</th>\n",
       "      <th>age</th>\n",
       "      <th>poutcome</th>\n",
       "      <th>campaign</th>\n",
       "      <th>education</th>\n",
       "      <th>housing_yes</th>\n",
       "      <th>loan_yes</th>\n",
       "      <th>marital_married</th>\n",
       "      <th>job_technician</th>\n",
       "      <th>y</th>\n",
       "    </tr>\n",
       "  </thead>\n",
       "  <tbody>\n",
       "    <tr>\n",
       "      <th>0</th>\n",
       "      <td>0.776131</td>\n",
       "      <td>0.888889</td>\n",
       "      <td>0.0</td>\n",
       "      <td>0.0</td>\n",
       "      <td>3.0</td>\n",
       "      <td>1</td>\n",
       "      <td>0</td>\n",
       "      <td>1</td>\n",
       "      <td>0</td>\n",
       "      <td>0</td>\n",
       "    </tr>\n",
       "    <tr>\n",
       "      <th>1</th>\n",
       "      <td>0.374382</td>\n",
       "      <td>0.577778</td>\n",
       "      <td>0.0</td>\n",
       "      <td>0.0</td>\n",
       "      <td>1.0</td>\n",
       "      <td>1</td>\n",
       "      <td>0</td>\n",
       "      <td>0</td>\n",
       "      <td>1</td>\n",
       "      <td>0</td>\n",
       "    </tr>\n",
       "    <tr>\n",
       "      <th>2</th>\n",
       "      <td>0.369251</td>\n",
       "      <td>0.333333</td>\n",
       "      <td>0.0</td>\n",
       "      <td>0.0</td>\n",
       "      <td>1.0</td>\n",
       "      <td>1</td>\n",
       "      <td>1</td>\n",
       "      <td>1</td>\n",
       "      <td>0</td>\n",
       "      <td>0</td>\n",
       "    </tr>\n",
       "    <tr>\n",
       "      <th>3</th>\n",
       "      <td>0.655074</td>\n",
       "      <td>0.644444</td>\n",
       "      <td>0.0</td>\n",
       "      <td>0.0</td>\n",
       "      <td>0.0</td>\n",
       "      <td>1</td>\n",
       "      <td>0</td>\n",
       "      <td>1</td>\n",
       "      <td>0</td>\n",
       "      <td>0</td>\n",
       "    </tr>\n",
       "    <tr>\n",
       "      <th>4</th>\n",
       "      <td>0.369061</td>\n",
       "      <td>0.333333</td>\n",
       "      <td>0.0</td>\n",
       "      <td>0.0</td>\n",
       "      <td>0.0</td>\n",
       "      <td>0</td>\n",
       "      <td>0</td>\n",
       "      <td>0</td>\n",
       "      <td>0</td>\n",
       "      <td>0</td>\n",
       "    </tr>\n",
       "  </tbody>\n",
       "</table>\n",
       "</div>\n",
       "      <button class=\"colab-df-convert\" onclick=\"convertToInteractive('df-5aed48e4-f7f0-49e1-ab12-b3e19e42f129')\"\n",
       "              title=\"Convert this dataframe to an interactive table.\"\n",
       "              style=\"display:none;\">\n",
       "        \n",
       "  <svg xmlns=\"http://www.w3.org/2000/svg\" height=\"24px\"viewBox=\"0 0 24 24\"\n",
       "       width=\"24px\">\n",
       "    <path d=\"M0 0h24v24H0V0z\" fill=\"none\"/>\n",
       "    <path d=\"M18.56 5.44l.94 2.06.94-2.06 2.06-.94-2.06-.94-.94-2.06-.94 2.06-2.06.94zm-11 1L8.5 8.5l.94-2.06 2.06-.94-2.06-.94L8.5 2.5l-.94 2.06-2.06.94zm10 10l.94 2.06.94-2.06 2.06-.94-2.06-.94-.94-2.06-.94 2.06-2.06.94z\"/><path d=\"M17.41 7.96l-1.37-1.37c-.4-.4-.92-.59-1.43-.59-.52 0-1.04.2-1.43.59L10.3 9.45l-7.72 7.72c-.78.78-.78 2.05 0 2.83L4 21.41c.39.39.9.59 1.41.59.51 0 1.02-.2 1.41-.59l7.78-7.78 2.81-2.81c.8-.78.8-2.07 0-2.86zM5.41 20L4 18.59l7.72-7.72 1.47 1.35L5.41 20z\"/>\n",
       "  </svg>\n",
       "      </button>\n",
       "      \n",
       "  <style>\n",
       "    .colab-df-container {\n",
       "      display:flex;\n",
       "      flex-wrap:wrap;\n",
       "      gap: 12px;\n",
       "    }\n",
       "\n",
       "    .colab-df-convert {\n",
       "      background-color: #E8F0FE;\n",
       "      border: none;\n",
       "      border-radius: 50%;\n",
       "      cursor: pointer;\n",
       "      display: none;\n",
       "      fill: #1967D2;\n",
       "      height: 32px;\n",
       "      padding: 0 0 0 0;\n",
       "      width: 32px;\n",
       "    }\n",
       "\n",
       "    .colab-df-convert:hover {\n",
       "      background-color: #E2EBFA;\n",
       "      box-shadow: 0px 1px 2px rgba(60, 64, 67, 0.3), 0px 1px 3px 1px rgba(60, 64, 67, 0.15);\n",
       "      fill: #174EA6;\n",
       "    }\n",
       "\n",
       "    [theme=dark] .colab-df-convert {\n",
       "      background-color: #3B4455;\n",
       "      fill: #D2E3FC;\n",
       "    }\n",
       "\n",
       "    [theme=dark] .colab-df-convert:hover {\n",
       "      background-color: #434B5C;\n",
       "      box-shadow: 0px 1px 3px 1px rgba(0, 0, 0, 0.15);\n",
       "      filter: drop-shadow(0px 1px 2px rgba(0, 0, 0, 0.3));\n",
       "      fill: #FFFFFF;\n",
       "    }\n",
       "  </style>\n",
       "\n",
       "      <script>\n",
       "        const buttonEl =\n",
       "          document.querySelector('#df-5aed48e4-f7f0-49e1-ab12-b3e19e42f129 button.colab-df-convert');\n",
       "        buttonEl.style.display =\n",
       "          google.colab.kernel.accessAllowed ? 'block' : 'none';\n",
       "\n",
       "        async function convertToInteractive(key) {\n",
       "          const element = document.querySelector('#df-5aed48e4-f7f0-49e1-ab12-b3e19e42f129');\n",
       "          const dataTable =\n",
       "            await google.colab.kernel.invokeFunction('convertToInteractive',\n",
       "                                                     [key], {});\n",
       "          if (!dataTable) return;\n",
       "\n",
       "          const docLinkHtml = 'Like what you see? Visit the ' +\n",
       "            '<a target=\"_blank\" href=https://colab.research.google.com/notebooks/data_table.ipynb>data table notebook</a>'\n",
       "            + ' to learn more about interactive tables.';\n",
       "          element.innerHTML = '';\n",
       "          dataTable['output_type'] = 'display_data';\n",
       "          await google.colab.output.renderOutput(dataTable, element);\n",
       "          const docLink = document.createElement('div');\n",
       "          docLink.innerHTML = docLinkHtml;\n",
       "          element.appendChild(docLink);\n",
       "        }\n",
       "      </script>\n",
       "    </div>\n",
       "  </div>\n",
       "  "
      ],
      "text/plain": [
       "    balance       age  poutcome  campaign  education  housing_yes  loan_yes  \\\n",
       "0  0.776131  0.888889       0.0       0.0        3.0            1         0   \n",
       "1  0.374382  0.577778       0.0       0.0        1.0            1         0   \n",
       "2  0.369251  0.333333       0.0       0.0        1.0            1         1   \n",
       "3  0.655074  0.644444       0.0       0.0        0.0            1         0   \n",
       "4  0.369061  0.333333       0.0       0.0        0.0            0         0   \n",
       "\n",
       "   marital_married  job_technician  y  \n",
       "0                1               0  0  \n",
       "1                0               1  0  \n",
       "2                1               0  0  \n",
       "3                1               0  0  \n",
       "4                0               0  0  "
      ]
     },
     "execution_count": 63,
     "metadata": {},
     "output_type": "execute_result"
    }
   ],
   "source": [
    "df_fi = df_scl[col].copy()\n",
    "df_fi[\"y\"] = df_scl[\"y\"]\n",
    "df_fi.head()"
   ]
  },
  {
   "cell_type": "markdown",
   "id": "de85ebe8-0151-4d31-8375-865b9ee54740",
   "metadata": {
    "id": "de85ebe8-0151-4d31-8375-865b9ee54740"
   },
   "source": [
    "## LOGISTIC REGRESSION"
   ]
  },
  {
   "cell_type": "markdown",
   "id": "OP-ggJABj8Lg",
   "metadata": {
    "id": "OP-ggJABj8Lg"
   },
   "source": [
    "Split data train (80%) and test (20%)"
   ]
  },
  {
   "cell_type": "code",
   "execution_count": 64,
   "id": "gMbwSPtF2Eba",
   "metadata": {
    "id": "gMbwSPtF2Eba"
   },
   "outputs": [],
   "source": [
    "X = df_fi.drop(['y'], axis=1)\n",
    "y = df_fi[\"y\"].values.reshape(-1, 1)"
   ]
  },
  {
   "cell_type": "code",
   "execution_count": 65,
   "id": "b36a7ebc-8e78-4ff0-b836-e1b8c0713b3a",
   "metadata": {
    "id": "b36a7ebc-8e78-4ff0-b836-e1b8c0713b3a"
   },
   "outputs": [],
   "source": [
    "X_train, X_test, y_train, y_test = train_test_split(X, y, test_size=0.2, random_state=0)"
   ]
  },
  {
   "cell_type": "code",
   "execution_count": 66,
   "id": "51d75dce-6e48-4dc3-b7f2-3aceafc219b6",
   "metadata": {
    "id": "51d75dce-6e48-4dc3-b7f2-3aceafc219b6"
   },
   "outputs": [],
   "source": [
    "model = LogisticRegression()"
   ]
  },
  {
   "cell_type": "markdown",
   "id": "e4647a54-9c09-4e93-8108-ce4a5836dd7f",
   "metadata": {
    "id": "e4647a54-9c09-4e93-8108-ce4a5836dd7f"
   },
   "source": [
    "### Basic"
   ]
  },
  {
   "cell_type": "code",
   "execution_count": 67,
   "id": "_c09uiLdT20Y",
   "metadata": {
    "colab": {
     "base_uri": "https://localhost:8080/"
    },
    "id": "_c09uiLdT20Y",
    "outputId": "09b23841-93c5-4542-b0fa-8a2a70f40118"
   },
   "outputs": [
    {
     "data": {
      "text/plain": [
       "LogisticRegression()"
      ]
     },
     "execution_count": 67,
     "metadata": {},
     "output_type": "execute_result"
    }
   ],
   "source": [
    "model.fit(X_train, y_train)"
   ]
  },
  {
   "cell_type": "code",
   "execution_count": 68,
   "id": "b56b185c-16f3-4f9e-af72-d0b70d480ab9",
   "metadata": {
    "id": "b56b185c-16f3-4f9e-af72-d0b70d480ab9"
   },
   "outputs": [],
   "source": [
    "y_pred = model.predict(X_test)"
   ]
  },
  {
   "cell_type": "markdown",
   "id": "b5aafa4c-af86-4460-812b-625af58996b1",
   "metadata": {
    "id": "b5aafa4c-af86-4460-812b-625af58996b1",
    "tags": []
   },
   "source": [
    "#### Basic Model Evaluation"
   ]
  },
  {
   "cell_type": "markdown",
   "id": "9-3aJDXLkbLv",
   "metadata": {
    "id": "9-3aJDXLkbLv"
   },
   "source": [
    "Evaluate the model with confusion matrix, classification report, AUC score, and train & test score"
   ]
  },
  {
   "cell_type": "code",
   "execution_count": 69,
   "id": "3ba4d4f4-e1f1-4f58-b47f-17e6ed823a1a",
   "metadata": {
    "colab": {
     "base_uri": "https://localhost:8080/",
     "height": 334
    },
    "id": "3ba4d4f4-e1f1-4f58-b47f-17e6ed823a1a",
    "outputId": "7854021f-bab3-41a3-86b4-6b14c20b9c55"
   },
   "outputs": [
    {
     "data": {
      "image/png": "[encoded data removed]",
      "text/plain": [
       "<Figure size 576x360 with 2 Axes>"
      ]
     },
     "metadata": {
      "needs_background": "light"
     },
     "output_type": "display_data"
    }
   ],
   "source": [
    "f, ax = plt.subplots(figsize=(8, 5))\n",
    "sns.heatmap(confusion_matrix(y_test, y_pred), annot=True, fmt='.0f', ax=ax)\n",
    "plt.xlabel('Prediction')\n",
    "plt.ylabel('Actual')\n",
    "plt.show()"
   ]
  },
  {
   "cell_type": "code",
   "execution_count": 70,
   "id": "556cd7e5-07e2-4ddb-b0a6-57337a7b7c3a",
   "metadata": {
    "colab": {
     "base_uri": "https://localhost:8080/"
    },
    "id": "556cd7e5-07e2-4ddb-b0a6-57337a7b7c3a",
    "outputId": "12c83f4b-29ab-4ecc-f4d3-c2d3cfa8b389"
   },
   "outputs": [
    {
     "name": "stdout",
     "output_type": "stream",
     "text": [
      "              precision    recall  f1-score   support\n",
      "\n",
      "           0       0.89      0.99      0.94      7980\n",
      "           1       0.60      0.07      0.13      1063\n",
      "\n",
      "    accuracy                           0.89      9043\n",
      "   macro avg       0.74      0.53      0.53      9043\n",
      "weighted avg       0.85      0.89      0.84      9043\n",
      "\n"
     ]
    }
   ],
   "source": [
    "print(classification_report(y_test, y_pred))"
   ]
  },
  {
   "cell_type": "code",
   "execution_count": 71,
   "id": "6e71347a-d208-4ec8-bee0-47bf5637dff5",
   "metadata": {
    "id": "6e71347a-d208-4ec8-bee0-47bf5637dff5"
   },
   "outputs": [],
   "source": [
    "def plot_roc_curve(true_y, y_prob, labels):\n",
    "    fpr, tpr, thresholds = roc_curve(true_y, y_prob)\n",
    "    sns.lineplot(fpr, tpr, label=labels)\n",
    "    plt.xlabel('False Positive Rate')\n",
    "    plt.ylabel('True Positive Rate')"
   ]
  },
  {
   "cell_type": "code",
   "execution_count": 72,
   "id": "b1f3bf58-6be4-43c8-a467-3d7fb3823264",
   "metadata": {
    "colab": {
     "base_uri": "https://localhost:8080/",
     "height": 331
    },
    "id": "b1f3bf58-6be4-43c8-a467-3d7fb3823264",
    "outputId": "7d564123-3101-46a1-f2d8-2e1fc5f1af22"
   },
   "outputs": [
    {
     "name": "stdout",
     "output_type": "stream",
     "text": [
      "\n",
      "model AUC score: 0.5320820277410365\n",
      "\n"
     ]
    },
    {
     "data": {
      "image/png": "[encoded data removed]",
      "text/plain": [
       "<Figure size 432x288 with 1 Axes>"
      ]
     },
     "metadata": {
      "needs_background": "light"
     },
     "output_type": "display_data"
    }
   ],
   "source": [
    "plot_roc_curve(y_test, y_pred, \"AUC Score\")\n",
    "print(f\"\\nmodel AUC score: {roc_auc_score(y_test, y_pred)}\\n\")\n",
    "plt.show()"
   ]
  },
  {
   "cell_type": "code",
   "execution_count": 73,
   "id": "0ff70a9a-8e9d-45b6-8c94-0dc4c60cffbc",
   "metadata": {
    "colab": {
     "base_uri": "https://localhost:8080/",
     "height": 112
    },
    "id": "0ff70a9a-8e9d-45b6-8c94-0dc4c60cffbc",
    "outputId": "81efcdc5-0708-4c55-f6fb-703d99eba8f4"
   },
   "outputs": [
    {
     "data": {
      "text/html": [
       "\n",
       "  <div id=\"df-6b3afc7f-589e-4ec2-a7a5-30bf52575936\">\n",
       "    <div class=\"colab-df-container\">\n",
       "      <div>\n",
       "<style scoped>\n",
       "    .dataframe tbody tr th:only-of-type {\n",
       "        vertical-align: middle;\n",
       "    }\n",
       "\n",
       "    .dataframe tbody tr th {\n",
       "        vertical-align: top;\n",
       "    }\n",
       "\n",
       "    .dataframe thead th {\n",
       "        text-align: right;\n",
       "    }\n",
       "</style>\n",
       "<table border=\"1\" class=\"dataframe\">\n",
       "  <thead>\n",
       "    <tr style=\"text-align: right;\">\n",
       "      <th></th>\n",
       "      <th>Score (%)</th>\n",
       "    </tr>\n",
       "  </thead>\n",
       "  <tbody>\n",
       "    <tr>\n",
       "      <th>Model Score in Data Train</th>\n",
       "      <td>88.852024</td>\n",
       "    </tr>\n",
       "    <tr>\n",
       "      <th>Model Score in Data Test</th>\n",
       "      <td>88.510450</td>\n",
       "    </tr>\n",
       "  </tbody>\n",
       "</table>\n",
       "</div>\n",
       "      <button class=\"colab-df-convert\" onclick=\"convertToInteractive('df-6b3afc7f-589e-4ec2-a7a5-30bf52575936')\"\n",
       "              title=\"Convert this dataframe to an interactive table.\"\n",
       "              style=\"display:none;\">\n",
       "        \n",
       "  <svg xmlns=\"http://www.w3.org/2000/svg\" height=\"24px\"viewBox=\"0 0 24 24\"\n",
       "       width=\"24px\">\n",
       "    <path d=\"M0 0h24v24H0V0z\" fill=\"none\"/>\n",
       "    <path d=\"M18.56 5.44l.94 2.06.94-2.06 2.06-.94-2.06-.94-.94-2.06-.94 2.06-2.06.94zm-11 1L8.5 8.5l.94-2.06 2.06-.94-2.06-.94L8.5 2.5l-.94 2.06-2.06.94zm10 10l.94 2.06.94-2.06 2.06-.94-2.06-.94-.94-2.06-.94 2.06-2.06.94z\"/><path d=\"M17.41 7.96l-1.37-1.37c-.4-.4-.92-.59-1.43-.59-.52 0-1.04.2-1.43.59L10.3 9.45l-7.72 7.72c-.78.78-.78 2.05 0 2.83L4 21.41c.39.39.9.59 1.41.59.51 0 1.02-.2 1.41-.59l7.78-7.78 2.81-2.81c.8-.78.8-2.07 0-2.86zM5.41 20L4 18.59l7.72-7.72 1.47 1.35L5.41 20z\"/>\n",
       "  </svg>\n",
       "      </button>\n",
       "      \n",
       "  <style>\n",
       "    .colab-df-container {\n",
       "      display:flex;\n",
       "      flex-wrap:wrap;\n",
       "      gap: 12px;\n",
       "    }\n",
       "\n",
       "    .colab-df-convert {\n",
       "      background-color: #E8F0FE;\n",
       "      border: none;\n",
       "      border-radius: 50%;\n",
       "      cursor: pointer;\n",
       "      display: none;\n",
       "      fill: #1967D2;\n",
       "      height: 32px;\n",
       "      padding: 0 0 0 0;\n",
       "      width: 32px;\n",
       "    }\n",
       "\n",
       "    .colab-df-convert:hover {\n",
       "      background-color: #E2EBFA;\n",
       "      box-shadow: 0px 1px 2px rgba(60, 64, 67, 0.3), 0px 1px 3px 1px rgba(60, 64, 67, 0.15);\n",
       "      fill: #174EA6;\n",
       "    }\n",
       "\n",
       "    [theme=dark] .colab-df-convert {\n",
       "      background-color: #3B4455;\n",
       "      fill: #D2E3FC;\n",
       "    }\n",
       "\n",
       "    [theme=dark] .colab-df-convert:hover {\n",
       "      background-color: #434B5C;\n",
       "      box-shadow: 0px 1px 3px 1px rgba(0, 0, 0, 0.15);\n",
       "      filter: drop-shadow(0px 1px 2px rgba(0, 0, 0, 0.3));\n",
       "      fill: #FFFFFF;\n",
       "    }\n",
       "  </style>\n",
       "\n",
       "      <script>\n",
       "        const buttonEl =\n",
       "          document.querySelector('#df-6b3afc7f-589e-4ec2-a7a5-30bf52575936 button.colab-df-convert');\n",
       "        buttonEl.style.display =\n",
       "          google.colab.kernel.accessAllowed ? 'block' : 'none';\n",
       "\n",
       "        async function convertToInteractive(key) {\n",
       "          const element = document.querySelector('#df-6b3afc7f-589e-4ec2-a7a5-30bf52575936');\n",
       "          const dataTable =\n",
       "            await google.colab.kernel.invokeFunction('convertToInteractive',\n",
       "                                                     [key], {});\n",
       "          if (!dataTable) return;\n",
       "\n",
       "          const docLinkHtml = 'Like what you see? Visit the ' +\n",
       "            '<a target=\"_blank\" href=https://colab.research.google.com/notebooks/data_table.ipynb>data table notebook</a>'\n",
       "            + ' to learn more about interactive tables.';\n",
       "          element.innerHTML = '';\n",
       "          dataTable['output_type'] = 'display_data';\n",
       "          await google.colab.output.renderOutput(dataTable, element);\n",
       "          const docLink = document.createElement('div');\n",
       "          docLink.innerHTML = docLinkHtml;\n",
       "          element.appendChild(docLink);\n",
       "        }\n",
       "      </script>\n",
       "    </div>\n",
       "  </div>\n",
       "  "
      ],
      "text/plain": [
       "                           Score (%)\n",
       "Model Score in Data Train  88.852024\n",
       "Model Score in Data Test   88.510450"
      ]
     },
     "execution_count": 73,
     "metadata": {},
     "output_type": "execute_result"
    }
   ],
   "source": [
    "pd.DataFrame(data=[model.score(X_train, y_train)*100,\n",
    "                   model.score(X_test, y_test)*100],\n",
    "             index=['Model Score in Data Train', 'Model Score in Data Test'],\n",
    "             columns=['Score (%)'])"
   ]
  },
  {
   "cell_type": "markdown",
   "id": "d3011b04-46a9-4d99-bcff-97ed0bb1feba",
   "metadata": {
    "id": "d3011b04-46a9-4d99-bcff-97ed0bb1feba"
   },
   "source": [
    "### Optimize"
   ]
  },
  {
   "cell_type": "markdown",
   "id": "a95eeba6-9800-43ea-a090-afc88326acab",
   "metadata": {
    "id": "a95eeba6-9800-43ea-a090-afc88326acab"
   },
   "source": [
    "#### Imbalanced Data Handling"
   ]
  },
  {
   "cell_type": "markdown",
   "id": "MsqG0bZuksep",
   "metadata": {
    "id": "MsqG0bZuksep"
   },
   "source": [
    "Doing data balancing, but because we want to increase the precision value, we don't do data balancing"
   ]
  },
  {
   "cell_type": "code",
   "execution_count": null,
   "id": "48548e7e-3048-4456-9a2f-7822ba5ba81f",
   "metadata": {
    "id": "48548e7e-3048-4456-9a2f-7822ba5ba81f"
   },
   "outputs": [],
   "source": [
    "# balanced = TomekLinks()\n",
    "# X_train, y_train = balanced.fit_resample(X_train, y_train)"
   ]
  },
  {
   "cell_type": "markdown",
   "id": "38fd9706-a4d1-497f-93d6-f1086c1641b9",
   "metadata": {
    "id": "38fd9706-a4d1-497f-93d6-f1086c1641b9"
   },
   "source": [
    "#### Hypermarameter Tuning"
   ]
  },
  {
   "cell_type": "markdown",
   "id": "vW4Nt31nk15X",
   "metadata": {
    "id": "vW4Nt31nk15X"
   },
   "source": [
    "Looking for the best hyperparameter, so that the percentage in classification can increase"
   ]
  },
  {
   "cell_type": "code",
   "execution_count": 74,
   "id": "39839544-66ba-431d-9c66-29b58d2e5668",
   "metadata": {
    "id": "39839544-66ba-431d-9c66-29b58d2e5668"
   },
   "outputs": [],
   "source": [
    "param = [{'solver': ['saga'],\n",
    "          'penalty': ['elasticnet', 'l1', 'l2', 'none'],\n",
    "          'max_iter': [10, 20, 30, 40, 50, 60, 70, 80, 90, 100],\n",
    "          'C': [0.01, 0.1, 1],\n",
    "          'l1_ratio': [0, 1]},\n",
    "\n",
    "         {'solver': ['newton-cg', 'lbfgs'],\n",
    "          'penalty': ['l2', 'none'],\n",
    "          'max_iter': [10, 20, 30, 40, 50, 60, 70, 80, 90, 100],\n",
    "          'C': [0.01, 0.1, 1],\n",
    "          'l1_ratio': [0, 1]}]"
   ]
  },
  {
   "cell_type": "code",
   "execution_count": 75,
   "id": "1c310313-218f-4a74-97c0-ead8e3837465",
   "metadata": {
    "id": "1c310313-218f-4a74-97c0-ead8e3837465"
   },
   "outputs": [],
   "source": [
    "model_ht = RandomizedSearchCV(estimator=model, param_distributions=param, cv=5, scoring=\"f1\")"
   ]
  },
  {
   "cell_type": "markdown",
   "id": "3a698226-348b-4b35-8dfe-5f645ea069d0",
   "metadata": {
    "id": "3a698226-348b-4b35-8dfe-5f645ea069d0"
   },
   "source": [
    "##### Random Search"
   ]
  },
  {
   "cell_type": "markdown",
   "id": "DM3uyALzlCc4",
   "metadata": {
    "id": "DM3uyALzlCc4"
   },
   "source": [
    "Perform hyperparameter tuning process with random search"
   ]
  },
  {
   "cell_type": "code",
   "execution_count": 76,
   "id": "PoKTr91_Tgb8",
   "metadata": {
    "colab": {
     "base_uri": "https://localhost:8080/"
    },
    "id": "PoKTr91_Tgb8",
    "outputId": "73a66d78-1719-46ce-973d-934eb129b229"
   },
   "outputs": [
    {
     "data": {
      "text/plain": [
       "RandomizedSearchCV(cv=5, estimator=LogisticRegression(),\n",
       "                   param_distributions=[{'C': [0.01, 0.1, 1],\n",
       "                                         'l1_ratio': [0, 1],\n",
       "                                         'max_iter': [10, 20, 30, 40, 50, 60,\n",
       "                                                      70, 80, 90, 100],\n",
       "                                         'penalty': ['elasticnet', 'l1', 'l2',\n",
       "                                                     'none'],\n",
       "                                         'solver': ['saga']},\n",
       "                                        {'C': [0.01, 0.1, 1],\n",
       "                                         'l1_ratio': [0, 1],\n",
       "                                         'max_iter': [10, 20, 30, 40, 50, 60,\n",
       "                                                      70, 80, 90, 100],\n",
       "                                         'penalty': ['l2', 'none'],\n",
       "                                         'solver': ['newton-cg', 'lbfgs']}],\n",
       "                   scoring='f1')"
      ]
     },
     "execution_count": 76,
     "metadata": {},
     "output_type": "execute_result"
    }
   ],
   "source": [
    "model_ht.fit(X_train, y_train)"
   ]
  },
  {
   "cell_type": "code",
   "execution_count": 77,
   "id": "b51adfbc-ff04-456a-bf81-f3d00acbe17e",
   "metadata": {
    "colab": {
     "base_uri": "https://localhost:8080/"
    },
    "id": "b51adfbc-ff04-456a-bf81-f3d00acbe17e",
    "outputId": "a1e2577f-10c1-41c9-deb3-91e1e4367a43"
   },
   "outputs": [
    {
     "data": {
      "text/plain": [
       "{'solver': 'newton-cg',\n",
       " 'penalty': 'none',\n",
       " 'max_iter': 60,\n",
       " 'l1_ratio': 0,\n",
       " 'C': 0.01}"
      ]
     },
     "execution_count": 77,
     "metadata": {},
     "output_type": "execute_result"
    }
   ],
   "source": [
    "model_ht.best_params_"
   ]
  },
  {
   "cell_type": "code",
   "execution_count": 78,
   "id": "1d508823-eea0-42cb-bbdc-9d697f19eae5",
   "metadata": {
    "colab": {
     "base_uri": "https://localhost:8080/"
    },
    "id": "1d508823-eea0-42cb-bbdc-9d697f19eae5",
    "outputId": "a0d60e3c-a21a-4b44-d66b-11aa7bf8a20e"
   },
   "outputs": [
    {
     "data": {
      "text/plain": [
       "LogisticRegression(C=0.01, l1_ratio=0, max_iter=60, penalty='none',\n",
       "                   solver='newton-cg')"
      ]
     },
     "execution_count": 78,
     "metadata": {},
     "output_type": "execute_result"
    }
   ],
   "source": [
    "model_ht_tuned = LogisticRegression(solver=\"newton-cg\", penalty=\"none\", max_iter=60, C=0.01, l1_ratio=0)\n",
    "model_ht_tuned.fit(X_train, y_train)"
   ]
  },
  {
   "cell_type": "markdown",
   "id": "qieqNPxRDEQ1",
   "metadata": {
    "id": "qieqNPxRDEQ1"
   },
   "source": [
    "###### Report"
   ]
  },
  {
   "cell_type": "markdown",
   "id": "TuHFVMbXlUxY",
   "metadata": {
    "id": "TuHFVMbXlUxY"
   },
   "source": [
    "Displays cross validation on train and test data, correlation matrix, AUC score, and train & test score"
   ]
  },
  {
   "cell_type": "code",
   "execution_count": 79,
   "id": "73186de1-17ba-4cc0-a4ed-241a0fc7e2ae",
   "metadata": {
    "colab": {
     "base_uri": "https://localhost:8080/"
    },
    "id": "73186de1-17ba-4cc0-a4ed-241a0fc7e2ae",
    "outputId": "05f69dfc-60d8-4e38-ea37-1b527eebf7e9"
   },
   "outputs": [
    {
     "name": "stdout",
     "output_type": "stream",
     "text": [
      "fold no. - 0, score: 0.89\n",
      "fold no. - 1, score: 0.89\n",
      "fold no. - 2, score: 0.89\n",
      "fold no. - 3, score: 0.89\n",
      "fold no. - 4, score: 0.89\n"
     ]
    }
   ],
   "source": [
    "scores_train = cross_val_score(model_ht_tuned, X_train, y_train, scoring='accuracy', cv=5)\n",
    "for i, j in enumerate(scores_train):\n",
    "    print(f\"fold no. - {i}, score: {round(j, 2)}\")"
   ]
  },
  {
   "cell_type": "code",
   "execution_count": 80,
   "id": "ffe3ceff-047a-477a-b793-46181bb2c813",
   "metadata": {
    "colab": {
     "base_uri": "https://localhost:8080/"
    },
    "id": "ffe3ceff-047a-477a-b793-46181bb2c813",
    "outputId": "bf824ba0-d8f8-4281-b448-4e9940ae307b"
   },
   "outputs": [
    {
     "name": "stdout",
     "output_type": "stream",
     "text": [
      "fold no. - 0, score: 0.89\n",
      "fold no. - 1, score: 0.89\n",
      "fold no. - 2, score: 0.89\n",
      "fold no. - 3, score: 0.89\n",
      "fold no. - 4, score: 0.89\n"
     ]
    }
   ],
   "source": [
    "scores_test = cross_validate(model_ht_tuned, X_train, y_train, cv=5)\n",
    "for i, j in enumerate(scores_test[\"test_score\"]):\n",
    "    print(f\"fold no. - {i}, score: {round(j, 2)}\")"
   ]
  },
  {
   "cell_type": "code",
   "execution_count": 81,
   "id": "7f4c978b-8084-4625-8343-9dfd561badfa",
   "metadata": {
    "colab": {
     "base_uri": "https://localhost:8080/",
     "height": 320
    },
    "id": "7f4c978b-8084-4625-8343-9dfd561badfa",
    "outputId": "8b4be6b7-a2de-478c-c848-ef332c844dfe"
   },
   "outputs": [
    {
     "data": {
      "image/png": "[encoded data removed]",
      "text/plain": [
       "<Figure size 504x360 with 1 Axes>"
      ]
     },
     "metadata": {
      "needs_background": "light"
     },
     "output_type": "display_data"
    }
   ],
   "source": [
    "plt.figure(figsize=(7, 5))\n",
    "sns.lineplot(data=scores_train, label=\"Train\", marker=\"o\")\n",
    "sns.lineplot(data=scores_test[\"test_score\"], label=\"Test\", marker=\"o\")\n",
    "plt.show()"
   ]
  },
  {
   "cell_type": "code",
   "execution_count": 82,
   "id": "e7bfda63-34fe-4ae8-a20a-af7c75b2a835",
   "metadata": {
    "colab": {
     "base_uri": "https://localhost:8080/"
    },
    "id": "e7bfda63-34fe-4ae8-a20a-af7c75b2a835",
    "outputId": "53c2daa0-a177-434c-9992-6dbb0af3781e"
   },
   "outputs": [
    {
     "name": "stdout",
     "output_type": "stream",
     "text": [
      "Train Score:  0.8884096601906883\n",
      "Test Score:  0.8884096601906883\n",
      "Score Diff:  0.0\n"
     ]
    }
   ],
   "source": [
    "print(\"Train Score: \", scores_train.mean())\n",
    "print(\"Test Score: \",  scores_test[\"test_score\"].mean())\n",
    "print(\"Score Diff: \", round((scores_train.mean() - scores_test[\"test_score\"].mean())*100, 2))"
   ]
  },
  {
   "cell_type": "code",
   "execution_count": 83,
   "id": "c5bbf4e1-253e-4780-9daf-32cbf1fb9abe",
   "metadata": {
    "colab": {
     "base_uri": "https://localhost:8080/",
     "height": 334
    },
    "id": "c5bbf4e1-253e-4780-9daf-32cbf1fb9abe",
    "outputId": "d4311b21-199a-4f8b-f17c-fb787fe5c801"
   },
   "outputs": [
    {
     "data": {
      "image/png": "[encoded data removed]",
      "text/plain": [
       "<Figure size 576x360 with 2 Axes>"
      ]
     },
     "metadata": {
      "needs_background": "light"
     },
     "output_type": "display_data"
    }
   ],
   "source": [
    "f, ax = plt.subplots(figsize=(8, 5))\n",
    "sns.heatmap(confusion_matrix(y_test, y_pred), annot=True, fmt='.0f', ax=ax)\n",
    "plt.xlabel('Prediction')\n",
    "plt.ylabel('Actual')\n",
    "plt.show()"
   ]
  },
  {
   "cell_type": "code",
   "execution_count": 84,
   "id": "caf19c91-c0ea-4dc4-8e29-1edf687c3da2",
   "metadata": {
    "colab": {
     "base_uri": "https://localhost:8080/"
    },
    "id": "caf19c91-c0ea-4dc4-8e29-1edf687c3da2",
    "outputId": "42273139-ed74-4a07-9133-c7bd0364a9cf"
   },
   "outputs": [
    {
     "name": "stdout",
     "output_type": "stream",
     "text": [
      "              precision    recall  f1-score   support\n",
      "\n",
      "           0       0.89      0.99      0.94      7980\n",
      "           1       0.59      0.07      0.13      1063\n",
      "\n",
      "    accuracy                           0.88      9043\n",
      "   macro avg       0.74      0.53      0.53      9043\n",
      "weighted avg       0.85      0.88      0.84      9043\n",
      "\n"
     ]
    }
   ],
   "source": [
    "y_pred_ht_tuned = model_ht_tuned.predict(X_test)\n",
    "print(classification_report(y_test, y_pred_ht_tuned))"
   ]
  },
  {
   "cell_type": "code",
   "execution_count": 85,
   "id": "Qoi8f369_tsO",
   "metadata": {
    "id": "Qoi8f369_tsO"
   },
   "outputs": [],
   "source": [
    "def plot_roc_curve(true_y, y_prob, labels):\n",
    "    fpr, tpr, thresholds = roc_curve(true_y, y_prob)\n",
    "    sns.lineplot(fpr, tpr, label=labels)\n",
    "    plt.xlabel('False Positive Rate')\n",
    "    plt.ylabel('True Positive Rate')"
   ]
  },
  {
   "cell_type": "code",
   "execution_count": 86,
   "id": "r7KY2zSu_oIc",
   "metadata": {
    "colab": {
     "base_uri": "https://localhost:8080/",
     "height": 331
    },
    "id": "r7KY2zSu_oIc",
    "outputId": "6e03f83f-9d82-4bce-9cef-2a92d47d4be5"
   },
   "outputs": [
    {
     "name": "stdout",
     "output_type": "stream",
     "text": [
      "\n",
      "model AUC score: 0.5320193710994325\n",
      "\n"
     ]
    },
    {
     "data": {
      "image/png": "[encoded data removed]",
      "text/plain": [
       "<Figure size 432x288 with 1 Axes>"
      ]
     },
     "metadata": {
      "needs_background": "light"
     },
     "output_type": "display_data"
    }
   ],
   "source": [
    "plot_roc_curve(y_test, y_pred_ht_tuned, \"AUC Score\")\n",
    "print(f\"\\nmodel AUC score: {roc_auc_score(y_test, y_pred_ht_tuned)}\\n\")\n",
    "plt.show()"
   ]
  },
  {
   "cell_type": "code",
   "execution_count": 87,
   "id": "oEeV42z7_xQj",
   "metadata": {
    "colab": {
     "base_uri": "https://localhost:8080/",
     "height": 112
    },
    "id": "oEeV42z7_xQj",
    "outputId": "305d9947-7199-400c-d4d1-6b762dda767e"
   },
   "outputs": [
    {
     "data": {
      "text/html": [
       "\n",
       "  <div id=\"df-285e0217-b269-42a3-822b-9c35c4e16bfb\">\n",
       "    <div class=\"colab-df-container\">\n",
       "      <div>\n",
       "<style scoped>\n",
       "    .dataframe tbody tr th:only-of-type {\n",
       "        vertical-align: middle;\n",
       "    }\n",
       "\n",
       "    .dataframe tbody tr th {\n",
       "        vertical-align: top;\n",
       "    }\n",
       "\n",
       "    .dataframe thead th {\n",
       "        text-align: right;\n",
       "    }\n",
       "</style>\n",
       "<table border=\"1\" class=\"dataframe\">\n",
       "  <thead>\n",
       "    <tr style=\"text-align: right;\">\n",
       "      <th></th>\n",
       "      <th>Score (%)</th>\n",
       "    </tr>\n",
       "  </thead>\n",
       "  <tbody>\n",
       "    <tr>\n",
       "      <th>Model Score in Data Train</th>\n",
       "      <td>88.849259</td>\n",
       "    </tr>\n",
       "    <tr>\n",
       "      <th>Model Score in Data Test</th>\n",
       "      <td>88.499392</td>\n",
       "    </tr>\n",
       "  </tbody>\n",
       "</table>\n",
       "</div>\n",
       "      <button class=\"colab-df-convert\" onclick=\"convertToInteractive('df-285e0217-b269-42a3-822b-9c35c4e16bfb')\"\n",
       "              title=\"Convert this dataframe to an interactive table.\"\n",
       "              style=\"display:none;\">\n",
       "        \n",
       "  <svg xmlns=\"http://www.w3.org/2000/svg\" height=\"24px\"viewBox=\"0 0 24 24\"\n",
       "       width=\"24px\">\n",
       "    <path d=\"M0 0h24v24H0V0z\" fill=\"none\"/>\n",
       "    <path d=\"M18.56 5.44l.94 2.06.94-2.06 2.06-.94-2.06-.94-.94-2.06-.94 2.06-2.06.94zm-11 1L8.5 8.5l.94-2.06 2.06-.94-2.06-.94L8.5 2.5l-.94 2.06-2.06.94zm10 10l.94 2.06.94-2.06 2.06-.94-2.06-.94-.94-2.06-.94 2.06-2.06.94z\"/><path d=\"M17.41 7.96l-1.37-1.37c-.4-.4-.92-.59-1.43-.59-.52 0-1.04.2-1.43.59L10.3 9.45l-7.72 7.72c-.78.78-.78 2.05 0 2.83L4 21.41c.39.39.9.59 1.41.59.51 0 1.02-.2 1.41-.59l7.78-7.78 2.81-2.81c.8-.78.8-2.07 0-2.86zM5.41 20L4 18.59l7.72-7.72 1.47 1.35L5.41 20z\"/>\n",
       "  </svg>\n",
       "      </button>\n",
       "      \n",
       "  <style>\n",
       "    .colab-df-container {\n",
       "      display:flex;\n",
       "      flex-wrap:wrap;\n",
       "      gap: 12px;\n",
       "    }\n",
       "\n",
       "    .colab-df-convert {\n",
       "      background-color: #E8F0FE;\n",
       "      border: none;\n",
       "      border-radius: 50%;\n",
       "      cursor: pointer;\n",
       "      display: none;\n",
       "      fill: #1967D2;\n",
       "      height: 32px;\n",
       "      padding: 0 0 0 0;\n",
       "      width: 32px;\n",
       "    }\n",
       "\n",
       "    .colab-df-convert:hover {\n",
       "      background-color: #E2EBFA;\n",
       "      box-shadow: 0px 1px 2px rgba(60, 64, 67, 0.3), 0px 1px 3px 1px rgba(60, 64, 67, 0.15);\n",
       "      fill: #174EA6;\n",
       "    }\n",
       "\n",
       "    [theme=dark] .colab-df-convert {\n",
       "      background-color: #3B4455;\n",
       "      fill: #D2E3FC;\n",
       "    }\n",
       "\n",
       "    [theme=dark] .colab-df-convert:hover {\n",
       "      background-color: #434B5C;\n",
       "      box-shadow: 0px 1px 3px 1px rgba(0, 0, 0, 0.15);\n",
       "      filter: drop-shadow(0px 1px 2px rgba(0, 0, 0, 0.3));\n",
       "      fill: #FFFFFF;\n",
       "    }\n",
       "  </style>\n",
       "\n",
       "      <script>\n",
       "        const buttonEl =\n",
       "          document.querySelector('#df-285e0217-b269-42a3-822b-9c35c4e16bfb button.colab-df-convert');\n",
       "        buttonEl.style.display =\n",
       "          google.colab.kernel.accessAllowed ? 'block' : 'none';\n",
       "\n",
       "        async function convertToInteractive(key) {\n",
       "          const element = document.querySelector('#df-285e0217-b269-42a3-822b-9c35c4e16bfb');\n",
       "          const dataTable =\n",
       "            await google.colab.kernel.invokeFunction('convertToInteractive',\n",
       "                                                     [key], {});\n",
       "          if (!dataTable) return;\n",
       "\n",
       "          const docLinkHtml = 'Like what you see? Visit the ' +\n",
       "            '<a target=\"_blank\" href=https://colab.research.google.com/notebooks/data_table.ipynb>data table notebook</a>'\n",
       "            + ' to learn more about interactive tables.';\n",
       "          element.innerHTML = '';\n",
       "          dataTable['output_type'] = 'display_data';\n",
       "          await google.colab.output.renderOutput(dataTable, element);\n",
       "          const docLink = document.createElement('div');\n",
       "          docLink.innerHTML = docLinkHtml;\n",
       "          element.appendChild(docLink);\n",
       "        }\n",
       "      </script>\n",
       "    </div>\n",
       "  </div>\n",
       "  "
      ],
      "text/plain": [
       "                           Score (%)\n",
       "Model Score in Data Train  88.849259\n",
       "Model Score in Data Test   88.499392"
      ]
     },
     "execution_count": 87,
     "metadata": {},
     "output_type": "execute_result"
    }
   ],
   "source": [
    "pd.DataFrame(data=[model_ht_tuned.score(X_train, y_train)*100,\n",
    "                   model_ht_tuned.score(X_test, y_test)*100],\n",
    "             index=['Model Score in Data Train', 'Model Score in Data Test'],\n",
    "             columns=['Score (%)'])"
   ]
  },
  {
   "cell_type": "markdown",
   "id": "02ad5ae4-9743-44c0-8773-52a075ad6de6",
   "metadata": {
    "id": "02ad5ae4-9743-44c0-8773-52a075ad6de6"
   },
   "source": [
    "## DECISION TREE CLASSIFIER"
   ]
  },
  {
   "cell_type": "markdown",
   "id": "6A5nnuRflrs2",
   "metadata": {
    "id": "6A5nnuRflrs2"
   },
   "source": [
    "Perform classification with a decision tree model"
   ]
  },
  {
   "cell_type": "code",
   "execution_count": 88,
   "id": "AjV-5OaSEYRl",
   "metadata": {
    "colab": {
     "base_uri": "https://localhost:8080/",
     "height": 206
    },
    "id": "AjV-5OaSEYRl",
    "outputId": "4c2d8b92-e966-4df0-e635-1f1f397aeb5a"
   },
   "outputs": [
    {
     "data": {
      "text/html": [
       "\n",
       "  <div id=\"df-d5a15ace-94cb-441e-a7d4-79f7470c3353\">\n",
       "    <div class=\"colab-df-container\">\n",
       "      <div>\n",
       "<style scoped>\n",
       "    .dataframe tbody tr th:only-of-type {\n",
       "        vertical-align: middle;\n",
       "    }\n",
       "\n",
       "    .dataframe tbody tr th {\n",
       "        vertical-align: top;\n",
       "    }\n",
       "\n",
       "    .dataframe thead th {\n",
       "        text-align: right;\n",
       "    }\n",
       "</style>\n",
       "<table border=\"1\" class=\"dataframe\">\n",
       "  <thead>\n",
       "    <tr style=\"text-align: right;\">\n",
       "      <th></th>\n",
       "      <th>age</th>\n",
       "      <th>job</th>\n",
       "      <th>marital</th>\n",
       "      <th>education</th>\n",
       "      <th>default</th>\n",
       "      <th>balance</th>\n",
       "      <th>housing</th>\n",
       "      <th>loan</th>\n",
       "      <th>campaign</th>\n",
       "      <th>poutcome</th>\n",
       "      <th>y</th>\n",
       "    </tr>\n",
       "  </thead>\n",
       "  <tbody>\n",
       "    <tr>\n",
       "      <th>0</th>\n",
       "      <td>58</td>\n",
       "      <td>management</td>\n",
       "      <td>married</td>\n",
       "      <td>tertiary</td>\n",
       "      <td>no</td>\n",
       "      <td>2143</td>\n",
       "      <td>yes</td>\n",
       "      <td>no</td>\n",
       "      <td>1</td>\n",
       "      <td>unknown</td>\n",
       "      <td>no</td>\n",
       "    </tr>\n",
       "    <tr>\n",
       "      <th>1</th>\n",
       "      <td>44</td>\n",
       "      <td>technician</td>\n",
       "      <td>single</td>\n",
       "      <td>secondary</td>\n",
       "      <td>no</td>\n",
       "      <td>29</td>\n",
       "      <td>yes</td>\n",
       "      <td>no</td>\n",
       "      <td>1</td>\n",
       "      <td>unknown</td>\n",
       "      <td>no</td>\n",
       "    </tr>\n",
       "    <tr>\n",
       "      <th>2</th>\n",
       "      <td>33</td>\n",
       "      <td>entrepreneur</td>\n",
       "      <td>married</td>\n",
       "      <td>secondary</td>\n",
       "      <td>no</td>\n",
       "      <td>2</td>\n",
       "      <td>yes</td>\n",
       "      <td>yes</td>\n",
       "      <td>1</td>\n",
       "      <td>unknown</td>\n",
       "      <td>no</td>\n",
       "    </tr>\n",
       "    <tr>\n",
       "      <th>3</th>\n",
       "      <td>47</td>\n",
       "      <td>blue-collar</td>\n",
       "      <td>married</td>\n",
       "      <td>unknown</td>\n",
       "      <td>no</td>\n",
       "      <td>1506</td>\n",
       "      <td>yes</td>\n",
       "      <td>no</td>\n",
       "      <td>1</td>\n",
       "      <td>unknown</td>\n",
       "      <td>no</td>\n",
       "    </tr>\n",
       "    <tr>\n",
       "      <th>4</th>\n",
       "      <td>33</td>\n",
       "      <td>unknown</td>\n",
       "      <td>single</td>\n",
       "      <td>unknown</td>\n",
       "      <td>no</td>\n",
       "      <td>1</td>\n",
       "      <td>no</td>\n",
       "      <td>no</td>\n",
       "      <td>1</td>\n",
       "      <td>unknown</td>\n",
       "      <td>no</td>\n",
       "    </tr>\n",
       "  </tbody>\n",
       "</table>\n",
       "</div>\n",
       "      <button class=\"colab-df-convert\" onclick=\"convertToInteractive('df-d5a15ace-94cb-441e-a7d4-79f7470c3353')\"\n",
       "              title=\"Convert this dataframe to an interactive table.\"\n",
       "              style=\"display:none;\">\n",
       "        \n",
       "  <svg xmlns=\"http://www.w3.org/2000/svg\" height=\"24px\"viewBox=\"0 0 24 24\"\n",
       "       width=\"24px\">\n",
       "    <path d=\"M0 0h24v24H0V0z\" fill=\"none\"/>\n",
       "    <path d=\"M18.56 5.44l.94 2.06.94-2.06 2.06-.94-2.06-.94-.94-2.06-.94 2.06-2.06.94zm-11 1L8.5 8.5l.94-2.06 2.06-.94-2.06-.94L8.5 2.5l-.94 2.06-2.06.94zm10 10l.94 2.06.94-2.06 2.06-.94-2.06-.94-.94-2.06-.94 2.06-2.06.94z\"/><path d=\"M17.41 7.96l-1.37-1.37c-.4-.4-.92-.59-1.43-.59-.52 0-1.04.2-1.43.59L10.3 9.45l-7.72 7.72c-.78.78-.78 2.05 0 2.83L4 21.41c.39.39.9.59 1.41.59.51 0 1.02-.2 1.41-.59l7.78-7.78 2.81-2.81c.8-.78.8-2.07 0-2.86zM5.41 20L4 18.59l7.72-7.72 1.47 1.35L5.41 20z\"/>\n",
       "  </svg>\n",
       "      </button>\n",
       "      \n",
       "  <style>\n",
       "    .colab-df-container {\n",
       "      display:flex;\n",
       "      flex-wrap:wrap;\n",
       "      gap: 12px;\n",
       "    }\n",
       "\n",
       "    .colab-df-convert {\n",
       "      background-color: #E8F0FE;\n",
       "      border: none;\n",
       "      border-radius: 50%;\n",
       "      cursor: pointer;\n",
       "      display: none;\n",
       "      fill: #1967D2;\n",
       "      height: 32px;\n",
       "      padding: 0 0 0 0;\n",
       "      width: 32px;\n",
       "    }\n",
       "\n",
       "    .colab-df-convert:hover {\n",
       "      background-color: #E2EBFA;\n",
       "      box-shadow: 0px 1px 2px rgba(60, 64, 67, 0.3), 0px 1px 3px 1px rgba(60, 64, 67, 0.15);\n",
       "      fill: #174EA6;\n",
       "    }\n",
       "\n",
       "    [theme=dark] .colab-df-convert {\n",
       "      background-color: #3B4455;\n",
       "      fill: #D2E3FC;\n",
       "    }\n",
       "\n",
       "    [theme=dark] .colab-df-convert:hover {\n",
       "      background-color: #434B5C;\n",
       "      box-shadow: 0px 1px 3px 1px rgba(0, 0, 0, 0.15);\n",
       "      filter: drop-shadow(0px 1px 2px rgba(0, 0, 0, 0.3));\n",
       "      fill: #FFFFFF;\n",
       "    }\n",
       "  </style>\n",
       "\n",
       "      <script>\n",
       "        const buttonEl =\n",
       "          document.querySelector('#df-d5a15ace-94cb-441e-a7d4-79f7470c3353 button.colab-df-convert');\n",
       "        buttonEl.style.display =\n",
       "          google.colab.kernel.accessAllowed ? 'block' : 'none';\n",
       "\n",
       "        async function convertToInteractive(key) {\n",
       "          const element = document.querySelector('#df-d5a15ace-94cb-441e-a7d4-79f7470c3353');\n",
       "          const dataTable =\n",
       "            await google.colab.kernel.invokeFunction('convertToInteractive',\n",
       "                                                     [key], {});\n",
       "          if (!dataTable) return;\n",
       "\n",
       "          const docLinkHtml = 'Like what you see? Visit the ' +\n",
       "            '<a target=\"_blank\" href=https://colab.research.google.com/notebooks/data_table.ipynb>data table notebook</a>'\n",
       "            + ' to learn more about interactive tables.';\n",
       "          element.innerHTML = '';\n",
       "          dataTable['output_type'] = 'display_data';\n",
       "          await google.colab.output.renderOutput(dataTable, element);\n",
       "          const docLink = document.createElement('div');\n",
       "          docLink.innerHTML = docLinkHtml;\n",
       "          element.appendChild(docLink);\n",
       "        }\n",
       "      </script>\n",
       "    </div>\n",
       "  </div>\n",
       "  "
      ],
      "text/plain": [
       "   age           job  marital  education default  balance housing loan  \\\n",
       "0   58    management  married   tertiary      no     2143     yes   no   \n",
       "1   44    technician   single  secondary      no       29     yes   no   \n",
       "2   33  entrepreneur  married  secondary      no        2     yes  yes   \n",
       "3   47   blue-collar  married    unknown      no     1506     yes   no   \n",
       "4   33       unknown   single    unknown      no        1      no   no   \n",
       "\n",
       "   campaign poutcome   y  \n",
       "0         1  unknown  no  \n",
       "1         1  unknown  no  \n",
       "2         1  unknown  no  \n",
       "3         1  unknown  no  \n",
       "4         1  unknown  no  "
      ]
     },
     "execution_count": 88,
     "metadata": {},
     "output_type": "execute_result"
    }
   ],
   "source": [
    "df = pd.read_csv(\"bank-full.csv\", delimiter=\";\")\n",
    "df = df.drop(columns=[\"day\", \"month\", \"contact\", \"duration\", \"pdays\", \"previous\"])\n",
    "df.head()"
   ]
  },
  {
   "cell_type": "code",
   "execution_count": 89,
   "id": "LSYo1a0CFDi8",
   "metadata": {
    "colab": {
     "base_uri": "https://localhost:8080/",
     "height": 317
    },
    "id": "LSYo1a0CFDi8",
    "outputId": "23615c47-492c-4417-ce3e-30ce44d7dc44"
   },
   "outputs": [
    {
     "data": {
      "text/html": [
       "\n",
       "  <div id=\"df-f8bdcc3d-7513-4735-9174-b9305f013c03\">\n",
       "    <div class=\"colab-df-container\">\n",
       "      <div>\n",
       "<style scoped>\n",
       "    .dataframe tbody tr th:only-of-type {\n",
       "        vertical-align: middle;\n",
       "    }\n",
       "\n",
       "    .dataframe tbody tr th {\n",
       "        vertical-align: top;\n",
       "    }\n",
       "\n",
       "    .dataframe thead th {\n",
       "        text-align: right;\n",
       "    }\n",
       "</style>\n",
       "<table border=\"1\" class=\"dataframe\">\n",
       "  <thead>\n",
       "    <tr style=\"text-align: right;\">\n",
       "      <th></th>\n",
       "      <th>age</th>\n",
       "      <th>education</th>\n",
       "      <th>balance</th>\n",
       "      <th>campaign</th>\n",
       "      <th>poutcome</th>\n",
       "      <th>y</th>\n",
       "      <th>marital_married</th>\n",
       "      <th>marital_single</th>\n",
       "      <th>job_blue-collar</th>\n",
       "      <th>job_entrepreneur</th>\n",
       "      <th>...</th>\n",
       "      <th>job_retired</th>\n",
       "      <th>job_self-employed</th>\n",
       "      <th>job_services</th>\n",
       "      <th>job_student</th>\n",
       "      <th>job_technician</th>\n",
       "      <th>job_unemployed</th>\n",
       "      <th>job_unknown</th>\n",
       "      <th>default_yes</th>\n",
       "      <th>housing_yes</th>\n",
       "      <th>loan_yes</th>\n",
       "    </tr>\n",
       "  </thead>\n",
       "  <tbody>\n",
       "    <tr>\n",
       "      <th>0</th>\n",
       "      <td>1.266667</td>\n",
       "      <td>3.0</td>\n",
       "      <td>1.250000</td>\n",
       "      <td>1</td>\n",
       "      <td>0.0</td>\n",
       "      <td>0</td>\n",
       "      <td>1</td>\n",
       "      <td>0</td>\n",
       "      <td>0</td>\n",
       "      <td>0</td>\n",
       "      <td>...</td>\n",
       "      <td>0</td>\n",
       "      <td>0</td>\n",
       "      <td>0</td>\n",
       "      <td>0</td>\n",
       "      <td>0</td>\n",
       "      <td>0</td>\n",
       "      <td>0</td>\n",
       "      <td>0</td>\n",
       "      <td>1</td>\n",
       "      <td>0</td>\n",
       "    </tr>\n",
       "    <tr>\n",
       "      <th>1</th>\n",
       "      <td>0.333333</td>\n",
       "      <td>1.0</td>\n",
       "      <td>-0.308997</td>\n",
       "      <td>1</td>\n",
       "      <td>0.0</td>\n",
       "      <td>0</td>\n",
       "      <td>0</td>\n",
       "      <td>1</td>\n",
       "      <td>0</td>\n",
       "      <td>0</td>\n",
       "      <td>...</td>\n",
       "      <td>0</td>\n",
       "      <td>0</td>\n",
       "      <td>0</td>\n",
       "      <td>0</td>\n",
       "      <td>1</td>\n",
       "      <td>0</td>\n",
       "      <td>0</td>\n",
       "      <td>0</td>\n",
       "      <td>1</td>\n",
       "      <td>0</td>\n",
       "    </tr>\n",
       "    <tr>\n",
       "      <th>2</th>\n",
       "      <td>-0.400000</td>\n",
       "      <td>1.0</td>\n",
       "      <td>-0.328909</td>\n",
       "      <td>1</td>\n",
       "      <td>0.0</td>\n",
       "      <td>0</td>\n",
       "      <td>1</td>\n",
       "      <td>0</td>\n",
       "      <td>0</td>\n",
       "      <td>1</td>\n",
       "      <td>...</td>\n",
       "      <td>0</td>\n",
       "      <td>0</td>\n",
       "      <td>0</td>\n",
       "      <td>0</td>\n",
       "      <td>0</td>\n",
       "      <td>0</td>\n",
       "      <td>0</td>\n",
       "      <td>0</td>\n",
       "      <td>1</td>\n",
       "      <td>1</td>\n",
       "    </tr>\n",
       "    <tr>\n",
       "      <th>3</th>\n",
       "      <td>0.533333</td>\n",
       "      <td>0.0</td>\n",
       "      <td>0.780236</td>\n",
       "      <td>1</td>\n",
       "      <td>0.0</td>\n",
       "      <td>0</td>\n",
       "      <td>1</td>\n",
       "      <td>0</td>\n",
       "      <td>1</td>\n",
       "      <td>0</td>\n",
       "      <td>...</td>\n",
       "      <td>0</td>\n",
       "      <td>0</td>\n",
       "      <td>0</td>\n",
       "      <td>0</td>\n",
       "      <td>0</td>\n",
       "      <td>0</td>\n",
       "      <td>0</td>\n",
       "      <td>0</td>\n",
       "      <td>1</td>\n",
       "      <td>0</td>\n",
       "    </tr>\n",
       "    <tr>\n",
       "      <th>4</th>\n",
       "      <td>-0.400000</td>\n",
       "      <td>0.0</td>\n",
       "      <td>-0.329646</td>\n",
       "      <td>1</td>\n",
       "      <td>0.0</td>\n",
       "      <td>0</td>\n",
       "      <td>0</td>\n",
       "      <td>1</td>\n",
       "      <td>0</td>\n",
       "      <td>0</td>\n",
       "      <td>...</td>\n",
       "      <td>0</td>\n",
       "      <td>0</td>\n",
       "      <td>0</td>\n",
       "      <td>0</td>\n",
       "      <td>0</td>\n",
       "      <td>0</td>\n",
       "      <td>1</td>\n",
       "      <td>0</td>\n",
       "      <td>0</td>\n",
       "      <td>0</td>\n",
       "    </tr>\n",
       "  </tbody>\n",
       "</table>\n",
       "<p>5 rows × 22 columns</p>\n",
       "</div>\n",
       "      <button class=\"colab-df-convert\" onclick=\"convertToInteractive('df-f8bdcc3d-7513-4735-9174-b9305f013c03')\"\n",
       "              title=\"Convert this dataframe to an interactive table.\"\n",
       "              style=\"display:none;\">\n",
       "        \n",
       "  <svg xmlns=\"http://www.w3.org/2000/svg\" height=\"24px\"viewBox=\"0 0 24 24\"\n",
       "       width=\"24px\">\n",
       "    <path d=\"M0 0h24v24H0V0z\" fill=\"none\"/>\n",
       "    <path d=\"M18.56 5.44l.94 2.06.94-2.06 2.06-.94-2.06-.94-.94-2.06-.94 2.06-2.06.94zm-11 1L8.5 8.5l.94-2.06 2.06-.94-2.06-.94L8.5 2.5l-.94 2.06-2.06.94zm10 10l.94 2.06.94-2.06 2.06-.94-2.06-.94-.94-2.06-.94 2.06-2.06.94z\"/><path d=\"M17.41 7.96l-1.37-1.37c-.4-.4-.92-.59-1.43-.59-.52 0-1.04.2-1.43.59L10.3 9.45l-7.72 7.72c-.78.78-.78 2.05 0 2.83L4 21.41c.39.39.9.59 1.41.59.51 0 1.02-.2 1.41-.59l7.78-7.78 2.81-2.81c.8-.78.8-2.07 0-2.86zM5.41 20L4 18.59l7.72-7.72 1.47 1.35L5.41 20z\"/>\n",
       "  </svg>\n",
       "      </button>\n",
       "      \n",
       "  <style>\n",
       "    .colab-df-container {\n",
       "      display:flex;\n",
       "      flex-wrap:wrap;\n",
       "      gap: 12px;\n",
       "    }\n",
       "\n",
       "    .colab-df-convert {\n",
       "      background-color: #E8F0FE;\n",
       "      border: none;\n",
       "      border-radius: 50%;\n",
       "      cursor: pointer;\n",
       "      display: none;\n",
       "      fill: #1967D2;\n",
       "      height: 32px;\n",
       "      padding: 0 0 0 0;\n",
       "      width: 32px;\n",
       "    }\n",
       "\n",
       "    .colab-df-convert:hover {\n",
       "      background-color: #E2EBFA;\n",
       "      box-shadow: 0px 1px 2px rgba(60, 64, 67, 0.3), 0px 1px 3px 1px rgba(60, 64, 67, 0.15);\n",
       "      fill: #174EA6;\n",
       "    }\n",
       "\n",
       "    [theme=dark] .colab-df-convert {\n",
       "      background-color: #3B4455;\n",
       "      fill: #D2E3FC;\n",
       "    }\n",
       "\n",
       "    [theme=dark] .colab-df-convert:hover {\n",
       "      background-color: #434B5C;\n",
       "      box-shadow: 0px 1px 3px 1px rgba(0, 0, 0, 0.15);\n",
       "      filter: drop-shadow(0px 1px 2px rgba(0, 0, 0, 0.3));\n",
       "      fill: #FFFFFF;\n",
       "    }\n",
       "  </style>\n",
       "\n",
       "      <script>\n",
       "        const buttonEl =\n",
       "          document.querySelector('#df-f8bdcc3d-7513-4735-9174-b9305f013c03 button.colab-df-convert');\n",
       "        buttonEl.style.display =\n",
       "          google.colab.kernel.accessAllowed ? 'block' : 'none';\n",
       "\n",
       "        async function convertToInteractive(key) {\n",
       "          const element = document.querySelector('#df-f8bdcc3d-7513-4735-9174-b9305f013c03');\n",
       "          const dataTable =\n",
       "            await google.colab.kernel.invokeFunction('convertToInteractive',\n",
       "                                                     [key], {});\n",
       "          if (!dataTable) return;\n",
       "\n",
       "          const docLinkHtml = 'Like what you see? Visit the ' +\n",
       "            '<a target=\"_blank\" href=https://colab.research.google.com/notebooks/data_table.ipynb>data table notebook</a>'\n",
       "            + ' to learn more about interactive tables.';\n",
       "          element.innerHTML = '';\n",
       "          dataTable['output_type'] = 'display_data';\n",
       "          await google.colab.output.renderOutput(dataTable, element);\n",
       "          const docLink = document.createElement('div');\n",
       "          docLink.innerHTML = docLinkHtml;\n",
       "          element.appendChild(docLink);\n",
       "        }\n",
       "      </script>\n",
       "    </div>\n",
       "  </div>\n",
       "  "
      ],
      "text/plain": [
       "        age  education   balance  campaign  poutcome  y  marital_married  \\\n",
       "0  1.266667        3.0  1.250000         1       0.0  0                1   \n",
       "1  0.333333        1.0 -0.308997         1       0.0  0                0   \n",
       "2 -0.400000        1.0 -0.328909         1       0.0  0                1   \n",
       "3  0.533333        0.0  0.780236         1       0.0  0                1   \n",
       "4 -0.400000        0.0 -0.329646         1       0.0  0                0   \n",
       "\n",
       "   marital_single  job_blue-collar  job_entrepreneur  ...  job_retired  \\\n",
       "0               0                0                 0  ...            0   \n",
       "1               1                0                 0  ...            0   \n",
       "2               0                0                 1  ...            0   \n",
       "3               0                1                 0  ...            0   \n",
       "4               1                0                 0  ...            0   \n",
       "\n",
       "   job_self-employed  job_services  job_student  job_technician  \\\n",
       "0                  0             0            0               0   \n",
       "1                  0             0            0               1   \n",
       "2                  0             0            0               0   \n",
       "3                  0             0            0               0   \n",
       "4                  0             0            0               0   \n",
       "\n",
       "   job_unemployed  job_unknown  default_yes  housing_yes  loan_yes  \n",
       "0               0            0            0            1         0  \n",
       "1               0            0            0            1         0  \n",
       "2               0            0            0            1         1  \n",
       "3               0            0            0            1         0  \n",
       "4               0            1            0            0         0  \n",
       "\n",
       "[5 rows x 22 columns]"
      ]
     },
     "execution_count": 89,
     "metadata": {},
     "output_type": "execute_result"
    }
   ],
   "source": [
    "df[\"y\"] = LabelEncoder().fit_transform(df_enc[\"y\"])\n",
    "\n",
    "class_order = [\"unknown\", \"other\", \"failure\", \"success\"]\n",
    "df[\"poutcome\"] = OrdinalEncoder(categories=[class_order]).fit_transform(df[[\"poutcome\"]])\n",
    "\n",
    "class_order = [\"unknown\", \"secondary\", \"primary\", \"tertiary\"]\n",
    "df[\"education\"] = OrdinalEncoder(categories=[class_order]).fit_transform(df[[\"education\"]])\n",
    "\n",
    "df = pd.get_dummies(df, columns=['marital', 'job',\n",
    "                                 'default', 'housing',\n",
    "                                 'loan'], drop_first=True)"
   ]
  },
  {
   "cell_type": "code",
   "execution_count": null,
   "id": "gZqi9Z6s4G9Z",
   "metadata": {
    "id": "gZqi9Z6s4G9Z"
   },
   "outputs": [],
   "source": [
    "scaler = RobustScaler()\n",
    "df['age'] = scaler.fit_transform(df[['age']])\n",
    "df['balance'] = scaler.fit_transform(df[['balance']])\n",
    "\n",
    "df.head()"
   ]
  },
  {
   "cell_type": "code",
   "execution_count": 90,
   "id": "481edb51-4c04-4106-ac1c-e14a29b78c0c",
   "metadata": {
    "id": "481edb51-4c04-4106-ac1c-e14a29b78c0c"
   },
   "outputs": [],
   "source": [
    "X = df.drop(columns=\"y\")\n",
    "y = df[\"y\"]"
   ]
  },
  {
   "cell_type": "code",
   "execution_count": 91,
   "id": "f9f8415e-6717-4262-bbd0-06bdfa022448",
   "metadata": {
    "id": "f9f8415e-6717-4262-bbd0-06bdfa022448"
   },
   "outputs": [],
   "source": [
    "X_train, X_test, y_train, y_test = train_test_split(X, y, test_size=0.2, random_state=0)"
   ]
  },
  {
   "cell_type": "markdown",
   "id": "b7593117-e160-4ef0-a704-8029e05f1544",
   "metadata": {
    "id": "b7593117-e160-4ef0-a704-8029e05f1544"
   },
   "source": [
    "### Basic Decision Tree"
   ]
  },
  {
   "cell_type": "markdown",
   "id": "GPA_S7j9oBAo",
   "metadata": {
    "id": "GPA_S7j9oBAo"
   },
   "source": [
    "Doing modeling with decision tree"
   ]
  },
  {
   "cell_type": "code",
   "execution_count": 92,
   "id": "20962734-819b-445c-bb25-e911908682c6",
   "metadata": {
    "colab": {
     "base_uri": "https://localhost:8080/"
    },
    "id": "20962734-819b-445c-bb25-e911908682c6",
    "outputId": "a0193cbf-18f5-4212-991c-c29ceacd6fdd"
   },
   "outputs": [
    {
     "data": {
      "text/plain": [
       "DecisionTreeClassifier()"
      ]
     },
     "execution_count": 92,
     "metadata": {},
     "output_type": "execute_result"
    }
   ],
   "source": [
    "model = DecisionTreeClassifier()\n",
    "model.fit(X_train, y_train)"
   ]
  },
  {
   "cell_type": "code",
   "execution_count": 93,
   "id": "d6e9e882-9d68-4937-83be-2dd1c10134f4",
   "metadata": {
    "colab": {
     "base_uri": "https://localhost:8080/",
     "height": 206
    },
    "id": "d6e9e882-9d68-4937-83be-2dd1c10134f4",
    "outputId": "09e26f8c-a9d8-4de8-b4ae-1b0dafb54b26"
   },
   "outputs": [
    {
     "data": {
      "text/html": [
       "\n",
       "  <div id=\"df-ef1c937d-14f1-4d52-9d82-41699355d645\">\n",
       "    <div class=\"colab-df-container\">\n",
       "      <div>\n",
       "<style scoped>\n",
       "    .dataframe tbody tr th:only-of-type {\n",
       "        vertical-align: middle;\n",
       "    }\n",
       "\n",
       "    .dataframe tbody tr th {\n",
       "        vertical-align: top;\n",
       "    }\n",
       "\n",
       "    .dataframe thead th {\n",
       "        text-align: right;\n",
       "    }\n",
       "</style>\n",
       "<table border=\"1\" class=\"dataframe\">\n",
       "  <thead>\n",
       "    <tr style=\"text-align: right;\">\n",
       "      <th></th>\n",
       "      <th>y_act</th>\n",
       "      <th>y_pred</th>\n",
       "    </tr>\n",
       "  </thead>\n",
       "  <tbody>\n",
       "    <tr>\n",
       "      <th>14001</th>\n",
       "      <td>0</td>\n",
       "      <td>0</td>\n",
       "    </tr>\n",
       "    <tr>\n",
       "      <th>32046</th>\n",
       "      <td>1</td>\n",
       "      <td>0</td>\n",
       "    </tr>\n",
       "    <tr>\n",
       "      <th>13318</th>\n",
       "      <td>0</td>\n",
       "      <td>0</td>\n",
       "    </tr>\n",
       "    <tr>\n",
       "      <th>42991</th>\n",
       "      <td>0</td>\n",
       "      <td>0</td>\n",
       "    </tr>\n",
       "    <tr>\n",
       "      <th>14237</th>\n",
       "      <td>0</td>\n",
       "      <td>0</td>\n",
       "    </tr>\n",
       "  </tbody>\n",
       "</table>\n",
       "</div>\n",
       "      <button class=\"colab-df-convert\" onclick=\"convertToInteractive('df-ef1c937d-14f1-4d52-9d82-41699355d645')\"\n",
       "              title=\"Convert this dataframe to an interactive table.\"\n",
       "              style=\"display:none;\">\n",
       "        \n",
       "  <svg xmlns=\"http://www.w3.org/2000/svg\" height=\"24px\"viewBox=\"0 0 24 24\"\n",
       "       width=\"24px\">\n",
       "    <path d=\"M0 0h24v24H0V0z\" fill=\"none\"/>\n",
       "    <path d=\"M18.56 5.44l.94 2.06.94-2.06 2.06-.94-2.06-.94-.94-2.06-.94 2.06-2.06.94zm-11 1L8.5 8.5l.94-2.06 2.06-.94-2.06-.94L8.5 2.5l-.94 2.06-2.06.94zm10 10l.94 2.06.94-2.06 2.06-.94-2.06-.94-.94-2.06-.94 2.06-2.06.94z\"/><path d=\"M17.41 7.96l-1.37-1.37c-.4-.4-.92-.59-1.43-.59-.52 0-1.04.2-1.43.59L10.3 9.45l-7.72 7.72c-.78.78-.78 2.05 0 2.83L4 21.41c.39.39.9.59 1.41.59.51 0 1.02-.2 1.41-.59l7.78-7.78 2.81-2.81c.8-.78.8-2.07 0-2.86zM5.41 20L4 18.59l7.72-7.72 1.47 1.35L5.41 20z\"/>\n",
       "  </svg>\n",
       "      </button>\n",
       "      \n",
       "  <style>\n",
       "    .colab-df-container {\n",
       "      display:flex;\n",
       "      flex-wrap:wrap;\n",
       "      gap: 12px;\n",
       "    }\n",
       "\n",
       "    .colab-df-convert {\n",
       "      background-color: #E8F0FE;\n",
       "      border: none;\n",
       "      border-radius: 50%;\n",
       "      cursor: pointer;\n",
       "      display: none;\n",
       "      fill: #1967D2;\n",
       "      height: 32px;\n",
       "      padding: 0 0 0 0;\n",
       "      width: 32px;\n",
       "    }\n",
       "\n",
       "    .colab-df-convert:hover {\n",
       "      background-color: #E2EBFA;\n",
       "      box-shadow: 0px 1px 2px rgba(60, 64, 67, 0.3), 0px 1px 3px 1px rgba(60, 64, 67, 0.15);\n",
       "      fill: #174EA6;\n",
       "    }\n",
       "\n",
       "    [theme=dark] .colab-df-convert {\n",
       "      background-color: #3B4455;\n",
       "      fill: #D2E3FC;\n",
       "    }\n",
       "\n",
       "    [theme=dark] .colab-df-convert:hover {\n",
       "      background-color: #434B5C;\n",
       "      box-shadow: 0px 1px 3px 1px rgba(0, 0, 0, 0.15);\n",
       "      filter: drop-shadow(0px 1px 2px rgba(0, 0, 0, 0.3));\n",
       "      fill: #FFFFFF;\n",
       "    }\n",
       "  </style>\n",
       "\n",
       "      <script>\n",
       "        const buttonEl =\n",
       "          document.querySelector('#df-ef1c937d-14f1-4d52-9d82-41699355d645 button.colab-df-convert');\n",
       "        buttonEl.style.display =\n",
       "          google.colab.kernel.accessAllowed ? 'block' : 'none';\n",
       "\n",
       "        async function convertToInteractive(key) {\n",
       "          const element = document.querySelector('#df-ef1c937d-14f1-4d52-9d82-41699355d645');\n",
       "          const dataTable =\n",
       "            await google.colab.kernel.invokeFunction('convertToInteractive',\n",
       "                                                     [key], {});\n",
       "          if (!dataTable) return;\n",
       "\n",
       "          const docLinkHtml = 'Like what you see? Visit the ' +\n",
       "            '<a target=\"_blank\" href=https://colab.research.google.com/notebooks/data_table.ipynb>data table notebook</a>'\n",
       "            + ' to learn more about interactive tables.';\n",
       "          element.innerHTML = '';\n",
       "          dataTable['output_type'] = 'display_data';\n",
       "          await google.colab.output.renderOutput(dataTable, element);\n",
       "          const docLink = document.createElement('div');\n",
       "          docLink.innerHTML = docLinkHtml;\n",
       "          element.appendChild(docLink);\n",
       "        }\n",
       "      </script>\n",
       "    </div>\n",
       "  </div>\n",
       "  "
      ],
      "text/plain": [
       "       y_act  y_pred\n",
       "14001      0       0\n",
       "32046      1       0\n",
       "13318      0       0\n",
       "42991      0       0\n",
       "14237      0       0"
      ]
     },
     "execution_count": 93,
     "metadata": {},
     "output_type": "execute_result"
    }
   ],
   "source": [
    "y_pred = model.predict(X_test)\n",
    "\n",
    "result = pd.DataFrame()\n",
    "result[\"y_act\"] = y_test\n",
    "result[\"y_pred\"] = y_pred\n",
    "result.head()"
   ]
  },
  {
   "cell_type": "code",
   "execution_count": 94,
   "id": "7f65082b-5142-484e-aef3-a92686b5e7c1",
   "metadata": {
    "id": "7f65082b-5142-484e-aef3-a92686b5e7c1"
   },
   "outputs": [],
   "source": [
    "DT_cols = X_train.columns.tolist()"
   ]
  },
  {
   "cell_type": "code",
   "execution_count": 95,
   "id": "c47b8e3d-d3b7-40c2-a818-4266a4d00fbd",
   "metadata": {
    "colab": {
     "base_uri": "https://localhost:8080/",
     "height": 575
    },
    "id": "c47b8e3d-d3b7-40c2-a818-4266a4d00fbd",
    "outputId": "6cd4f81b-6fa1-42b0-9acd-fc8d8ee8d5a5"
   },
   "outputs": [
    {
     "data": {
      "image/png": "[encoded data removed]",
      "text/plain": [
       "<Figure size 1440x720 with 1 Axes>"
      ]
     },
     "metadata": {
      "needs_background": "light"
     },
     "output_type": "display_data"
    }
   ],
   "source": [
    "plt.figure(figsize=(20, 10))\n",
    "plot_tree(model,\n",
    "          feature_names=DT_cols, impurity=True,\n",
    "          fontsize=10, max_depth=3,\n",
    "          filled=True)\n",
    "plt.show()"
   ]
  },
  {
   "cell_type": "markdown",
   "id": "f5979678-1554-4b6e-8df4-837c91bc6ce1",
   "metadata": {
    "id": "f5979678-1554-4b6e-8df4-837c91bc6ce1"
   },
   "source": [
    "#### Report"
   ]
  },
  {
   "cell_type": "markdown",
   "id": "H8K15805oF6o",
   "metadata": {
    "id": "H8K15805oF6o"
   },
   "source": [
    "Displays confusion matrix and classification report"
   ]
  },
  {
   "cell_type": "code",
   "execution_count": 96,
   "id": "a0703672-fbc8-45ab-9249-0463bb51eaec",
   "metadata": {
    "colab": {
     "base_uri": "https://localhost:8080/",
     "height": 280
    },
    "id": "a0703672-fbc8-45ab-9249-0463bb51eaec",
    "outputId": "03d2fe02-09ca-4c70-ca61-f4419f88d3f4"
   },
   "outputs": [
    {
     "data": {
      "image/png": "[encoded data removed]",
      "text/plain": [
       "<Figure size 432x288 with 2 Axes>"
      ]
     },
     "metadata": {
      "needs_background": "light"
     },
     "output_type": "display_data"
    }
   ],
   "source": [
    "sns.heatmap(confusion_matrix(y_test, y_pred), annot=True, fmt=\".0f\")\n",
    "plt.xlabel('Prediction')\n",
    "plt.ylabel('Actual')\n",
    "plt.show()"
   ]
  },
  {
   "cell_type": "code",
   "execution_count": 97,
   "id": "71be4a2f-9e6a-456f-87ee-62d24fad1d04",
   "metadata": {
    "colab": {
     "base_uri": "https://localhost:8080/"
    },
    "id": "71be4a2f-9e6a-456f-87ee-62d24fad1d04",
    "outputId": "907f5cf5-e908-46d7-ed61-daf23f312245"
   },
   "outputs": [
    {
     "name": "stdout",
     "output_type": "stream",
     "text": [
      "              precision    recall  f1-score   support\n",
      "\n",
      "           0       0.90      0.89      0.90      7980\n",
      "           1       0.25      0.27      0.26      1063\n",
      "\n",
      "    accuracy                           0.82      9043\n",
      "   macro avg       0.57      0.58      0.58      9043\n",
      "weighted avg       0.82      0.82      0.82      9043\n",
      "\n"
     ]
    }
   ],
   "source": [
    "y_pred = model.predict(X_test)\n",
    "print(classification_report(y_test, y_pred))"
   ]
  },
  {
   "cell_type": "markdown",
   "id": "225ebbb7-aebb-44d9-8002-d5ff3a3436e7",
   "metadata": {
    "id": "225ebbb7-aebb-44d9-8002-d5ff3a3436e7"
   },
   "source": [
    "### Optimize"
   ]
  },
  {
   "cell_type": "markdown",
   "id": "89_BHj4zoQEn",
   "metadata": {
    "id": "89_BHj4zoQEn"
   },
   "source": [
    "Doing decision tree modeling with optimization"
   ]
  },
  {
   "cell_type": "markdown",
   "id": "30e29e1f-dd00-4445-8ba9-fecb68b967f3",
   "metadata": {
    "id": "30e29e1f-dd00-4445-8ba9-fecb68b967f3"
   },
   "source": [
    "#### Imbalanced Data Handling"
   ]
  },
  {
   "cell_type": "markdown",
   "id": "sGMqcOZooT0f",
   "metadata": {
    "id": "sGMqcOZooT0f"
   },
   "source": [
    "The process of balancing data so that the target data has the same comparison, but in this dataset, data balancing will not be carried out because it wants to increase the percentage precision"
   ]
  },
  {
   "cell_type": "code",
   "execution_count": null,
   "id": "a1c067ed-5781-4032-bad2-f80729d103d3",
   "metadata": {
    "id": "a1c067ed-5781-4032-bad2-f80729d103d3"
   },
   "outputs": [],
   "source": [
    "# balanced = TomekLinks()\n",
    "# X_train, y_train = balanced.fit_resample(X_train, y_train)"
   ]
  },
  {
   "cell_type": "markdown",
   "id": "f246d27a-f0cb-4746-91c1-2e584d161ab7",
   "metadata": {
    "id": "f246d27a-f0cb-4746-91c1-2e584d161ab7"
   },
   "source": [
    "#### Hypermarameter Tuning"
   ]
  },
  {
   "cell_type": "markdown",
   "id": "ghwWJ52-pAFH",
   "metadata": {
    "id": "ghwWJ52-pAFH"
   },
   "source": [
    "Perform the hyperparameter tuning process to find the best hyperparameter value, so as to increase the precision value"
   ]
  },
  {
   "cell_type": "code",
   "execution_count": 98,
   "id": "6d939d74-e9bd-423f-958e-7ddbe97cb0a3",
   "metadata": {
    "id": "6d939d74-e9bd-423f-958e-7ddbe97cb0a3"
   },
   "outputs": [],
   "source": [
    "param = [{'max_depth': [2, 3, 5, 10, 20],\n",
    "          'min_samples_leaf': [5, 10, 20, 50, 100],\n",
    "          'criterion': [\"gini\", \"entropy\"]}]"
   ]
  },
  {
   "cell_type": "code",
   "execution_count": 99,
   "id": "3015d345-dc9c-44c7-b5dc-b592d6c38281",
   "metadata": {
    "id": "3015d345-dc9c-44c7-b5dc-b592d6c38281"
   },
   "outputs": [],
   "source": [
    "model = DecisionTreeClassifier()"
   ]
  },
  {
   "cell_type": "markdown",
   "id": "52f8d9bb-e092-481c-9a43-63413d74b3fd",
   "metadata": {
    "id": "52f8d9bb-e092-481c-9a43-63413d74b3fd"
   },
   "source": [
    "##### Grid Search"
   ]
  },
  {
   "cell_type": "markdown",
   "id": "xb-OaZx3pH8Q",
   "metadata": {
    "id": "xb-OaZx3pH8Q"
   },
   "source": [
    "Using the grid search method to perform hyperparameter tuning"
   ]
  },
  {
   "cell_type": "code",
   "execution_count": 100,
   "id": "48b6940c-a519-405c-af37-448419fe9692",
   "metadata": {
    "id": "48b6940c-a519-405c-af37-448419fe9692"
   },
   "outputs": [],
   "source": [
    "model_ht = GridSearchCV(estimator=model, param_grid=param, cv=5)"
   ]
  },
  {
   "cell_type": "code",
   "execution_count": 101,
   "id": "d29f34da-1dcb-4073-a6ad-8f401481f352",
   "metadata": {
    "colab": {
     "base_uri": "https://localhost:8080/"
    },
    "id": "d29f34da-1dcb-4073-a6ad-8f401481f352",
    "outputId": "d04a54a9-cfca-4eb2-df23-803e8dbe7859"
   },
   "outputs": [
    {
     "data": {
      "text/plain": [
       "GridSearchCV(cv=5, estimator=DecisionTreeClassifier(),\n",
       "             param_grid=[{'criterion': ['gini', 'entropy'],\n",
       "                          'max_depth': [2, 3, 5, 10, 20],\n",
       "                          'min_samples_leaf': [5, 10, 20, 50, 100]}])"
      ]
     },
     "execution_count": 101,
     "metadata": {},
     "output_type": "execute_result"
    }
   ],
   "source": [
    "model_ht.fit(X_train, y_train)"
   ]
  },
  {
   "cell_type": "code",
   "execution_count": 102,
   "id": "b09c7020-7a42-4f44-aa08-f3ef9049b71f",
   "metadata": {
    "colab": {
     "base_uri": "https://localhost:8080/"
    },
    "id": "b09c7020-7a42-4f44-aa08-f3ef9049b71f",
    "outputId": "9ba61f1f-38d0-4bee-c91c-30015e4b277a"
   },
   "outputs": [
    {
     "data": {
      "text/plain": [
       "{'criterion': 'entropy', 'max_depth': 5, 'min_samples_leaf': 50}"
      ]
     },
     "execution_count": 102,
     "metadata": {},
     "output_type": "execute_result"
    }
   ],
   "source": [
    "model_ht.best_params_"
   ]
  },
  {
   "cell_type": "code",
   "execution_count": 103,
   "id": "40ef2831-50ce-4f96-8267-320d6830c1b4",
   "metadata": {
    "colab": {
     "base_uri": "https://localhost:8080/"
    },
    "id": "40ef2831-50ce-4f96-8267-320d6830c1b4",
    "outputId": "c2127387-4077-469b-c565-52fd677780fb"
   },
   "outputs": [
    {
     "data": {
      "text/plain": [
       "DecisionTreeClassifier(criterion='entropy', max_depth=5, min_samples_leaf=50)"
      ]
     },
     "execution_count": 103,
     "metadata": {},
     "output_type": "execute_result"
    }
   ],
   "source": [
    "model_ht_tuned = DecisionTreeClassifier(min_samples_leaf=50, max_depth=5, criterion='entropy')\n",
    "model_ht_tuned.fit(X_train, y_train)"
   ]
  },
  {
   "cell_type": "code",
   "execution_count": 104,
   "id": "f6bd661b-27f8-4b29-8f73-34bae281c4f0",
   "metadata": {
    "colab": {
     "base_uri": "https://localhost:8080/",
     "height": 206
    },
    "id": "f6bd661b-27f8-4b29-8f73-34bae281c4f0",
    "outputId": "b1164d23-8ca1-4243-ccff-a6574fc0d640"
   },
   "outputs": [
    {
     "data": {
      "text/html": [
       "\n",
       "  <div id=\"df-2ba64b3e-912c-4cbd-881f-3abe494e83e9\">\n",
       "    <div class=\"colab-df-container\">\n",
       "      <div>\n",
       "<style scoped>\n",
       "    .dataframe tbody tr th:only-of-type {\n",
       "        vertical-align: middle;\n",
       "    }\n",
       "\n",
       "    .dataframe tbody tr th {\n",
       "        vertical-align: top;\n",
       "    }\n",
       "\n",
       "    .dataframe thead th {\n",
       "        text-align: right;\n",
       "    }\n",
       "</style>\n",
       "<table border=\"1\" class=\"dataframe\">\n",
       "  <thead>\n",
       "    <tr style=\"text-align: right;\">\n",
       "      <th></th>\n",
       "      <th>y_act</th>\n",
       "      <th>y_pred</th>\n",
       "    </tr>\n",
       "  </thead>\n",
       "  <tbody>\n",
       "    <tr>\n",
       "      <th>14001</th>\n",
       "      <td>0</td>\n",
       "      <td>0</td>\n",
       "    </tr>\n",
       "    <tr>\n",
       "      <th>32046</th>\n",
       "      <td>1</td>\n",
       "      <td>0</td>\n",
       "    </tr>\n",
       "    <tr>\n",
       "      <th>13318</th>\n",
       "      <td>0</td>\n",
       "      <td>0</td>\n",
       "    </tr>\n",
       "    <tr>\n",
       "      <th>42991</th>\n",
       "      <td>0</td>\n",
       "      <td>0</td>\n",
       "    </tr>\n",
       "    <tr>\n",
       "      <th>14237</th>\n",
       "      <td>0</td>\n",
       "      <td>0</td>\n",
       "    </tr>\n",
       "  </tbody>\n",
       "</table>\n",
       "</div>\n",
       "      <button class=\"colab-df-convert\" onclick=\"convertToInteractive('df-2ba64b3e-912c-4cbd-881f-3abe494e83e9')\"\n",
       "              title=\"Convert this dataframe to an interactive table.\"\n",
       "              style=\"display:none;\">\n",
       "        \n",
       "  <svg xmlns=\"http://www.w3.org/2000/svg\" height=\"24px\"viewBox=\"0 0 24 24\"\n",
       "       width=\"24px\">\n",
       "    <path d=\"M0 0h24v24H0V0z\" fill=\"none\"/>\n",
       "    <path d=\"M18.56 5.44l.94 2.06.94-2.06 2.06-.94-2.06-.94-.94-2.06-.94 2.06-2.06.94zm-11 1L8.5 8.5l.94-2.06 2.06-.94-2.06-.94L8.5 2.5l-.94 2.06-2.06.94zm10 10l.94 2.06.94-2.06 2.06-.94-2.06-.94-.94-2.06-.94 2.06-2.06.94z\"/><path d=\"M17.41 7.96l-1.37-1.37c-.4-.4-.92-.59-1.43-.59-.52 0-1.04.2-1.43.59L10.3 9.45l-7.72 7.72c-.78.78-.78 2.05 0 2.83L4 21.41c.39.39.9.59 1.41.59.51 0 1.02-.2 1.41-.59l7.78-7.78 2.81-2.81c.8-.78.8-2.07 0-2.86zM5.41 20L4 18.59l7.72-7.72 1.47 1.35L5.41 20z\"/>\n",
       "  </svg>\n",
       "      </button>\n",
       "      \n",
       "  <style>\n",
       "    .colab-df-container {\n",
       "      display:flex;\n",
       "      flex-wrap:wrap;\n",
       "      gap: 12px;\n",
       "    }\n",
       "\n",
       "    .colab-df-convert {\n",
       "      background-color: #E8F0FE;\n",
       "      border: none;\n",
       "      border-radius: 50%;\n",
       "      cursor: pointer;\n",
       "      display: none;\n",
       "      fill: #1967D2;\n",
       "      height: 32px;\n",
       "      padding: 0 0 0 0;\n",
       "      width: 32px;\n",
       "    }\n",
       "\n",
       "    .colab-df-convert:hover {\n",
       "      background-color: #E2EBFA;\n",
       "      box-shadow: 0px 1px 2px rgba(60, 64, 67, 0.3), 0px 1px 3px 1px rgba(60, 64, 67, 0.15);\n",
       "      fill: #174EA6;\n",
       "    }\n",
       "\n",
       "    [theme=dark] .colab-df-convert {\n",
       "      background-color: #3B4455;\n",
       "      fill: #D2E3FC;\n",
       "    }\n",
       "\n",
       "    [theme=dark] .colab-df-convert:hover {\n",
       "      background-color: #434B5C;\n",
       "      box-shadow: 0px 1px 3px 1px rgba(0, 0, 0, 0.15);\n",
       "      filter: drop-shadow(0px 1px 2px rgba(0, 0, 0, 0.3));\n",
       "      fill: #FFFFFF;\n",
       "    }\n",
       "  </style>\n",
       "\n",
       "      <script>\n",
       "        const buttonEl =\n",
       "          document.querySelector('#df-2ba64b3e-912c-4cbd-881f-3abe494e83e9 button.colab-df-convert');\n",
       "        buttonEl.style.display =\n",
       "          google.colab.kernel.accessAllowed ? 'block' : 'none';\n",
       "\n",
       "        async function convertToInteractive(key) {\n",
       "          const element = document.querySelector('#df-2ba64b3e-912c-4cbd-881f-3abe494e83e9');\n",
       "          const dataTable =\n",
       "            await google.colab.kernel.invokeFunction('convertToInteractive',\n",
       "                                                     [key], {});\n",
       "          if (!dataTable) return;\n",
       "\n",
       "          const docLinkHtml = 'Like what you see? Visit the ' +\n",
       "            '<a target=\"_blank\" href=https://colab.research.google.com/notebooks/data_table.ipynb>data table notebook</a>'\n",
       "            + ' to learn more about interactive tables.';\n",
       "          element.innerHTML = '';\n",
       "          dataTable['output_type'] = 'display_data';\n",
       "          await google.colab.output.renderOutput(dataTable, element);\n",
       "          const docLink = document.createElement('div');\n",
       "          docLink.innerHTML = docLinkHtml;\n",
       "          element.appendChild(docLink);\n",
       "        }\n",
       "      </script>\n",
       "    </div>\n",
       "  </div>\n",
       "  "
      ],
      "text/plain": [
       "       y_act  y_pred\n",
       "14001      0       0\n",
       "32046      1       0\n",
       "13318      0       0\n",
       "42991      0       0\n",
       "14237      0       0"
      ]
     },
     "execution_count": 104,
     "metadata": {},
     "output_type": "execute_result"
    }
   ],
   "source": [
    "y_pred = model_ht_tuned.predict(X_test)\n",
    "\n",
    "result = pd.DataFrame()\n",
    "result[\"y_act\"] = y_test\n",
    "result[\"y_pred\"] = y_pred\n",
    "result.head()"
   ]
  },
  {
   "cell_type": "code",
   "execution_count": 105,
   "id": "d0763ef3-773b-4e59-9e95-2048748e2d72",
   "metadata": {
    "id": "d0763ef3-773b-4e59-9e95-2048748e2d72"
   },
   "outputs": [],
   "source": [
    "DT_cols = X_train.columns.tolist()"
   ]
  },
  {
   "cell_type": "code",
   "execution_count": 106,
   "id": "766a641a-6b51-46c9-b626-00fb1e17c74a",
   "metadata": {
    "colab": {
     "base_uri": "https://localhost:8080/",
     "height": 575
    },
    "id": "766a641a-6b51-46c9-b626-00fb1e17c74a",
    "outputId": "10e3d6ac-1523-400b-a21e-213b73c1c0ea"
   },
   "outputs": [
    {
     "data": {
      "image/png": "[encoded data removed]",
      "text/plain": [
       "<Figure size 1440x720 with 1 Axes>"
      ]
     },
     "metadata": {
      "needs_background": "light"
     },
     "output_type": "display_data"
    }
   ],
   "source": [
    "plt.figure(figsize=(20, 10))\n",
    "plot_tree(model_ht_tuned,\n",
    "          feature_names=DT_cols, impurity=True,\n",
    "          fontsize=10, max_depth=3,\n",
    "          filled=True)\n",
    "plt.show()"
   ]
  },
  {
   "cell_type": "markdown",
   "id": "QSNN0AbYCjZ7",
   "metadata": {
    "id": "QSNN0AbYCjZ7"
   },
   "source": [
    "#### Report\n"
   ]
  },
  {
   "cell_type": "markdown",
   "id": "5D2d_FUwpNrX",
   "metadata": {
    "id": "5D2d_FUwpNrX"
   },
   "source": [
    "Display cross validation score, confusion matrix, classification report, AUC score, and train & test score"
   ]
  },
  {
   "cell_type": "code",
   "execution_count": 107,
   "id": "dAEtlJysDORW",
   "metadata": {
    "colab": {
     "base_uri": "https://localhost:8080/"
    },
    "id": "dAEtlJysDORW",
    "outputId": "e42ec1f7-5334-4974-e1f9-d4a79b830a58"
   },
   "outputs": [
    {
     "name": "stdout",
     "output_type": "stream",
     "text": [
      "fold no. - 0, score: 0.89\n",
      "fold no. - 1, score: 0.89\n",
      "fold no. - 2, score: 0.9\n",
      "fold no. - 3, score: 0.89\n",
      "fold no. - 4, score: 0.89\n"
     ]
    }
   ],
   "source": [
    "scores_train = cross_val_score(model_ht_tuned, X_train, y_train, scoring='accuracy', cv=5)\n",
    "for i, j in enumerate(scores_train):\n",
    "    print(f\"fold no. - {i}, score: {round(j, 2)}\")"
   ]
  },
  {
   "cell_type": "code",
   "execution_count": 108,
   "id": "9F3WH9sqDORW",
   "metadata": {
    "colab": {
     "base_uri": "https://localhost:8080/"
    },
    "id": "9F3WH9sqDORW",
    "outputId": "7e51490a-cb81-475e-8498-b17652b0d196"
   },
   "outputs": [
    {
     "name": "stdout",
     "output_type": "stream",
     "text": [
      "fold no. - 0, score: 0.89\n",
      "fold no. - 1, score: 0.89\n",
      "fold no. - 2, score: 0.9\n",
      "fold no. - 3, score: 0.89\n",
      "fold no. - 4, score: 0.89\n"
     ]
    }
   ],
   "source": [
    "scores_test = cross_validate(model_ht_tuned, X_train, y_train, cv=5)\n",
    "for i, j in enumerate(scores_test[\"test_score\"]):\n",
    "    print(f\"fold no. - {i}, score: {round(j, 2)}\")"
   ]
  },
  {
   "cell_type": "code",
   "execution_count": 109,
   "id": "SsbqsfoyDORW",
   "metadata": {
    "colab": {
     "base_uri": "https://localhost:8080/",
     "height": 320
    },
    "id": "SsbqsfoyDORW",
    "outputId": "acbfa872-6f92-4fce-d1f7-5c1f1b22c6bc"
   },
   "outputs": [
    {
     "data": {
      "image/png": "[encoded data removed]",
      "text/plain": [
       "<Figure size 504x360 with 1 Axes>"
      ]
     },
     "metadata": {
      "needs_background": "light"
     },
     "output_type": "display_data"
    }
   ],
   "source": [
    "plt.figure(figsize=(7, 5))\n",
    "sns.lineplot(data=scores_train, label=\"Train\", marker=\"o\")\n",
    "sns.lineplot(data=scores_test[\"test_score\"], label=\"Test\", marker=\"o\")\n",
    "plt.show()"
   ]
  },
  {
   "cell_type": "code",
   "execution_count": 110,
   "id": "Wb7Vd5uUDORX",
   "metadata": {
    "colab": {
     "base_uri": "https://localhost:8080/",
     "height": 334
    },
    "id": "Wb7Vd5uUDORX",
    "outputId": "844eb269-ea9a-4ee6-a62f-3772b2e30df3"
   },
   "outputs": [
    {
     "data": {
      "image/png": "[encoded data removed]",
      "text/plain": [
       "<Figure size 576x360 with 2 Axes>"
      ]
     },
     "metadata": {
      "needs_background": "light"
     },
     "output_type": "display_data"
    }
   ],
   "source": [
    "f, ax = plt.subplots(figsize=(8, 5))\n",
    "sns.heatmap(confusion_matrix(y_test, y_pred), annot=True, fmt='.0f', ax=ax)\n",
    "plt.xlabel('Prediction')\n",
    "plt.ylabel('Actual')\n",
    "plt.show()"
   ]
  },
  {
   "cell_type": "code",
   "execution_count": 111,
   "id": "UBs3F0ObDORX",
   "metadata": {
    "colab": {
     "base_uri": "https://localhost:8080/"
    },
    "id": "UBs3F0ObDORX",
    "outputId": "67ffaf5d-8ec4-474f-e320-ad1022075987"
   },
   "outputs": [
    {
     "name": "stdout",
     "output_type": "stream",
     "text": [
      "              precision    recall  f1-score   support\n",
      "\n",
      "           0       0.90      0.99      0.94      7980\n",
      "           1       0.63      0.17      0.27      1063\n",
      "\n",
      "    accuracy                           0.89      9043\n",
      "   macro avg       0.76      0.58      0.60      9043\n",
      "weighted avg       0.87      0.89      0.86      9043\n",
      "\n"
     ]
    }
   ],
   "source": [
    "y_pred_ht_tuned = model_ht_tuned.predict(X_test)\n",
    "print(classification_report(y_test, y_pred_ht_tuned))"
   ]
  },
  {
   "cell_type": "code",
   "execution_count": 112,
   "id": "sTX6ViOEDORX",
   "metadata": {
    "id": "sTX6ViOEDORX"
   },
   "outputs": [],
   "source": [
    "def plot_roc_curve(true_y, y_prob, labels):\n",
    "    fpr, tpr, thresholds = roc_curve(true_y, y_prob)\n",
    "    sns.lineplot(fpr, tpr, label=labels)\n",
    "    plt.xlabel('False Positive Rate')\n",
    "    plt.ylabel('True Positive Rate')"
   ]
  },
  {
   "cell_type": "code",
   "execution_count": 113,
   "id": "idwWhzJCDORX",
   "metadata": {
    "colab": {
     "base_uri": "https://localhost:8080/",
     "height": 331
    },
    "id": "idwWhzJCDORX",
    "outputId": "87d02cd6-0972-4116-80d4-9c8e47813fd7"
   },
   "outputs": [
    {
     "name": "stdout",
     "output_type": "stream",
     "text": [
      "\n",
      "model AUC score: 0.5788398559899278\n",
      "\n"
     ]
    },
    {
     "data": {
      "image/png": "[encoded data removed]",
      "text/plain": [
       "<Figure size 432x288 with 1 Axes>"
      ]
     },
     "metadata": {
      "needs_background": "light"
     },
     "output_type": "display_data"
    }
   ],
   "source": [
    "plot_roc_curve(y_test, y_pred_ht_tuned, \"AUC Score\")\n",
    "print(f\"\\nmodel AUC score: {roc_auc_score(y_test, y_pred_ht_tuned)}\\n\")\n",
    "plt.show()"
   ]
  },
  {
   "cell_type": "code",
   "execution_count": 114,
   "id": "t4MCVEurDORX",
   "metadata": {
    "colab": {
     "base_uri": "https://localhost:8080/",
     "height": 112
    },
    "id": "t4MCVEurDORX",
    "outputId": "6ca04e8d-730f-46b4-cb9a-8c75430ca2f8"
   },
   "outputs": [
    {
     "data": {
      "text/html": [
       "\n",
       "  <div id=\"df-4c3e3c2a-4356-41f5-8a6a-8f0eebc8948a\">\n",
       "    <div class=\"colab-df-container\">\n",
       "      <div>\n",
       "<style scoped>\n",
       "    .dataframe tbody tr th:only-of-type {\n",
       "        vertical-align: middle;\n",
       "    }\n",
       "\n",
       "    .dataframe tbody tr th {\n",
       "        vertical-align: top;\n",
       "    }\n",
       "\n",
       "    .dataframe thead th {\n",
       "        text-align: right;\n",
       "    }\n",
       "</style>\n",
       "<table border=\"1\" class=\"dataframe\">\n",
       "  <thead>\n",
       "    <tr style=\"text-align: right;\">\n",
       "      <th></th>\n",
       "      <th>Score (%)</th>\n",
       "    </tr>\n",
       "  </thead>\n",
       "  <tbody>\n",
       "    <tr>\n",
       "      <th>Model Score in Data Train</th>\n",
       "      <td>89.396704</td>\n",
       "    </tr>\n",
       "    <tr>\n",
       "      <th>Model Score in Data Test</th>\n",
       "      <td>89.063364</td>\n",
       "    </tr>\n",
       "  </tbody>\n",
       "</table>\n",
       "</div>\n",
       "      <button class=\"colab-df-convert\" onclick=\"convertToInteractive('df-4c3e3c2a-4356-41f5-8a6a-8f0eebc8948a')\"\n",
       "              title=\"Convert this dataframe to an interactive table.\"\n",
       "              style=\"display:none;\">\n",
       "        \n",
       "  <svg xmlns=\"http://www.w3.org/2000/svg\" height=\"24px\"viewBox=\"0 0 24 24\"\n",
       "       width=\"24px\">\n",
       "    <path d=\"M0 0h24v24H0V0z\" fill=\"none\"/>\n",
       "    <path d=\"M18.56 5.44l.94 2.06.94-2.06 2.06-.94-2.06-.94-.94-2.06-.94 2.06-2.06.94zm-11 1L8.5 8.5l.94-2.06 2.06-.94-2.06-.94L8.5 2.5l-.94 2.06-2.06.94zm10 10l.94 2.06.94-2.06 2.06-.94-2.06-.94-.94-2.06-.94 2.06-2.06.94z\"/><path d=\"M17.41 7.96l-1.37-1.37c-.4-.4-.92-.59-1.43-.59-.52 0-1.04.2-1.43.59L10.3 9.45l-7.72 7.72c-.78.78-.78 2.05 0 2.83L4 21.41c.39.39.9.59 1.41.59.51 0 1.02-.2 1.41-.59l7.78-7.78 2.81-2.81c.8-.78.8-2.07 0-2.86zM5.41 20L4 18.59l7.72-7.72 1.47 1.35L5.41 20z\"/>\n",
       "  </svg>\n",
       "      </button>\n",
       "      \n",
       "  <style>\n",
       "    .colab-df-container {\n",
       "      display:flex;\n",
       "      flex-wrap:wrap;\n",
       "      gap: 12px;\n",
       "    }\n",
       "\n",
       "    .colab-df-convert {\n",
       "      background-color: #E8F0FE;\n",
       "      border: none;\n",
       "      border-radius: 50%;\n",
       "      cursor: pointer;\n",
       "      display: none;\n",
       "      fill: #1967D2;\n",
       "      height: 32px;\n",
       "      padding: 0 0 0 0;\n",
       "      width: 32px;\n",
       "    }\n",
       "\n",
       "    .colab-df-convert:hover {\n",
       "      background-color: #E2EBFA;\n",
       "      box-shadow: 0px 1px 2px rgba(60, 64, 67, 0.3), 0px 1px 3px 1px rgba(60, 64, 67, 0.15);\n",
       "      fill: #174EA6;\n",
       "    }\n",
       "\n",
       "    [theme=dark] .colab-df-convert {\n",
       "      background-color: #3B4455;\n",
       "      fill: #D2E3FC;\n",
       "    }\n",
       "\n",
       "    [theme=dark] .colab-df-convert:hover {\n",
       "      background-color: #434B5C;\n",
       "      box-shadow: 0px 1px 3px 1px rgba(0, 0, 0, 0.15);\n",
       "      filter: drop-shadow(0px 1px 2px rgba(0, 0, 0, 0.3));\n",
       "      fill: #FFFFFF;\n",
       "    }\n",
       "  </style>\n",
       "\n",
       "      <script>\n",
       "        const buttonEl =\n",
       "          document.querySelector('#df-4c3e3c2a-4356-41f5-8a6a-8f0eebc8948a button.colab-df-convert');\n",
       "        buttonEl.style.display =\n",
       "          google.colab.kernel.accessAllowed ? 'block' : 'none';\n",
       "\n",
       "        async function convertToInteractive(key) {\n",
       "          const element = document.querySelector('#df-4c3e3c2a-4356-41f5-8a6a-8f0eebc8948a');\n",
       "          const dataTable =\n",
       "            await google.colab.kernel.invokeFunction('convertToInteractive',\n",
       "                                                     [key], {});\n",
       "          if (!dataTable) return;\n",
       "\n",
       "          const docLinkHtml = 'Like what you see? Visit the ' +\n",
       "            '<a target=\"_blank\" href=https://colab.research.google.com/notebooks/data_table.ipynb>data table notebook</a>'\n",
       "            + ' to learn more about interactive tables.';\n",
       "          element.innerHTML = '';\n",
       "          dataTable['output_type'] = 'display_data';\n",
       "          await google.colab.output.renderOutput(dataTable, element);\n",
       "          const docLink = document.createElement('div');\n",
       "          docLink.innerHTML = docLinkHtml;\n",
       "          element.appendChild(docLink);\n",
       "        }\n",
       "      </script>\n",
       "    </div>\n",
       "  </div>\n",
       "  "
      ],
      "text/plain": [
       "                           Score (%)\n",
       "Model Score in Data Train  89.396704\n",
       "Model Score in Data Test   89.063364"
      ]
     },
     "execution_count": 114,
     "metadata": {},
     "output_type": "execute_result"
    }
   ],
   "source": [
    "pd.DataFrame(data=[model_ht_tuned.score(X_train, y_train)*100,\n",
    "                   model_ht_tuned.score(X_test, y_test)*100],\n",
    "             index=['Model Score in Data Train', 'Model Score in Data Test'],\n",
    "             columns=['Score (%)'])"
   ]
  },
  {
   "cell_type": "markdown",
   "id": "7a78a9d5-d9af-49c8-8e56-db52e9ae491d",
   "metadata": {
    "id": "7a78a9d5-d9af-49c8-8e56-db52e9ae491d",
    "tags": []
   },
   "source": [
    "## ENSEMBLE LEARNING"
   ]
  },
  {
   "cell_type": "markdown",
   "id": "L7ThzBox9lLy",
   "metadata": {
    "id": "L7ThzBox9lLy"
   },
   "source": [
    "Using Random Forest, ExtraTreesClassifier, AdaBoost Classifier, and Gradient Boosting Classifier models to see which model works best"
   ]
  },
  {
   "cell_type": "code",
   "execution_count": 115,
   "id": "126a120d-71a4-4a38-b185-3c5b3643188d",
   "metadata": {
    "id": "126a120d-71a4-4a38-b185-3c5b3643188d"
   },
   "outputs": [],
   "source": [
    "rf_pipe = Pipeline([('model', RandomForestClassifier())])\n",
    "et_pipe = Pipeline([('model', ExtraTreesClassifier())])\n",
    "ab_pipe = Pipeline([('model', AdaBoostClassifier())])\n",
    "gb_pipe = Pipeline([('model', GradientBoostingClassifier())])"
   ]
  },
  {
   "cell_type": "code",
   "execution_count": 116,
   "id": "40d30eb6-3c8a-413e-91da-06cadbe4371e",
   "metadata": {
    "colab": {
     "base_uri": "https://localhost:8080/"
    },
    "id": "40d30eb6-3c8a-413e-91da-06cadbe4371e",
    "outputId": "68a331c6-d33b-492b-cceb-c9bfbdcb9db8"
   },
   "outputs": [
    {
     "data": {
      "text/plain": [
       "[Pipeline(steps=[('model', RandomForestClassifier())]),\n",
       " Pipeline(steps=[('model', ExtraTreesClassifier())]),\n",
       " Pipeline(steps=[('model', AdaBoostClassifier())]),\n",
       " Pipeline(steps=[('model', GradientBoostingClassifier())])]"
      ]
     },
     "execution_count": 116,
     "metadata": {},
     "output_type": "execute_result"
    }
   ],
   "source": [
    "models = [rf_pipe, et_pipe, ab_pipe, gb_pipe]\n",
    "models"
   ]
  },
  {
   "cell_type": "code",
   "execution_count": 117,
   "id": "67e3be81-f29e-45bc-9908-f5e4a7e1fb92",
   "metadata": {
    "id": "67e3be81-f29e-45bc-9908-f5e4a7e1fb92"
   },
   "outputs": [],
   "source": [
    "def cv_score(model, data_x, data_y, scoring, n):\n",
    "    cv = KFold(n_splits=n, shuffle=False)\n",
    "    scores_train = cross_val_score(model, data_x, data_y, scoring=scoring, cv=cv)\n",
    "    scores_test = cross_validate(model, data_x, data_y, cv=n)\n",
    "\n",
    "    return scores_train.mean(), scores_test[\"test_score\"].mean()"
   ]
  },
  {
   "cell_type": "code",
   "execution_count": 118,
   "id": "8b93a2de-c201-46df-a6e6-552e78ba8267",
   "metadata": {
    "colab": {
     "base_uri": "https://localhost:8080/"
    },
    "id": "8b93a2de-c201-46df-a6e6-552e78ba8267",
    "outputId": "b4ee89a7-1c17-4d1a-cb46-0243a812744b",
    "tags": []
   },
   "outputs": [
    {
     "name": "stdout",
     "output_type": "stream",
     "text": [
      "ensemble model 0\n",
      "              precision    recall  f1-score   support\n",
      "\n",
      "           0       0.90      0.97      0.94      7980\n",
      "           1       0.49      0.20      0.28      1063\n",
      "\n",
      "    accuracy                           0.88      9043\n",
      "   macro avg       0.70      0.59      0.61      9043\n",
      "weighted avg       0.85      0.88      0.86      9043\n",
      "\n",
      "CV: (0.5000375031702192, 0.8823821110513164)\n",
      "ensemble model 1\n",
      "              precision    recall  f1-score   support\n",
      "\n",
      "           0       0.90      0.95      0.92      7980\n",
      "           1       0.36      0.21      0.27      1063\n",
      "\n",
      "    accuracy                           0.86      9043\n",
      "   macro avg       0.63      0.58      0.60      9043\n",
      "weighted avg       0.84      0.86      0.85      9043\n",
      "\n",
      "CV: (0.37205991619414513, 0.8665117803040857)\n",
      "ensemble model 2\n",
      "              precision    recall  f1-score   support\n",
      "\n",
      "           0       0.90      0.99      0.94      7980\n",
      "           1       0.62      0.16      0.25      1063\n",
      "\n",
      "    accuracy                           0.89      9043\n",
      "   macro avg       0.76      0.57      0.60      9043\n",
      "weighted avg       0.87      0.89      0.86      9043\n",
      "\n",
      "CV: (0.6734365117684356, 0.8926122366151116)\n",
      "ensemble model 3\n",
      "              precision    recall  f1-score   support\n",
      "\n",
      "           0       0.90      0.99      0.94      7980\n",
      "           1       0.64      0.17      0.26      1063\n",
      "\n",
      "    accuracy                           0.89      9043\n",
      "   macro avg       0.77      0.58      0.60      9043\n",
      "weighted avg       0.87      0.89      0.86      9043\n",
      "\n",
      "CV: (0.6660607252106997, 0.8928610768976905)\n"
     ]
    }
   ],
   "source": [
    "for i in range(len(models)):\n",
    "    models[i].fit(X_train, y_train)\n",
    "    preds = models[i].predict(X_test)\n",
    "    print(\"ensemble model\", i)\n",
    "    print(classification_report(y_test, preds))\n",
    "    print(\"CV:\", cv_score(models[i], X_train, y_train, \"precision\", 5))"
   ]
  },
  {
   "cell_type": "markdown",
   "id": "KsAcYVWIHPdd",
   "metadata": {
    "id": "KsAcYVWIHPdd"
   },
   "source": [
    "Gradient Boosting has the highest precision of all the other models, so in this case you can use gradient boosting as the main model."
   ]
  },
  {
   "cell_type": "markdown",
   "id": "GU5l-osRtvv6",
   "metadata": {
    "id": "GU5l-osRtvv6"
   },
   "source": [
    "### Optimize"
   ]
  },
  {
   "cell_type": "markdown",
   "id": "zKgn_fqouCyB",
   "metadata": {
    "id": "zKgn_fqouCyB"
   },
   "source": [
    "#### Hypermarameter Tuning"
   ]
  },
  {
   "cell_type": "markdown",
   "id": "nXXCcWn2uCyC",
   "metadata": {
    "id": "nXXCcWn2uCyC"
   },
   "source": [
    "Looking for the best hyperparameter, so that the percentage in classification can increase"
   ]
  },
  {
   "cell_type": "code",
   "execution_count": 124,
   "id": "-cs1CSD2uCyC",
   "metadata": {
    "id": "-cs1CSD2uCyC"
   },
   "outputs": [],
   "source": [
    "param = {\"n_estimators\": [i for i in range(1, 300)],\n",
    "         \"max_depth\": [1, 3, 5, 7],\n",
    "         \"learning_rate\": [0.01, 0.1, 1, 10, 100]}"
   ]
  },
  {
   "cell_type": "code",
   "execution_count": 125,
   "id": "TAsGJTx-u_H4",
   "metadata": {
    "id": "TAsGJTx-u_H4"
   },
   "outputs": [],
   "source": [
    "model = GradientBoostingClassifier()"
   ]
  },
  {
   "cell_type": "code",
   "execution_count": 126,
   "id": "np3-hpnYuCyC",
   "metadata": {
    "id": "np3-hpnYuCyC"
   },
   "outputs": [],
   "source": [
    "model_ht = RandomizedSearchCV(estimator=model, param_distributions=param, cv=5, scoring=\"f1\")"
   ]
  },
  {
   "cell_type": "markdown",
   "id": "RXZmr-xauCyC",
   "metadata": {
    "id": "RXZmr-xauCyC"
   },
   "source": [
    "##### Grid Search"
   ]
  },
  {
   "cell_type": "markdown",
   "id": "WIZB6G_buCyC",
   "metadata": {
    "id": "WIZB6G_buCyC"
   },
   "source": [
    "Perform hyperparameter tuning process with random search"
   ]
  },
  {
   "cell_type": "code",
   "execution_count": 127,
   "id": "rhJgaM9suCyC",
   "metadata": {
    "colab": {
     "base_uri": "https://localhost:8080/"
    },
    "id": "rhJgaM9suCyC",
    "outputId": "844f2f92-17fa-4fc8-b8a8-0f6aa264ee2e"
   },
   "outputs": [
    {
     "data": {
      "text/plain": [
       "RandomizedSearchCV(cv=5, estimator=GradientBoostingClassifier(),\n",
       "                   param_distributions={'learning_rate': [0.01, 0.1, 1, 10,\n",
       "                                                          100],\n",
       "                                        'max_depth': [1, 3, 5, 7],\n",
       "                                        'n_estimators': [1, 2, 3, 4, 5, 6, 7, 8,\n",
       "                                                         9, 10, 11, 12, 13, 14,\n",
       "                                                         15, 16, 17, 18, 19, 20,\n",
       "                                                         21, 22, 23, 24, 25, 26,\n",
       "                                                         27, 28, 29, 30, ...]},\n",
       "                   scoring='f1')"
      ]
     },
     "execution_count": 127,
     "metadata": {},
     "output_type": "execute_result"
    }
   ],
   "source": [
    "model_ht.fit(X_train, y_train)"
   ]
  },
  {
   "cell_type": "code",
   "execution_count": 128,
   "id": "-3p6JXBOuCyC",
   "metadata": {
    "colab": {
     "base_uri": "https://localhost:8080/"
    },
    "id": "-3p6JXBOuCyC",
    "outputId": "6671eb45-3983-40f8-ab6b-c9f84efdce34"
   },
   "outputs": [
    {
     "data": {
      "text/plain": [
       "{'n_estimators': 221, 'max_depth': 1, 'learning_rate': 10}"
      ]
     },
     "execution_count": 128,
     "metadata": {},
     "output_type": "execute_result"
    }
   ],
   "source": [
    "model_ht.best_params_"
   ]
  },
  {
   "cell_type": "code",
   "execution_count": 130,
   "id": "l2QB2LhZuCyD",
   "metadata": {
    "colab": {
     "base_uri": "https://localhost:8080/"
    },
    "id": "l2QB2LhZuCyD",
    "outputId": "9fb189f9-3000-4481-97b9-7e05e20af0fc"
   },
   "outputs": [
    {
     "data": {
      "text/plain": [
       "GradientBoostingClassifier(learning_rate=10, max_depth=1, n_estimators=221)"
      ]
     },
     "execution_count": 130,
     "metadata": {},
     "output_type": "execute_result"
    }
   ],
   "source": [
    "model_ht_tuned = GradientBoostingClassifier(n_estimators=221, max_depth=1, learning_rate=10)\n",
    "model_ht_tuned.fit(X_train, y_train)"
   ]
  },
  {
   "cell_type": "markdown",
   "id": "V_60dhb-uCyD",
   "metadata": {
    "id": "V_60dhb-uCyD"
   },
   "source": [
    "#### Report"
   ]
  },
  {
   "cell_type": "markdown",
   "id": "1orEsbzSuCyD",
   "metadata": {
    "id": "1orEsbzSuCyD"
   },
   "source": [
    "Displays cross validation on train and test data, correlation matrix, AUC score, and train & test score"
   ]
  },
  {
   "cell_type": "code",
   "execution_count": 131,
   "id": "SRLXFTn1uCyD",
   "metadata": {
    "colab": {
     "base_uri": "https://localhost:8080/"
    },
    "id": "SRLXFTn1uCyD",
    "outputId": "4045f67a-c607-4bd0-fd64-1ebe9a964fa1"
   },
   "outputs": [
    {
     "name": "stdout",
     "output_type": "stream",
     "text": [
      "fold no. - 0, score: 0.89\n",
      "fold no. - 1, score: 0.89\n",
      "fold no. - 2, score: 0.9\n",
      "fold no. - 3, score: 0.9\n",
      "fold no. - 4, score: 0.89\n"
     ]
    }
   ],
   "source": [
    "scores_train = cross_val_score(model_ht_tuned, X_train, y_train, scoring='accuracy', cv=5)\n",
    "for i, j in enumerate(scores_train):\n",
    "    print(f\"fold no. - {i}, score: {round(j, 2)}\")"
   ]
  },
  {
   "cell_type": "code",
   "execution_count": 132,
   "id": "xVLysabMuCyD",
   "metadata": {
    "colab": {
     "base_uri": "https://localhost:8080/"
    },
    "id": "xVLysabMuCyD",
    "outputId": "6b8aac38-c7e2-4ab8-ab3f-9a667f79844f"
   },
   "outputs": [
    {
     "name": "stdout",
     "output_type": "stream",
     "text": [
      "fold no. - 0, score: 0.89\n",
      "fold no. - 1, score: 0.89\n",
      "fold no. - 2, score: 0.9\n",
      "fold no. - 3, score: 0.9\n",
      "fold no. - 4, score: 0.89\n"
     ]
    }
   ],
   "source": [
    "scores_test = cross_validate(model_ht_tuned, X_train, y_train, cv=5)\n",
    "for i, j in enumerate(scores_test[\"test_score\"]):\n",
    "    print(f\"fold no. - {i}, score: {round(j, 2)}\")"
   ]
  },
  {
   "cell_type": "code",
   "execution_count": 133,
   "id": "s6BurCKSuCyD",
   "metadata": {
    "colab": {
     "base_uri": "https://localhost:8080/",
     "height": 320
    },
    "id": "s6BurCKSuCyD",
    "outputId": "68a03da7-d244-4118-ce73-8c4df486adbf"
   },
   "outputs": [
    {
     "data": {
      "image/png": "[encoded data removed]",
      "text/plain": [
       "<Figure size 504x360 with 1 Axes>"
      ]
     },
     "metadata": {
      "needs_background": "light"
     },
     "output_type": "display_data"
    }
   ],
   "source": [
    "plt.figure(figsize=(7, 5))\n",
    "sns.lineplot(data=scores_train, label=\"Train\", marker=\"o\")\n",
    "sns.lineplot(data=scores_test[\"test_score\"], label=\"Test\", marker=\"o\")\n",
    "plt.show()"
   ]
  },
  {
   "cell_type": "code",
   "execution_count": 134,
   "id": "Z9n1UhMRuCyD",
   "metadata": {
    "colab": {
     "base_uri": "https://localhost:8080/"
    },
    "id": "Z9n1UhMRuCyD",
    "outputId": "585852df-90af-42df-c3b3-038101028196"
   },
   "outputs": [
    {
     "name": "stdout",
     "output_type": "stream",
     "text": [
      "Train Score:  0.8935246484363191\n",
      "Test Score:  0.8935246484363191\n",
      "Score Diff:  0.0\n"
     ]
    }
   ],
   "source": [
    "print(\"Train Score: \", scores_train.mean())\n",
    "print(\"Test Score: \",  scores_test[\"test_score\"].mean())\n",
    "print(\"Score Diff: \", round((scores_train.mean() - scores_test[\"test_score\"].mean())*100, 2))"
   ]
  },
  {
   "cell_type": "code",
   "execution_count": 135,
   "id": "MGrq4bM_uCyD",
   "metadata": {
    "colab": {
     "base_uri": "https://localhost:8080/",
     "height": 334
    },
    "id": "MGrq4bM_uCyD",
    "outputId": "bb1d32a4-d380-48d8-d4a9-82ce9c00f125"
   },
   "outputs": [
    {
     "data": {
      "image/png": "[encoded data removed]",
      "text/plain": [
       "<Figure size 576x360 with 2 Axes>"
      ]
     },
     "metadata": {
      "needs_background": "light"
     },
     "output_type": "display_data"
    }
   ],
   "source": [
    "f, ax = plt.subplots(figsize=(8, 5))\n",
    "sns.heatmap(confusion_matrix(y_test, y_pred), annot=True, fmt='.0f', ax=ax)\n",
    "plt.xlabel('Prediction')\n",
    "plt.ylabel('Actual')\n",
    "plt.show()"
   ]
  },
  {
   "cell_type": "code",
   "execution_count": 136,
   "id": "LBIsPi1ZuCyE",
   "metadata": {
    "colab": {
     "base_uri": "https://localhost:8080/"
    },
    "id": "LBIsPi1ZuCyE",
    "outputId": "3e3bb2b5-c281-4d5d-afdb-ddd8075e11e5"
   },
   "outputs": [
    {
     "name": "stdout",
     "output_type": "stream",
     "text": [
      "              precision    recall  f1-score   support\n",
      "\n",
      "           0       0.90      0.98      0.94      7980\n",
      "           1       0.61      0.19      0.29      1063\n",
      "\n",
      "    accuracy                           0.89      9043\n",
      "   macro avg       0.75      0.59      0.61      9043\n",
      "weighted avg       0.87      0.89      0.86      9043\n",
      "\n"
     ]
    }
   ],
   "source": [
    "y_pred_ht_tuned = model_ht_tuned.predict(X_test)\n",
    "print(classification_report(y_test, y_pred_ht_tuned))"
   ]
  },
  {
   "cell_type": "code",
   "execution_count": 137,
   "id": "WR8IzlHHuCyE",
   "metadata": {
    "id": "WR8IzlHHuCyE"
   },
   "outputs": [],
   "source": [
    "def plot_roc_curve(true_y, y_prob, labels):\n",
    "    fpr, tpr, thresholds = roc_curve(true_y, y_prob)\n",
    "    sns.lineplot(fpr, tpr, label=labels)\n",
    "    plt.xlabel('False Positive Rate')\n",
    "    plt.ylabel('True Positive Rate')"
   ]
  },
  {
   "cell_type": "code",
   "execution_count": 138,
   "id": "hlR-M4t6uCyE",
   "metadata": {
    "colab": {
     "base_uri": "https://localhost:8080/",
     "height": 331
    },
    "id": "hlR-M4t6uCyE",
    "outputId": "7d209342-b2ca-4947-c6e3-478ac5a9548b"
   },
   "outputs": [
    {
     "name": "stdout",
     "output_type": "stream",
     "text": [
      "\n",
      "model AUC score: 0.585112593336587\n",
      "\n"
     ]
    },
    {
     "data": {
      "image/png": "[encoded data removed]",
      "text/plain": [
       "<Figure size 432x288 with 1 Axes>"
      ]
     },
     "metadata": {
      "needs_background": "light"
     },
     "output_type": "display_data"
    }
   ],
   "source": [
    "plot_roc_curve(y_test, y_pred_ht_tuned, \"AUC Score\")\n",
    "print(f\"\\nmodel AUC score: {roc_auc_score(y_test, y_pred_ht_tuned)}\\n\")\n",
    "plt.show()"
   ]
  },
  {
   "cell_type": "code",
   "execution_count": 139,
   "id": "7G-66FsDuCyE",
   "metadata": {
    "colab": {
     "base_uri": "https://localhost:8080/",
     "height": 112
    },
    "id": "7G-66FsDuCyE",
    "outputId": "a9eabf22-6546-4ff2-a86d-ded82b162951"
   },
   "outputs": [
    {
     "data": {
      "text/html": [
       "\n",
       "  <div id=\"df-491b1926-23f3-4c7f-852b-f35fa9bab8ae\">\n",
       "    <div class=\"colab-df-container\">\n",
       "      <div>\n",
       "<style scoped>\n",
       "    .dataframe tbody tr th:only-of-type {\n",
       "        vertical-align: middle;\n",
       "    }\n",
       "\n",
       "    .dataframe tbody tr th {\n",
       "        vertical-align: top;\n",
       "    }\n",
       "\n",
       "    .dataframe thead th {\n",
       "        text-align: right;\n",
       "    }\n",
       "</style>\n",
       "<table border=\"1\" class=\"dataframe\">\n",
       "  <thead>\n",
       "    <tr style=\"text-align: right;\">\n",
       "      <th></th>\n",
       "      <th>Score (%)</th>\n",
       "    </tr>\n",
       "  </thead>\n",
       "  <tbody>\n",
       "    <tr>\n",
       "      <th>Model Score in Data Train</th>\n",
       "      <td>89.352466</td>\n",
       "    </tr>\n",
       "    <tr>\n",
       "      <th>Model Score in Data Test</th>\n",
       "      <td>89.019131</td>\n",
       "    </tr>\n",
       "  </tbody>\n",
       "</table>\n",
       "</div>\n",
       "      <button class=\"colab-df-convert\" onclick=\"convertToInteractive('df-491b1926-23f3-4c7f-852b-f35fa9bab8ae')\"\n",
       "              title=\"Convert this dataframe to an interactive table.\"\n",
       "              style=\"display:none;\">\n",
       "        \n",
       "  <svg xmlns=\"http://www.w3.org/2000/svg\" height=\"24px\"viewBox=\"0 0 24 24\"\n",
       "       width=\"24px\">\n",
       "    <path d=\"M0 0h24v24H0V0z\" fill=\"none\"/>\n",
       "    <path d=\"M18.56 5.44l.94 2.06.94-2.06 2.06-.94-2.06-.94-.94-2.06-.94 2.06-2.06.94zm-11 1L8.5 8.5l.94-2.06 2.06-.94-2.06-.94L8.5 2.5l-.94 2.06-2.06.94zm10 10l.94 2.06.94-2.06 2.06-.94-2.06-.94-.94-2.06-.94 2.06-2.06.94z\"/><path d=\"M17.41 7.96l-1.37-1.37c-.4-.4-.92-.59-1.43-.59-.52 0-1.04.2-1.43.59L10.3 9.45l-7.72 7.72c-.78.78-.78 2.05 0 2.83L4 21.41c.39.39.9.59 1.41.59.51 0 1.02-.2 1.41-.59l7.78-7.78 2.81-2.81c.8-.78.8-2.07 0-2.86zM5.41 20L4 18.59l7.72-7.72 1.47 1.35L5.41 20z\"/>\n",
       "  </svg>\n",
       "      </button>\n",
       "      \n",
       "  <style>\n",
       "    .colab-df-container {\n",
       "      display:flex;\n",
       "      flex-wrap:wrap;\n",
       "      gap: 12px;\n",
       "    }\n",
       "\n",
       "    .colab-df-convert {\n",
       "      background-color: #E8F0FE;\n",
       "      border: none;\n",
       "      border-radius: 50%;\n",
       "      cursor: pointer;\n",
       "      display: none;\n",
       "      fill: #1967D2;\n",
       "      height: 32px;\n",
       "      padding: 0 0 0 0;\n",
       "      width: 32px;\n",
       "    }\n",
       "\n",
       "    .colab-df-convert:hover {\n",
       "      background-color: #E2EBFA;\n",
       "      box-shadow: 0px 1px 2px rgba(60, 64, 67, 0.3), 0px 1px 3px 1px rgba(60, 64, 67, 0.15);\n",
       "      fill: #174EA6;\n",
       "    }\n",
       "\n",
       "    [theme=dark] .colab-df-convert {\n",
       "      background-color: #3B4455;\n",
       "      fill: #D2E3FC;\n",
       "    }\n",
       "\n",
       "    [theme=dark] .colab-df-convert:hover {\n",
       "      background-color: #434B5C;\n",
       "      box-shadow: 0px 1px 3px 1px rgba(0, 0, 0, 0.15);\n",
       "      filter: drop-shadow(0px 1px 2px rgba(0, 0, 0, 0.3));\n",
       "      fill: #FFFFFF;\n",
       "    }\n",
       "  </style>\n",
       "\n",
       "      <script>\n",
       "        const buttonEl =\n",
       "          document.querySelector('#df-491b1926-23f3-4c7f-852b-f35fa9bab8ae button.colab-df-convert');\n",
       "        buttonEl.style.display =\n",
       "          google.colab.kernel.accessAllowed ? 'block' : 'none';\n",
       "\n",
       "        async function convertToInteractive(key) {\n",
       "          const element = document.querySelector('#df-491b1926-23f3-4c7f-852b-f35fa9bab8ae');\n",
       "          const dataTable =\n",
       "            await google.colab.kernel.invokeFunction('convertToInteractive',\n",
       "                                                     [key], {});\n",
       "          if (!dataTable) return;\n",
       "\n",
       "          const docLinkHtml = 'Like what you see? Visit the ' +\n",
       "            '<a target=\"_blank\" href=https://colab.research.google.com/notebooks/data_table.ipynb>data table notebook</a>'\n",
       "            + ' to learn more about interactive tables.';\n",
       "          element.innerHTML = '';\n",
       "          dataTable['output_type'] = 'display_data';\n",
       "          await google.colab.output.renderOutput(dataTable, element);\n",
       "          const docLink = document.createElement('div');\n",
       "          docLink.innerHTML = docLinkHtml;\n",
       "          element.appendChild(docLink);\n",
       "        }\n",
       "      </script>\n",
       "    </div>\n",
       "  </div>\n",
       "  "
      ],
      "text/plain": [
       "                           Score (%)\n",
       "Model Score in Data Train  89.352466\n",
       "Model Score in Data Test   89.019131"
      ]
     },
     "execution_count": 139,
     "metadata": {},
     "output_type": "execute_result"
    }
   ],
   "source": [
    "pd.DataFrame(data=[model_ht_tuned.score(X_train, y_train)*100,\n",
    "                   model_ht_tuned.score(X_test, y_test)*100],\n",
    "             index=['Model Score in Data Train', 'Model Score in Data Test'],\n",
    "             columns=['Score (%)'])"
   ]
  },
  {
   "cell_type": "markdown",
   "id": "5636a41d-6b2b-484c-b127-77e83a0fb203",
   "metadata": {},
   "source": [
    "## Summary"
   ]
  },
  {
   "cell_type": "markdown",
   "id": "9b3e2168-4eb6-4f05-8dac-4a405714bab6",
   "metadata": {},
   "source": [
    "> In the logistic regression model, it is found that unoptimized logistic regression gets a value of 0.60 in its precision. While the optimized logistic regression gets a value of 0.59 in its precision. So that the unoptimized logistic regression is better than the optimized one, where the optimized one should be better. Preprocessing, Feature Engineering, and data range during hyperparameter tuning can affect the precision value, so further experiments are needed to increase the precision value when optimized.\n",
    "\n",
    "> In the decision tree model, the precision results are 0.25, this value is very small and optimization is needed with hyperparameter tuning. After doing hyperparameter tuning, a precision result of 0.63 is obtained, where the precision value increases and is considered successful in performing hyperparameter tuning.\n",
    "\n",
    "> For ensemble learning, it is found that the highest precision value in the gradient boosting model is 0.64, so optimization will be carried out on this model. After optimization, the value of 0.61 is obtained for precision. Precision after optimization drops, the cause is the same as the logistic regression model, where we can experiment again on the preprocessing process, and hyperparameter tuning."
   ]
  }
 ],
 "metadata": {
  "accelerator": "GPU",
  "colab": {
   "collapsed_sections": [],
   "provenance": []
  },
  "gpuClass": "standard",
  "kernelspec": {
   "display_name": "Python 3 (ipykernel)",
   "language": "python",
   "name": "python3"
  },
  "language_info": {
   "codemirror_mode": {
    "name": "ipython",
    "version": 3
   },
   "file_extension": ".py",
   "mimetype": "text/x-python",
   "name": "python",
   "nbconvert_exporter": "python",
   "pygments_lexer": "ipython3",
   "version": "3.9.12"
  }
 },
 "nbformat": 4,
 "nbformat_minor": 5
}
